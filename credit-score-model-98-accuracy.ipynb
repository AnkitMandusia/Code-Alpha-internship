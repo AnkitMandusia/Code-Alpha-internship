{
 "cells": [
  {
   "cell_type": "markdown",
   "id": "49099b07",
   "metadata": {
    "papermill": {
     "duration": 0.008881,
     "end_time": "2024-01-25T11:25:54.174090",
     "exception": false,
     "start_time": "2024-01-25T11:25:54.165209",
     "status": "completed"
    },
    "tags": []
   },
   "source": [
    "# CreditScoring Model\n",
    "### Develop a credit scoring model to predict the creditworthiness of individuals based on historical financial data. Utilize classification algorithms and assess the model's accuracy."
   ]
  },
  {
   "cell_type": "markdown",
   "id": "53a77ddc",
   "metadata": {
    "papermill": {
     "duration": 0.00807,
     "end_time": "2024-01-25T11:25:54.190919",
     "exception": false,
     "start_time": "2024-01-25T11:25:54.182849",
     "status": "completed"
    },
    "tags": []
   },
   "source": [
    "**BASED ON BANK CREDIT SCORING IF THE PERSON GET LOAN APPROVAL OR NOT**"
   ]
  },
  {
   "cell_type": "code",
   "execution_count": 1,
   "id": "fb97822b",
   "metadata": {
    "_cell_guid": "b1076dfc-b9ad-4769-8c92-a6c4dae69d19",
    "_uuid": "8f2839f25d086af736a60e9eeb907d3b93b6e0e5",
    "execution": {
     "iopub.execute_input": "2024-01-25T11:25:54.209615Z",
     "iopub.status.busy": "2024-01-25T11:25:54.209177Z",
     "iopub.status.idle": "2024-01-25T11:25:54.224824Z",
     "shell.execute_reply": "2024-01-25T11:25:54.223961Z"
    },
    "papermill": {
     "duration": 0.028126,
     "end_time": "2024-01-25T11:25:54.227511",
     "exception": false,
     "start_time": "2024-01-25T11:25:54.199385",
     "status": "completed"
    },
    "tags": []
   },
   "outputs": [
    {
     "name": "stdout",
     "output_type": "stream",
     "text": [
      "/kaggle/input/bank-credit-scoring/bank.csv\n",
      "/kaggle/input/bank-credit-scoring/scoring.jpg\n"
     ]
    }
   ],
   "source": [
    "# This Python 3 environment comes with many helpful analytics libraries installed\n",
    "# It is defined by the kaggle/python Docker image: https://github.com/kaggle/docker-python\n",
    "# For example, here's several helpful packages to load\n",
    "\n",
    "import numpy as np # linear algebra\n",
    "import pandas as pd # data processing, CSV file I/O (e.g. pd.read_csv)\n",
    "\n",
    "# Input data files are available in the read-only \"../input/\" directory\n",
    "# For example, running this (by clicking run or pressing Shift+Enter) will list all files under the input directory\n",
    "\n",
    "import os\n",
    "for dirname, _, filenames in os.walk('/kaggle/input'):\n",
    "    for filename in filenames:\n",
    "        print(os.path.join(dirname, filename))\n",
    "\n",
    "# You can write up to 20GB to the current directory (/kaggle/working/) that gets preserved as output when you create a version using \"Save & Run All\" \n",
    "# You can also write temporary files to /kaggle/temp/, but they won't be saved outside of the current session"
   ]
  },
  {
   "cell_type": "code",
   "execution_count": 2,
   "id": "687b8d6f",
   "metadata": {
    "execution": {
     "iopub.execute_input": "2024-01-25T11:25:54.246253Z",
     "iopub.status.busy": "2024-01-25T11:25:54.245815Z",
     "iopub.status.idle": "2024-01-25T11:25:56.590032Z",
     "shell.execute_reply": "2024-01-25T11:25:56.588987Z"
    },
    "papermill": {
     "duration": 2.356812,
     "end_time": "2024-01-25T11:25:56.592895",
     "exception": false,
     "start_time": "2024-01-25T11:25:54.236083",
     "status": "completed"
    },
    "tags": []
   },
   "outputs": [
    {
     "name": "stderr",
     "output_type": "stream",
     "text": [
      "/opt/conda/lib/python3.10/site-packages/scipy/__init__.py:146: UserWarning: A NumPy version >=1.16.5 and <1.23.0 is required for this version of SciPy (detected version 1.23.5\n",
      "  warnings.warn(f\"A NumPy version >={np_minversion} and <{np_maxversion}\"\n"
     ]
    }
   ],
   "source": [
    "#Importing The Required Libraries\n",
    "import pandas as pd\n",
    "import seaborn as sns\n",
    "import numpy as np\n",
    "import matplotlib.pyplot as plt\n",
    "from sklearn.feature_selection import SelectKBest\n",
    "from sklearn.preprocessing import LabelEncoder\n",
    "from sklearn.preprocessing import MinMaxScaler\n",
    "from sklearn.model_selection import train_test_split\n",
    "from sklearn.neighbors import KNeighborsClassifier\n",
    "from sklearn.svm import SVC\n",
    "from sklearn.naive_bayes import GaussianNB\n",
    "from sklearn.tree import DecisionTreeClassifier\n",
    "from sklearn.ensemble import RandomForestClassifier\n",
    "from sklearn.ensemble import AdaBoostClassifier\n",
    "from sklearn.ensemble import GradientBoostingClassifier\n",
    "from xgboost import XGBClassifier\n",
    "import warnings\n",
    "warnings.filterwarnings(\"ignore\")\n",
    "from sklearn.metrics import classification_report,ConfusionMatrixDisplay\n"
   ]
  },
  {
   "cell_type": "code",
   "execution_count": 3,
   "id": "be1a8ae9",
   "metadata": {
    "execution": {
     "iopub.execute_input": "2024-01-25T11:25:56.614321Z",
     "iopub.status.busy": "2024-01-25T11:25:56.613278Z",
     "iopub.status.idle": "2024-01-25T11:25:56.702457Z",
     "shell.execute_reply": "2024-01-25T11:25:56.701145Z"
    },
    "papermill": {
     "duration": 0.101773,
     "end_time": "2024-01-25T11:25:56.705053",
     "exception": false,
     "start_time": "2024-01-25T11:25:56.603280",
     "status": "completed"
    },
    "tags": []
   },
   "outputs": [
    {
     "data": {
      "text/html": [
       "<div>\n",
       "<style scoped>\n",
       "    .dataframe tbody tr th:only-of-type {\n",
       "        vertical-align: middle;\n",
       "    }\n",
       "\n",
       "    .dataframe tbody tr th {\n",
       "        vertical-align: top;\n",
       "    }\n",
       "\n",
       "    .dataframe thead th {\n",
       "        text-align: right;\n",
       "    }\n",
       "</style>\n",
       "<table border=\"1\" class=\"dataframe\">\n",
       "  <thead>\n",
       "    <tr style=\"text-align: right;\">\n",
       "      <th></th>\n",
       "      <th>age</th>\n",
       "      <th>job</th>\n",
       "      <th>marital</th>\n",
       "      <th>education</th>\n",
       "      <th>default</th>\n",
       "      <th>balance</th>\n",
       "      <th>housing</th>\n",
       "      <th>loan</th>\n",
       "      <th>contact</th>\n",
       "      <th>day</th>\n",
       "      <th>month</th>\n",
       "      <th>duration</th>\n",
       "      <th>campaign</th>\n",
       "      <th>pdays</th>\n",
       "      <th>previous</th>\n",
       "      <th>poutcome</th>\n",
       "      <th>y</th>\n",
       "    </tr>\n",
       "  </thead>\n",
       "  <tbody>\n",
       "    <tr>\n",
       "      <th>0</th>\n",
       "      <td>30</td>\n",
       "      <td>unemployed</td>\n",
       "      <td>married</td>\n",
       "      <td>primary</td>\n",
       "      <td>no</td>\n",
       "      <td>1787</td>\n",
       "      <td>no</td>\n",
       "      <td>no</td>\n",
       "      <td>cellular</td>\n",
       "      <td>19</td>\n",
       "      <td>oct</td>\n",
       "      <td>79</td>\n",
       "      <td>1</td>\n",
       "      <td>-1</td>\n",
       "      <td>0</td>\n",
       "      <td>unknown</td>\n",
       "      <td>no</td>\n",
       "    </tr>\n",
       "    <tr>\n",
       "      <th>1</th>\n",
       "      <td>33</td>\n",
       "      <td>services</td>\n",
       "      <td>married</td>\n",
       "      <td>secondary</td>\n",
       "      <td>no</td>\n",
       "      <td>4789</td>\n",
       "      <td>yes</td>\n",
       "      <td>yes</td>\n",
       "      <td>cellular</td>\n",
       "      <td>11</td>\n",
       "      <td>may</td>\n",
       "      <td>220</td>\n",
       "      <td>1</td>\n",
       "      <td>339</td>\n",
       "      <td>4</td>\n",
       "      <td>failure</td>\n",
       "      <td>no</td>\n",
       "    </tr>\n",
       "    <tr>\n",
       "      <th>2</th>\n",
       "      <td>35</td>\n",
       "      <td>management</td>\n",
       "      <td>single</td>\n",
       "      <td>tertiary</td>\n",
       "      <td>no</td>\n",
       "      <td>1350</td>\n",
       "      <td>yes</td>\n",
       "      <td>no</td>\n",
       "      <td>cellular</td>\n",
       "      <td>16</td>\n",
       "      <td>apr</td>\n",
       "      <td>185</td>\n",
       "      <td>1</td>\n",
       "      <td>330</td>\n",
       "      <td>1</td>\n",
       "      <td>failure</td>\n",
       "      <td>no</td>\n",
       "    </tr>\n",
       "    <tr>\n",
       "      <th>3</th>\n",
       "      <td>30</td>\n",
       "      <td>management</td>\n",
       "      <td>married</td>\n",
       "      <td>tertiary</td>\n",
       "      <td>no</td>\n",
       "      <td>1476</td>\n",
       "      <td>yes</td>\n",
       "      <td>yes</td>\n",
       "      <td>unknown</td>\n",
       "      <td>3</td>\n",
       "      <td>jun</td>\n",
       "      <td>199</td>\n",
       "      <td>4</td>\n",
       "      <td>-1</td>\n",
       "      <td>0</td>\n",
       "      <td>unknown</td>\n",
       "      <td>no</td>\n",
       "    </tr>\n",
       "    <tr>\n",
       "      <th>4</th>\n",
       "      <td>59</td>\n",
       "      <td>blue-collar</td>\n",
       "      <td>married</td>\n",
       "      <td>secondary</td>\n",
       "      <td>no</td>\n",
       "      <td>0</td>\n",
       "      <td>yes</td>\n",
       "      <td>no</td>\n",
       "      <td>unknown</td>\n",
       "      <td>5</td>\n",
       "      <td>may</td>\n",
       "      <td>226</td>\n",
       "      <td>1</td>\n",
       "      <td>-1</td>\n",
       "      <td>0</td>\n",
       "      <td>unknown</td>\n",
       "      <td>no</td>\n",
       "    </tr>\n",
       "    <tr>\n",
       "      <th>...</th>\n",
       "      <td>...</td>\n",
       "      <td>...</td>\n",
       "      <td>...</td>\n",
       "      <td>...</td>\n",
       "      <td>...</td>\n",
       "      <td>...</td>\n",
       "      <td>...</td>\n",
       "      <td>...</td>\n",
       "      <td>...</td>\n",
       "      <td>...</td>\n",
       "      <td>...</td>\n",
       "      <td>...</td>\n",
       "      <td>...</td>\n",
       "      <td>...</td>\n",
       "      <td>...</td>\n",
       "      <td>...</td>\n",
       "      <td>...</td>\n",
       "    </tr>\n",
       "    <tr>\n",
       "      <th>4516</th>\n",
       "      <td>33</td>\n",
       "      <td>services</td>\n",
       "      <td>married</td>\n",
       "      <td>secondary</td>\n",
       "      <td>no</td>\n",
       "      <td>-333</td>\n",
       "      <td>yes</td>\n",
       "      <td>no</td>\n",
       "      <td>cellular</td>\n",
       "      <td>30</td>\n",
       "      <td>jul</td>\n",
       "      <td>329</td>\n",
       "      <td>5</td>\n",
       "      <td>-1</td>\n",
       "      <td>0</td>\n",
       "      <td>unknown</td>\n",
       "      <td>no</td>\n",
       "    </tr>\n",
       "    <tr>\n",
       "      <th>4517</th>\n",
       "      <td>57</td>\n",
       "      <td>self-employed</td>\n",
       "      <td>married</td>\n",
       "      <td>tertiary</td>\n",
       "      <td>yes</td>\n",
       "      <td>-3313</td>\n",
       "      <td>yes</td>\n",
       "      <td>yes</td>\n",
       "      <td>unknown</td>\n",
       "      <td>9</td>\n",
       "      <td>may</td>\n",
       "      <td>153</td>\n",
       "      <td>1</td>\n",
       "      <td>-1</td>\n",
       "      <td>0</td>\n",
       "      <td>unknown</td>\n",
       "      <td>no</td>\n",
       "    </tr>\n",
       "    <tr>\n",
       "      <th>4518</th>\n",
       "      <td>57</td>\n",
       "      <td>technician</td>\n",
       "      <td>married</td>\n",
       "      <td>secondary</td>\n",
       "      <td>no</td>\n",
       "      <td>295</td>\n",
       "      <td>no</td>\n",
       "      <td>no</td>\n",
       "      <td>cellular</td>\n",
       "      <td>19</td>\n",
       "      <td>aug</td>\n",
       "      <td>151</td>\n",
       "      <td>11</td>\n",
       "      <td>-1</td>\n",
       "      <td>0</td>\n",
       "      <td>unknown</td>\n",
       "      <td>no</td>\n",
       "    </tr>\n",
       "    <tr>\n",
       "      <th>4519</th>\n",
       "      <td>28</td>\n",
       "      <td>blue-collar</td>\n",
       "      <td>married</td>\n",
       "      <td>secondary</td>\n",
       "      <td>no</td>\n",
       "      <td>1137</td>\n",
       "      <td>no</td>\n",
       "      <td>no</td>\n",
       "      <td>cellular</td>\n",
       "      <td>6</td>\n",
       "      <td>feb</td>\n",
       "      <td>129</td>\n",
       "      <td>4</td>\n",
       "      <td>211</td>\n",
       "      <td>3</td>\n",
       "      <td>other</td>\n",
       "      <td>no</td>\n",
       "    </tr>\n",
       "    <tr>\n",
       "      <th>4520</th>\n",
       "      <td>44</td>\n",
       "      <td>entrepreneur</td>\n",
       "      <td>single</td>\n",
       "      <td>tertiary</td>\n",
       "      <td>no</td>\n",
       "      <td>1136</td>\n",
       "      <td>yes</td>\n",
       "      <td>yes</td>\n",
       "      <td>cellular</td>\n",
       "      <td>3</td>\n",
       "      <td>apr</td>\n",
       "      <td>345</td>\n",
       "      <td>2</td>\n",
       "      <td>249</td>\n",
       "      <td>7</td>\n",
       "      <td>other</td>\n",
       "      <td>no</td>\n",
       "    </tr>\n",
       "  </tbody>\n",
       "</table>\n",
       "<p>4521 rows × 17 columns</p>\n",
       "</div>"
      ],
      "text/plain": [
       "      age            job  marital  education default  balance housing loan  \\\n",
       "0      30     unemployed  married    primary      no     1787      no   no   \n",
       "1      33       services  married  secondary      no     4789     yes  yes   \n",
       "2      35     management   single   tertiary      no     1350     yes   no   \n",
       "3      30     management  married   tertiary      no     1476     yes  yes   \n",
       "4      59    blue-collar  married  secondary      no        0     yes   no   \n",
       "...   ...            ...      ...        ...     ...      ...     ...  ...   \n",
       "4516   33       services  married  secondary      no     -333     yes   no   \n",
       "4517   57  self-employed  married   tertiary     yes    -3313     yes  yes   \n",
       "4518   57     technician  married  secondary      no      295      no   no   \n",
       "4519   28    blue-collar  married  secondary      no     1137      no   no   \n",
       "4520   44   entrepreneur   single   tertiary      no     1136     yes  yes   \n",
       "\n",
       "       contact  day month  duration  campaign  pdays  previous poutcome   y  \n",
       "0     cellular   19   oct        79         1     -1         0  unknown  no  \n",
       "1     cellular   11   may       220         1    339         4  failure  no  \n",
       "2     cellular   16   apr       185         1    330         1  failure  no  \n",
       "3      unknown    3   jun       199         4     -1         0  unknown  no  \n",
       "4      unknown    5   may       226         1     -1         0  unknown  no  \n",
       "...        ...  ...   ...       ...       ...    ...       ...      ...  ..  \n",
       "4516  cellular   30   jul       329         5     -1         0  unknown  no  \n",
       "4517   unknown    9   may       153         1     -1         0  unknown  no  \n",
       "4518  cellular   19   aug       151        11     -1         0  unknown  no  \n",
       "4519  cellular    6   feb       129         4    211         3    other  no  \n",
       "4520  cellular    3   apr       345         2    249         7    other  no  \n",
       "\n",
       "[4521 rows x 17 columns]"
      ]
     },
     "execution_count": 3,
     "metadata": {},
     "output_type": "execute_result"
    }
   ],
   "source": [
    "df = pd.read_csv(\"/kaggle/input/bank-credit-scoring/bank.csv\", sep=\";\").drop_duplicates()\n",
    "df"
   ]
  },
  {
   "cell_type": "markdown",
   "id": "1a8142de",
   "metadata": {
    "papermill": {
     "duration": 0.00857,
     "end_time": "2024-01-25T11:25:56.722681",
     "exception": false,
     "start_time": "2024-01-25T11:25:56.714111",
     "status": "completed"
    },
    "tags": []
   },
   "source": [
    "# **PREPROCESSING**"
   ]
  },
  {
   "cell_type": "code",
   "execution_count": 4,
   "id": "9558bbce",
   "metadata": {
    "execution": {
     "iopub.execute_input": "2024-01-25T11:25:56.742628Z",
     "iopub.status.busy": "2024-01-25T11:25:56.741739Z",
     "iopub.status.idle": "2024-01-25T11:25:56.759297Z",
     "shell.execute_reply": "2024-01-25T11:25:56.758165Z"
    },
    "papermill": {
     "duration": 0.030031,
     "end_time": "2024-01-25T11:25:56.761585",
     "exception": false,
     "start_time": "2024-01-25T11:25:56.731554",
     "status": "completed"
    },
    "tags": []
   },
   "outputs": [
    {
     "data": {
      "text/plain": [
       "age          0\n",
       "job          0\n",
       "marital      0\n",
       "education    0\n",
       "default      0\n",
       "balance      0\n",
       "housing      0\n",
       "loan         0\n",
       "contact      0\n",
       "day          0\n",
       "month        0\n",
       "duration     0\n",
       "campaign     0\n",
       "pdays        0\n",
       "previous     0\n",
       "poutcome     0\n",
       "y            0\n",
       "dtype: int64"
      ]
     },
     "execution_count": 4,
     "metadata": {},
     "output_type": "execute_result"
    }
   ],
   "source": [
    "df.isna().sum()"
   ]
  },
  {
   "cell_type": "code",
   "execution_count": 5,
   "id": "4f840481",
   "metadata": {
    "execution": {
     "iopub.execute_input": "2024-01-25T11:25:56.781750Z",
     "iopub.status.busy": "2024-01-25T11:25:56.781291Z",
     "iopub.status.idle": "2024-01-25T11:25:56.789553Z",
     "shell.execute_reply": "2024-01-25T11:25:56.788330Z"
    },
    "papermill": {
     "duration": 0.022254,
     "end_time": "2024-01-25T11:25:56.793007",
     "exception": false,
     "start_time": "2024-01-25T11:25:56.770753",
     "status": "completed"
    },
    "tags": []
   },
   "outputs": [
    {
     "data": {
      "text/plain": [
       "age           int64\n",
       "job          object\n",
       "marital      object\n",
       "education    object\n",
       "default      object\n",
       "balance       int64\n",
       "housing      object\n",
       "loan         object\n",
       "contact      object\n",
       "day           int64\n",
       "month        object\n",
       "duration      int64\n",
       "campaign      int64\n",
       "pdays         int64\n",
       "previous      int64\n",
       "poutcome     object\n",
       "y            object\n",
       "dtype: object"
      ]
     },
     "execution_count": 5,
     "metadata": {},
     "output_type": "execute_result"
    }
   ],
   "source": [
    "df.dtypes"
   ]
  },
  {
   "cell_type": "code",
   "execution_count": 6,
   "id": "293eb9ff",
   "metadata": {
    "execution": {
     "iopub.execute_input": "2024-01-25T11:25:56.814001Z",
     "iopub.status.busy": "2024-01-25T11:25:56.812929Z",
     "iopub.status.idle": "2024-01-25T11:25:57.027880Z",
     "shell.execute_reply": "2024-01-25T11:25:57.026765Z"
    },
    "papermill": {
     "duration": 0.227972,
     "end_time": "2024-01-25T11:25:57.030290",
     "exception": false,
     "start_time": "2024-01-25T11:25:56.802318",
     "status": "completed"
    },
    "tags": []
   },
   "outputs": [
    {
     "data": {
      "text/plain": [
       "<Axes: xlabel='marital', ylabel='count'>"
      ]
     },
     "execution_count": 6,
     "metadata": {},
     "output_type": "execute_result"
    },
    {
     "data": {
      "image/png": "[encoded data removed]",
      "text/plain": [
       "<Figure size 640x480 with 1 Axes>"
      ]
     },
     "metadata": {},
     "output_type": "display_data"
    }
   ],
   "source": [
    "sns.countplot(x='marital',data=df)\n"
   ]
  },
  {
   "cell_type": "code",
   "execution_count": 7,
   "id": "145afc44",
   "metadata": {
    "execution": {
     "iopub.execute_input": "2024-01-25T11:25:57.052048Z",
     "iopub.status.busy": "2024-01-25T11:25:57.050938Z",
     "iopub.status.idle": "2024-01-25T11:25:57.255817Z",
     "shell.execute_reply": "2024-01-25T11:25:57.254625Z"
    },
    "papermill": {
     "duration": 0.21824,
     "end_time": "2024-01-25T11:25:57.258258",
     "exception": false,
     "start_time": "2024-01-25T11:25:57.040018",
     "status": "completed"
    },
    "tags": []
   },
   "outputs": [
    {
     "data": {
      "text/plain": [
       "<Axes: xlabel='poutcome', ylabel='count'>"
      ]
     },
     "execution_count": 7,
     "metadata": {},
     "output_type": "execute_result"
    },
    {
     "data": {
      "image/png": "[encoded data removed]",
      "text/plain": [
       "<Figure size 640x480 with 1 Axes>"
      ]
     },
     "metadata": {},
     "output_type": "display_data"
    }
   ],
   "source": [
    "sns.countplot(x='poutcome',data=df)\n"
   ]
  },
  {
   "cell_type": "code",
   "execution_count": 8,
   "id": "581bea0a",
   "metadata": {
    "execution": {
     "iopub.execute_input": "2024-01-25T11:25:57.280405Z",
     "iopub.status.busy": "2024-01-25T11:25:57.280008Z",
     "iopub.status.idle": "2024-01-25T11:25:57.448610Z",
     "shell.execute_reply": "2024-01-25T11:25:57.447391Z"
    },
    "papermill": {
     "duration": 0.182325,
     "end_time": "2024-01-25T11:25:57.450870",
     "exception": false,
     "start_time": "2024-01-25T11:25:57.268545",
     "status": "completed"
    },
    "tags": []
   },
   "outputs": [
    {
     "data": {
      "text/plain": [
       "<Axes: xlabel='housing', ylabel='count'>"
      ]
     },
     "execution_count": 8,
     "metadata": {},
     "output_type": "execute_result"
    },
    {
     "data": {
      "image/png": "[encoded data removed]",
      "text/plain": [
       "<Figure size 640x480 with 1 Axes>"
      ]
     },
     "metadata": {},
     "output_type": "display_data"
    }
   ],
   "source": [
    "sns.countplot(x='housing',data=df)\n"
   ]
  },
  {
   "cell_type": "markdown",
   "id": "0bee6d7f",
   "metadata": {
    "papermill": {
     "duration": 0.010293,
     "end_time": "2024-01-25T11:25:57.471739",
     "exception": false,
     "start_time": "2024-01-25T11:25:57.461446",
     "status": "completed"
    },
    "tags": []
   },
   "source": [
    "### Countplot for categorical features"
   ]
  },
  {
   "cell_type": "code",
   "execution_count": 9,
   "id": "d0b36909",
   "metadata": {
    "execution": {
     "iopub.execute_input": "2024-01-25T11:25:57.495873Z",
     "iopub.status.busy": "2024-01-25T11:25:57.495125Z",
     "iopub.status.idle": "2024-01-25T11:25:59.515672Z",
     "shell.execute_reply": "2024-01-25T11:25:59.514137Z"
    },
    "papermill": {
     "duration": 2.035794,
     "end_time": "2024-01-25T11:25:59.518387",
     "exception": false,
     "start_time": "2024-01-25T11:25:57.482593",
     "status": "completed"
    },
    "tags": []
   },
   "outputs": [
    {
     "data": {
      "image/png": "[encoded data removed]",
      "text/plain": [
       "<Figure size 1500x1500 with 9 Axes>"
      ]
     },
     "metadata": {},
     "output_type": "display_data"
    }
   ],
   "source": [
    "categorical_features = ['job', 'marital', 'education', 'default', 'housing', 'loan', 'contact', 'month', 'poutcome']\n",
    "# Set up subplots\n",
    "fig, axes = plt.subplots(nrows=len(categorical_features)//3 + 1, ncols=3, figsize=(15, 15))\n",
    "fig.subplots_adjust(hspace=0.5)\n",
    "\n",
    "# Loop through categorical features and create countplots\n",
    "for i, feature in enumerate(categorical_features):\n",
    "    row, col = i // 3, i % 3\n",
    "    sns.countplot(x=feature, data=df, ax=axes[row, col])\n",
    "    axes[row, col].set_title(f'Distribution of {feature}')\n",
    "\n",
    "# Remove empty subplots\n",
    "for i in range(len(categorical_features), len(axes.flat)):\n",
    "    fig.delaxes(axes.flatten()[i])\n",
    "\n",
    "# Show the plot\n",
    "plt.show()\n",
    "\n",
    "# Plot histograms for each categorical feature\n",
    "for i, feature in enumerate(categorical_features):\n",
    "    row, col = i // 3, i % 3\n",
    "    sns.countplot(x=feature, data=df, ax=axes[row, col])\n",
    "    axes[row, col].set_title(f'Distribution of {feature}')\n",
    "\n",
    "\n",
    "plt.show()"
   ]
  },
  {
   "cell_type": "code",
   "execution_count": 10,
   "id": "dad7b4e6",
   "metadata": {
    "execution": {
     "iopub.execute_input": "2024-01-25T11:25:59.544765Z",
     "iopub.status.busy": "2024-01-25T11:25:59.544292Z",
     "iopub.status.idle": "2024-01-25T11:26:01.419524Z",
     "shell.execute_reply": "2024-01-25T11:26:01.418509Z"
    },
    "papermill": {
     "duration": 1.890892,
     "end_time": "2024-01-25T11:26:01.421669",
     "exception": false,
     "start_time": "2024-01-25T11:25:59.530777",
     "status": "completed"
    },
    "tags": []
   },
   "outputs": [
    {
     "data": {
      "image/png": "[encoded data removed]",
      "text/plain": [
       "<Figure size 640x480 with 1 Axes>"
      ]
     },
     "metadata": {},
     "output_type": "display_data"
    },
    {
     "data": {
      "image/png": "[encoded data removed]",
      "text/plain": [
       "<Figure size 1200x1000 with 9 Axes>"
      ]
     },
     "metadata": {},
     "output_type": "display_data"
    },
    {
     "data": {
      "image/png": "[encoded data removed]",
      "text/plain": [
       "<Figure size 1400x1000 with 1 Axes>"
      ]
     },
     "metadata": {},
     "output_type": "display_data"
    }
   ],
   "source": [
    "# Distribution of the target variable 'y'\n",
    "sns.countplot(x='y', data=df)\n",
    "plt.title('Distribution of Target Variable (y)')\n",
    "plt.show()\n",
    "\n",
    "# Distribution of numerical features\n",
    "df.hist(figsize=(12, 10), bins=20)\n",
    "plt.suptitle('Histograms of Numerical Features')\n",
    "plt.show()\n",
    "\n",
    "# Boxplot of numerical features\n",
    "plt.figure(figsize=(14, 10))\n",
    "sns.boxplot(data=df, orient='h')\n",
    "plt.title('Boxplot of Numerical Features')\n",
    "plt.show()"
   ]
  },
  {
   "cell_type": "code",
   "execution_count": 11,
   "id": "a912adbc",
   "metadata": {
    "execution": {
     "iopub.execute_input": "2024-01-25T11:26:01.451849Z",
     "iopub.status.busy": "2024-01-25T11:26:01.450957Z",
     "iopub.status.idle": "2024-01-25T11:26:01.473387Z",
     "shell.execute_reply": "2024-01-25T11:26:01.472054Z"
    },
    "papermill": {
     "duration": 0.040219,
     "end_time": "2024-01-25T11:26:01.476006",
     "exception": false,
     "start_time": "2024-01-25T11:26:01.435787",
     "status": "completed"
    },
    "tags": []
   },
   "outputs": [],
   "source": [
    "lst=[\"job\",\"marital\",\"education\",\"default\",\"housing\",\"housing\",\"loan\",\"contact\",\"month\",\"poutcome\",\"y\"]\n",
    "le=LabelEncoder()\n",
    "for i in lst:\n",
    "    df[i]=le.fit_transform(df[i])"
   ]
  },
  {
   "cell_type": "code",
   "execution_count": 12,
   "id": "3f483aea",
   "metadata": {
    "execution": {
     "iopub.execute_input": "2024-01-25T11:26:01.505941Z",
     "iopub.status.busy": "2024-01-25T11:26:01.505486Z",
     "iopub.status.idle": "2024-01-25T11:26:01.512094Z",
     "shell.execute_reply": "2024-01-25T11:26:01.510839Z"
    },
    "papermill": {
     "duration": 0.024188,
     "end_time": "2024-01-25T11:26:01.514312",
     "exception": false,
     "start_time": "2024-01-25T11:26:01.490124",
     "status": "completed"
    },
    "tags": []
   },
   "outputs": [],
   "source": [
    "df.rename(columns={\"y\": \"loan_approval\"}, inplace=True)\n"
   ]
  },
  {
   "cell_type": "code",
   "execution_count": 13,
   "id": "ddf89c9e",
   "metadata": {
    "execution": {
     "iopub.execute_input": "2024-01-25T11:26:01.544881Z",
     "iopub.status.busy": "2024-01-25T11:26:01.544197Z",
     "iopub.status.idle": "2024-01-25T11:26:01.566208Z",
     "shell.execute_reply": "2024-01-25T11:26:01.565054Z"
    },
    "papermill": {
     "duration": 0.03996,
     "end_time": "2024-01-25T11:26:01.568624",
     "exception": false,
     "start_time": "2024-01-25T11:26:01.528664",
     "status": "completed"
    },
    "tags": []
   },
   "outputs": [
    {
     "data": {
      "text/html": [
       "<div>\n",
       "<style scoped>\n",
       "    .dataframe tbody tr th:only-of-type {\n",
       "        vertical-align: middle;\n",
       "    }\n",
       "\n",
       "    .dataframe tbody tr th {\n",
       "        vertical-align: top;\n",
       "    }\n",
       "\n",
       "    .dataframe thead th {\n",
       "        text-align: right;\n",
       "    }\n",
       "</style>\n",
       "<table border=\"1\" class=\"dataframe\">\n",
       "  <thead>\n",
       "    <tr style=\"text-align: right;\">\n",
       "      <th></th>\n",
       "      <th>age</th>\n",
       "      <th>job</th>\n",
       "      <th>marital</th>\n",
       "      <th>education</th>\n",
       "      <th>default</th>\n",
       "      <th>balance</th>\n",
       "      <th>housing</th>\n",
       "      <th>loan</th>\n",
       "      <th>contact</th>\n",
       "      <th>day</th>\n",
       "      <th>month</th>\n",
       "      <th>duration</th>\n",
       "      <th>campaign</th>\n",
       "      <th>pdays</th>\n",
       "      <th>previous</th>\n",
       "      <th>poutcome</th>\n",
       "    </tr>\n",
       "  </thead>\n",
       "  <tbody>\n",
       "    <tr>\n",
       "      <th>0</th>\n",
       "      <td>30</td>\n",
       "      <td>10</td>\n",
       "      <td>1</td>\n",
       "      <td>0</td>\n",
       "      <td>0</td>\n",
       "      <td>1787</td>\n",
       "      <td>0</td>\n",
       "      <td>0</td>\n",
       "      <td>0</td>\n",
       "      <td>19</td>\n",
       "      <td>10</td>\n",
       "      <td>79</td>\n",
       "      <td>1</td>\n",
       "      <td>-1</td>\n",
       "      <td>0</td>\n",
       "      <td>3</td>\n",
       "    </tr>\n",
       "    <tr>\n",
       "      <th>1</th>\n",
       "      <td>33</td>\n",
       "      <td>7</td>\n",
       "      <td>1</td>\n",
       "      <td>1</td>\n",
       "      <td>0</td>\n",
       "      <td>4789</td>\n",
       "      <td>1</td>\n",
       "      <td>1</td>\n",
       "      <td>0</td>\n",
       "      <td>11</td>\n",
       "      <td>8</td>\n",
       "      <td>220</td>\n",
       "      <td>1</td>\n",
       "      <td>339</td>\n",
       "      <td>4</td>\n",
       "      <td>0</td>\n",
       "    </tr>\n",
       "    <tr>\n",
       "      <th>2</th>\n",
       "      <td>35</td>\n",
       "      <td>4</td>\n",
       "      <td>2</td>\n",
       "      <td>2</td>\n",
       "      <td>0</td>\n",
       "      <td>1350</td>\n",
       "      <td>1</td>\n",
       "      <td>0</td>\n",
       "      <td>0</td>\n",
       "      <td>16</td>\n",
       "      <td>0</td>\n",
       "      <td>185</td>\n",
       "      <td>1</td>\n",
       "      <td>330</td>\n",
       "      <td>1</td>\n",
       "      <td>0</td>\n",
       "    </tr>\n",
       "    <tr>\n",
       "      <th>3</th>\n",
       "      <td>30</td>\n",
       "      <td>4</td>\n",
       "      <td>1</td>\n",
       "      <td>2</td>\n",
       "      <td>0</td>\n",
       "      <td>1476</td>\n",
       "      <td>1</td>\n",
       "      <td>1</td>\n",
       "      <td>2</td>\n",
       "      <td>3</td>\n",
       "      <td>6</td>\n",
       "      <td>199</td>\n",
       "      <td>4</td>\n",
       "      <td>-1</td>\n",
       "      <td>0</td>\n",
       "      <td>3</td>\n",
       "    </tr>\n",
       "    <tr>\n",
       "      <th>4</th>\n",
       "      <td>59</td>\n",
       "      <td>1</td>\n",
       "      <td>1</td>\n",
       "      <td>1</td>\n",
       "      <td>0</td>\n",
       "      <td>0</td>\n",
       "      <td>1</td>\n",
       "      <td>0</td>\n",
       "      <td>2</td>\n",
       "      <td>5</td>\n",
       "      <td>8</td>\n",
       "      <td>226</td>\n",
       "      <td>1</td>\n",
       "      <td>-1</td>\n",
       "      <td>0</td>\n",
       "      <td>3</td>\n",
       "    </tr>\n",
       "    <tr>\n",
       "      <th>...</th>\n",
       "      <td>...</td>\n",
       "      <td>...</td>\n",
       "      <td>...</td>\n",
       "      <td>...</td>\n",
       "      <td>...</td>\n",
       "      <td>...</td>\n",
       "      <td>...</td>\n",
       "      <td>...</td>\n",
       "      <td>...</td>\n",
       "      <td>...</td>\n",
       "      <td>...</td>\n",
       "      <td>...</td>\n",
       "      <td>...</td>\n",
       "      <td>...</td>\n",
       "      <td>...</td>\n",
       "      <td>...</td>\n",
       "    </tr>\n",
       "    <tr>\n",
       "      <th>4516</th>\n",
       "      <td>33</td>\n",
       "      <td>7</td>\n",
       "      <td>1</td>\n",
       "      <td>1</td>\n",
       "      <td>0</td>\n",
       "      <td>-333</td>\n",
       "      <td>1</td>\n",
       "      <td>0</td>\n",
       "      <td>0</td>\n",
       "      <td>30</td>\n",
       "      <td>5</td>\n",
       "      <td>329</td>\n",
       "      <td>5</td>\n",
       "      <td>-1</td>\n",
       "      <td>0</td>\n",
       "      <td>3</td>\n",
       "    </tr>\n",
       "    <tr>\n",
       "      <th>4517</th>\n",
       "      <td>57</td>\n",
       "      <td>6</td>\n",
       "      <td>1</td>\n",
       "      <td>2</td>\n",
       "      <td>1</td>\n",
       "      <td>-3313</td>\n",
       "      <td>1</td>\n",
       "      <td>1</td>\n",
       "      <td>2</td>\n",
       "      <td>9</td>\n",
       "      <td>8</td>\n",
       "      <td>153</td>\n",
       "      <td>1</td>\n",
       "      <td>-1</td>\n",
       "      <td>0</td>\n",
       "      <td>3</td>\n",
       "    </tr>\n",
       "    <tr>\n",
       "      <th>4518</th>\n",
       "      <td>57</td>\n",
       "      <td>9</td>\n",
       "      <td>1</td>\n",
       "      <td>1</td>\n",
       "      <td>0</td>\n",
       "      <td>295</td>\n",
       "      <td>0</td>\n",
       "      <td>0</td>\n",
       "      <td>0</td>\n",
       "      <td>19</td>\n",
       "      <td>1</td>\n",
       "      <td>151</td>\n",
       "      <td>11</td>\n",
       "      <td>-1</td>\n",
       "      <td>0</td>\n",
       "      <td>3</td>\n",
       "    </tr>\n",
       "    <tr>\n",
       "      <th>4519</th>\n",
       "      <td>28</td>\n",
       "      <td>1</td>\n",
       "      <td>1</td>\n",
       "      <td>1</td>\n",
       "      <td>0</td>\n",
       "      <td>1137</td>\n",
       "      <td>0</td>\n",
       "      <td>0</td>\n",
       "      <td>0</td>\n",
       "      <td>6</td>\n",
       "      <td>3</td>\n",
       "      <td>129</td>\n",
       "      <td>4</td>\n",
       "      <td>211</td>\n",
       "      <td>3</td>\n",
       "      <td>1</td>\n",
       "    </tr>\n",
       "    <tr>\n",
       "      <th>4520</th>\n",
       "      <td>44</td>\n",
       "      <td>2</td>\n",
       "      <td>2</td>\n",
       "      <td>2</td>\n",
       "      <td>0</td>\n",
       "      <td>1136</td>\n",
       "      <td>1</td>\n",
       "      <td>1</td>\n",
       "      <td>0</td>\n",
       "      <td>3</td>\n",
       "      <td>0</td>\n",
       "      <td>345</td>\n",
       "      <td>2</td>\n",
       "      <td>249</td>\n",
       "      <td>7</td>\n",
       "      <td>1</td>\n",
       "    </tr>\n",
       "  </tbody>\n",
       "</table>\n",
       "<p>4521 rows × 16 columns</p>\n",
       "</div>"
      ],
      "text/plain": [
       "      age  job  marital  education  default  balance  housing  loan  contact  \\\n",
       "0      30   10        1          0        0     1787        0     0        0   \n",
       "1      33    7        1          1        0     4789        1     1        0   \n",
       "2      35    4        2          2        0     1350        1     0        0   \n",
       "3      30    4        1          2        0     1476        1     1        2   \n",
       "4      59    1        1          1        0        0        1     0        2   \n",
       "...   ...  ...      ...        ...      ...      ...      ...   ...      ...   \n",
       "4516   33    7        1          1        0     -333        1     0        0   \n",
       "4517   57    6        1          2        1    -3313        1     1        2   \n",
       "4518   57    9        1          1        0      295        0     0        0   \n",
       "4519   28    1        1          1        0     1137        0     0        0   \n",
       "4520   44    2        2          2        0     1136        1     1        0   \n",
       "\n",
       "      day  month  duration  campaign  pdays  previous  poutcome  \n",
       "0      19     10        79         1     -1         0         3  \n",
       "1      11      8       220         1    339         4         0  \n",
       "2      16      0       185         1    330         1         0  \n",
       "3       3      6       199         4     -1         0         3  \n",
       "4       5      8       226         1     -1         0         3  \n",
       "...   ...    ...       ...       ...    ...       ...       ...  \n",
       "4516   30      5       329         5     -1         0         3  \n",
       "4517    9      8       153         1     -1         0         3  \n",
       "4518   19      1       151        11     -1         0         3  \n",
       "4519    6      3       129         4    211         3         1  \n",
       "4520    3      0       345         2    249         7         1  \n",
       "\n",
       "[4521 rows x 16 columns]"
      ]
     },
     "execution_count": 13,
     "metadata": {},
     "output_type": "execute_result"
    }
   ],
   "source": [
    "x=df.iloc[:,:-1]\n",
    "x"
   ]
  },
  {
   "cell_type": "code",
   "execution_count": 14,
   "id": "d9dbb079",
   "metadata": {
    "execution": {
     "iopub.execute_input": "2024-01-25T11:26:01.600094Z",
     "iopub.status.busy": "2024-01-25T11:26:01.599263Z",
     "iopub.status.idle": "2024-01-25T11:26:01.607847Z",
     "shell.execute_reply": "2024-01-25T11:26:01.606647Z"
    },
    "papermill": {
     "duration": 0.027069,
     "end_time": "2024-01-25T11:26:01.610045",
     "exception": false,
     "start_time": "2024-01-25T11:26:01.582976",
     "status": "completed"
    },
    "tags": []
   },
   "outputs": [
    {
     "data": {
      "text/plain": [
       "0       0\n",
       "1       0\n",
       "2       0\n",
       "3       0\n",
       "4       0\n",
       "       ..\n",
       "4516    0\n",
       "4517    0\n",
       "4518    0\n",
       "4519    0\n",
       "4520    0\n",
       "Name: loan_approval, Length: 4521, dtype: int64"
      ]
     },
     "execution_count": 14,
     "metadata": {},
     "output_type": "execute_result"
    }
   ],
   "source": [
    "y=df.iloc[:,-1]\n",
    "y"
   ]
  },
  {
   "cell_type": "code",
   "execution_count": 15,
   "id": "c336e6b8",
   "metadata": {
    "execution": {
     "iopub.execute_input": "2024-01-25T11:26:01.641546Z",
     "iopub.status.busy": "2024-01-25T11:26:01.640416Z",
     "iopub.status.idle": "2024-01-25T11:26:01.862219Z",
     "shell.execute_reply": "2024-01-25T11:26:01.860969Z"
    },
    "papermill": {
     "duration": 0.240435,
     "end_time": "2024-01-25T11:26:01.864916",
     "exception": false,
     "start_time": "2024-01-25T11:26:01.624481",
     "status": "completed"
    },
    "tags": []
   },
   "outputs": [],
   "source": [
    "from imblearn.over_sampling import RandomOverSampler\n",
    "sm=RandomOverSampler()\n",
    "x,y=sm.fit_resample(x,y)"
   ]
  },
  {
   "cell_type": "code",
   "execution_count": 16,
   "id": "f4e0e2e8",
   "metadata": {
    "execution": {
     "iopub.execute_input": "2024-01-25T11:26:01.896274Z",
     "iopub.status.busy": "2024-01-25T11:26:01.895868Z",
     "iopub.status.idle": "2024-01-25T11:26:01.909777Z",
     "shell.execute_reply": "2024-01-25T11:26:01.908669Z"
    },
    "papermill": {
     "duration": 0.0328,
     "end_time": "2024-01-25T11:26:01.912477",
     "exception": false,
     "start_time": "2024-01-25T11:26:01.879677",
     "status": "completed"
    },
    "tags": []
   },
   "outputs": [
    {
     "data": {
      "text/plain": [
       "array([[0.16176471, 0.90909091, 0.5       , ..., 0.        , 0.        ,\n",
       "        1.        ],\n",
       "       [0.20588235, 0.63636364, 0.5       , ..., 0.38990826, 0.16      ,\n",
       "        0.        ],\n",
       "       [0.23529412, 0.36363636, 1.        , ..., 0.37958716, 0.04      ,\n",
       "        0.        ],\n",
       "       ...,\n",
       "       [0.13235294, 0.36363636, 1.        , ..., 0.        , 0.        ,\n",
       "        1.        ],\n",
       "       [0.20588235, 0.09090909, 1.        , ..., 0.        , 0.        ,\n",
       "        1.        ],\n",
       "       [0.69117647, 0.45454545, 0.5       , ..., 0.        , 0.        ,\n",
       "        1.        ]])"
      ]
     },
     "execution_count": 16,
     "metadata": {},
     "output_type": "execute_result"
    }
   ],
   "source": [
    "#minmaxscaler\n",
    "ms=MinMaxScaler()\n",
    "Xsc=ms.fit_transform(x)\n",
    "Xsc"
   ]
  },
  {
   "cell_type": "code",
   "execution_count": 17,
   "id": "9cb9e83a",
   "metadata": {
    "execution": {
     "iopub.execute_input": "2024-01-25T11:26:01.944528Z",
     "iopub.status.busy": "2024-01-25T11:26:01.943861Z",
     "iopub.status.idle": "2024-01-25T11:26:01.950307Z",
     "shell.execute_reply": "2024-01-25T11:26:01.949509Z"
    },
    "papermill": {
     "duration": 0.025009,
     "end_time": "2024-01-25T11:26:01.952519",
     "exception": false,
     "start_time": "2024-01-25T11:26:01.927510",
     "status": "completed"
    },
    "tags": []
   },
   "outputs": [],
   "source": [
    "#splitting to test and train data\n",
    "X_train,X_test,y_train,y_test=train_test_split(Xsc,y,test_size=0.1,random_state=4)"
   ]
  },
  {
   "cell_type": "markdown",
   "id": "12106570",
   "metadata": {
    "papermill": {
     "duration": 0.014289,
     "end_time": "2024-01-25T11:26:01.981448",
     "exception": false,
     "start_time": "2024-01-25T11:26:01.967159",
     "status": "completed"
    },
    "tags": []
   },
   "source": [
    "# **MODEL IMPLIMENTATION**"
   ]
  },
  {
   "cell_type": "code",
   "execution_count": 18,
   "id": "ba87e377",
   "metadata": {
    "execution": {
     "iopub.execute_input": "2024-01-25T11:26:02.013609Z",
     "iopub.status.busy": "2024-01-25T11:26:02.012918Z",
     "iopub.status.idle": "2024-01-25T11:26:02.109695Z",
     "shell.execute_reply": "2024-01-25T11:26:02.107366Z"
    },
    "papermill": {
     "duration": 0.116287,
     "end_time": "2024-01-25T11:26:02.112552",
     "exception": false,
     "start_time": "2024-01-25T11:26:01.996265",
     "status": "completed"
    },
    "tags": []
   },
   "outputs": [
    {
     "name": "stdout",
     "output_type": "stream",
     "text": [
      "              precision    recall  f1-score   support\n",
      "\n",
      "           0       1.00      0.75      0.86       390\n",
      "           1       0.81      1.00      0.89       410\n",
      "\n",
      "    accuracy                           0.88       800\n",
      "   macro avg       0.90      0.88      0.88       800\n",
      "weighted avg       0.90      0.88      0.88       800\n",
      "\n"
     ]
    }
   ],
   "source": [
    "knn1=KNeighborsClassifier(algorithm='auto',n_neighbors=9,weights='distance')\n",
    "knn1.fit(X_train,y_train)\n",
    "y_pred1=knn1.predict(X_test)\n",
    "print(classification_report(y_test,y_pred1))"
   ]
  },
  {
   "cell_type": "code",
   "execution_count": 19,
   "id": "1029f320",
   "metadata": {
    "execution": {
     "iopub.execute_input": "2024-01-25T11:26:02.144516Z",
     "iopub.status.busy": "2024-01-25T11:26:02.144096Z",
     "iopub.status.idle": "2024-01-25T11:26:04.278765Z",
     "shell.execute_reply": "2024-01-25T11:26:04.277581Z"
    },
    "papermill": {
     "duration": 2.153555,
     "end_time": "2024-01-25T11:26:04.281252",
     "exception": false,
     "start_time": "2024-01-25T11:26:02.127697",
     "status": "completed"
    },
    "tags": []
   },
   "outputs": [
    {
     "data": {
      "text/plain": [
       "array([0, 1, 1, 1, 1, 1, 1, 1, 1, 1, 1, 1, 0, 0, 1, 1, 0, 1, 1, 0, 1, 1,\n",
       "       1, 1, 1, 0, 1, 1, 1, 1, 1, 1, 0, 1, 1, 1, 1, 0, 0, 1, 0, 0, 0, 0,\n",
       "       0, 1, 1, 0, 1, 0, 0, 1, 0, 0, 0, 1, 1, 0, 1, 0, 0, 1, 0, 1, 1, 1,\n",
       "       0, 1, 0, 0, 0, 0, 1, 1, 1, 0, 0, 0, 0, 0, 0, 1, 0, 1, 0, 0, 1, 1,\n",
       "       1, 0, 1, 1, 1, 1, 0, 1, 1, 0, 0, 0, 0, 1, 1, 1, 0, 1, 1, 1, 1, 0,\n",
       "       0, 1, 1, 1, 0, 1, 0, 1, 1, 0, 1, 1, 1, 1, 0, 0, 1, 0, 1, 0, 1, 1,\n",
       "       1, 0, 1, 0, 0, 1, 1, 1, 1, 0, 0, 0, 1, 0, 0, 0, 1, 0, 1, 0, 1, 1,\n",
       "       0, 0, 0, 1, 0, 0, 0, 0, 0, 1, 1, 1, 1, 1, 1, 1, 1, 0, 1, 0, 1, 1,\n",
       "       1, 1, 1, 1, 0, 0, 1, 0, 0, 0, 1, 0, 0, 1, 0, 0, 1, 1, 0, 0, 1, 0,\n",
       "       0, 1, 0, 0, 0, 0, 0, 1, 1, 1, 1, 0, 0, 1, 0, 1, 1, 1, 0, 1, 1, 0,\n",
       "       1, 0, 1, 1, 0, 0, 0, 1, 1, 1, 1, 1, 0, 1, 1, 1, 0, 0, 1, 1, 0, 1,\n",
       "       0, 1, 0, 0, 1, 1, 0, 0, 0, 1, 1, 0, 1, 0, 1, 0, 1, 0, 0, 0, 0, 0,\n",
       "       1, 1, 0, 0, 1, 0, 1, 0, 1, 0, 1, 0, 1, 1, 0, 1, 0, 0, 1, 1, 1, 1,\n",
       "       1, 1, 0, 1, 0, 0, 0, 1, 1, 1, 1, 1, 0, 0, 1, 1, 0, 0, 0, 0, 0, 1,\n",
       "       1, 1, 0, 0, 0, 0, 0, 1, 0, 0, 1, 1, 1, 0, 1, 1, 1, 1, 1, 1, 1, 0,\n",
       "       1, 1, 0, 0, 0, 1, 1, 1, 1, 1, 0, 1, 1, 1, 0, 1, 0, 1, 0, 0, 1, 0,\n",
       "       0, 1, 1, 1, 1, 0, 1, 0, 0, 1, 1, 0, 1, 1, 0, 0, 0, 1, 1, 0, 0, 0,\n",
       "       1, 0, 0, 1, 0, 0, 1, 0, 1, 0, 0, 1, 0, 1, 0, 1, 1, 1, 1, 1, 1, 0,\n",
       "       1, 0, 0, 0, 1, 1, 1, 0, 1, 0, 0, 1, 1, 1, 1, 1, 0, 1, 1, 0, 0, 0,\n",
       "       1, 0, 0, 0, 0, 1, 0, 1, 1, 1, 1, 1, 1, 0, 1, 1, 0, 0, 1, 0, 0, 1,\n",
       "       1, 1, 1, 1, 1, 0, 0, 0, 0, 0, 1, 0, 1, 1, 0, 0, 1, 0, 0, 0, 1, 1,\n",
       "       0, 0, 0, 1, 0, 1, 0, 0, 1, 0, 1, 0, 1, 0, 1, 0, 1, 0, 0, 1, 1, 1,\n",
       "       0, 0, 1, 1, 1, 0, 1, 1, 0, 0, 0, 0, 0, 0, 1, 0, 0, 0, 1, 1, 0, 0,\n",
       "       0, 0, 0, 0, 1, 0, 0, 1, 0, 1, 1, 1, 1, 0, 1, 0, 1, 1, 0, 0, 0, 0,\n",
       "       1, 1, 1, 1, 1, 1, 1, 0, 1, 0, 1, 1, 0, 0, 1, 1, 1, 1, 1, 1, 1, 1,\n",
       "       0, 1, 0, 1, 1, 1, 0, 0, 1, 1, 1, 0, 0, 0, 1, 1, 1, 1, 0, 0, 1, 1,\n",
       "       0, 1, 0, 0, 1, 1, 0, 0, 1, 1, 0, 1, 1, 1, 0, 0, 0, 0, 0, 1, 1, 1,\n",
       "       0, 0, 0, 0, 0, 0, 0, 1, 1, 1, 1, 1, 0, 1, 0, 0, 0, 0, 1, 1, 1, 1,\n",
       "       1, 1, 0, 1, 0, 1, 0, 1, 0, 1, 1, 1, 1, 0, 0, 1, 1, 0, 1, 1, 1, 0,\n",
       "       1, 0, 0, 1, 0, 0, 0, 1, 1, 1, 0, 0, 1, 0, 0, 0, 0, 0, 0, 0, 1, 0,\n",
       "       1, 1, 1, 1, 0, 0, 1, 1, 1, 0, 0, 0, 1, 1, 0, 1, 0, 1, 0, 0, 0, 1,\n",
       "       0, 0, 0, 1, 0, 1, 1, 0, 0, 1, 1, 1, 0, 1, 0, 1, 1, 1, 1, 0, 0, 1,\n",
       "       1, 0, 1, 1, 0, 1, 1, 1, 0, 0, 1, 0, 1, 1, 1, 1, 1, 1, 1, 1, 1, 1,\n",
       "       0, 0, 1, 0, 1, 1, 0, 0, 1, 0, 0, 0, 0, 1, 1, 1, 0, 1, 0, 1, 0, 0,\n",
       "       0, 1, 1, 1, 0, 1, 0, 1, 0, 1, 0, 1, 1, 1, 0, 1, 0, 1, 0, 0, 0, 1,\n",
       "       0, 1, 0, 1, 0, 1, 1, 0, 1, 0, 0, 0, 0, 1, 0, 1, 0, 0, 1, 0, 0, 0,\n",
       "       1, 1, 1, 1, 1, 1, 0, 1])"
      ]
     },
     "execution_count": 19,
     "metadata": {},
     "output_type": "execute_result"
    }
   ],
   "source": [
    "sv=SVC(C=10, gamma =1, kernel= 'rbf')\n",
    "sv.fit(X_train,y_train)\n",
    "y_pred2=sv.predict(X_test)\n",
    "y_pred2"
   ]
  },
  {
   "cell_type": "code",
   "execution_count": 20,
   "id": "08b90345",
   "metadata": {
    "execution": {
     "iopub.execute_input": "2024-01-25T11:26:04.314310Z",
     "iopub.status.busy": "2024-01-25T11:26:04.313905Z",
     "iopub.status.idle": "2024-01-25T11:26:04.329066Z",
     "shell.execute_reply": "2024-01-25T11:26:04.327512Z"
    },
    "papermill": {
     "duration": 0.035417,
     "end_time": "2024-01-25T11:26:04.331709",
     "exception": false,
     "start_time": "2024-01-25T11:26:04.296292",
     "status": "completed"
    },
    "tags": []
   },
   "outputs": [
    {
     "name": "stdout",
     "output_type": "stream",
     "text": [
      "              precision    recall  f1-score   support\n",
      "\n",
      "           0       0.91      0.87      0.89       390\n",
      "           1       0.88      0.92      0.90       410\n",
      "\n",
      "    accuracy                           0.90       800\n",
      "   macro avg       0.90      0.90      0.90       800\n",
      "weighted avg       0.90      0.90      0.90       800\n",
      "\n"
     ]
    }
   ],
   "source": [
    "print(classification_report(y_test,y_pred2))"
   ]
  },
  {
   "cell_type": "code",
   "execution_count": 21,
   "id": "f3c24b8e",
   "metadata": {
    "execution": {
     "iopub.execute_input": "2024-01-25T11:26:04.364963Z",
     "iopub.status.busy": "2024-01-25T11:26:04.364520Z",
     "iopub.status.idle": "2024-01-25T11:26:04.375092Z",
     "shell.execute_reply": "2024-01-25T11:26:04.374189Z"
    },
    "papermill": {
     "duration": 0.030505,
     "end_time": "2024-01-25T11:26:04.377451",
     "exception": false,
     "start_time": "2024-01-25T11:26:04.346946",
     "status": "completed"
    },
    "tags": []
   },
   "outputs": [],
   "source": [
    "nb=GaussianNB()\n",
    "nb.fit(X_train,y_train)\n",
    "y_pred2=nb.predict(X_test)\n"
   ]
  },
  {
   "cell_type": "code",
   "execution_count": 22,
   "id": "a8246135",
   "metadata": {
    "execution": {
     "iopub.execute_input": "2024-01-25T11:26:04.409468Z",
     "iopub.status.busy": "2024-01-25T11:26:04.408799Z",
     "iopub.status.idle": "2024-01-25T11:26:04.425034Z",
     "shell.execute_reply": "2024-01-25T11:26:04.423303Z"
    },
    "papermill": {
     "duration": 0.035469,
     "end_time": "2024-01-25T11:26:04.427696",
     "exception": false,
     "start_time": "2024-01-25T11:26:04.392227",
     "status": "completed"
    },
    "tags": []
   },
   "outputs": [
    {
     "name": "stdout",
     "output_type": "stream",
     "text": [
      "              precision    recall  f1-score   support\n",
      "\n",
      "           0       0.73      0.72      0.72       390\n",
      "           1       0.74      0.75      0.74       410\n",
      "\n",
      "    accuracy                           0.73       800\n",
      "   macro avg       0.73      0.73      0.73       800\n",
      "weighted avg       0.73      0.73      0.73       800\n",
      "\n"
     ]
    }
   ],
   "source": [
    "print(classification_report(y_test,y_pred2))"
   ]
  },
  {
   "cell_type": "code",
   "execution_count": 23,
   "id": "5ce590ca",
   "metadata": {
    "execution": {
     "iopub.execute_input": "2024-01-25T11:26:04.460152Z",
     "iopub.status.busy": "2024-01-25T11:26:04.459741Z",
     "iopub.status.idle": "2024-01-25T11:26:04.500814Z",
     "shell.execute_reply": "2024-01-25T11:26:04.499523Z"
    },
    "papermill": {
     "duration": 0.060817,
     "end_time": "2024-01-25T11:26:04.503626",
     "exception": false,
     "start_time": "2024-01-25T11:26:04.442809",
     "status": "completed"
    },
    "tags": []
   },
   "outputs": [],
   "source": [
    "dt=DecisionTreeClassifier(criterion='entropy',random_state=2,max_depth=10)\n",
    "dt.fit(X_train,y_train)\n",
    "y_pred3=dt.predict(X_test)\n"
   ]
  },
  {
   "cell_type": "code",
   "execution_count": 24,
   "id": "073ce497",
   "metadata": {
    "execution": {
     "iopub.execute_input": "2024-01-25T11:26:04.536695Z",
     "iopub.status.busy": "2024-01-25T11:26:04.535947Z",
     "iopub.status.idle": "2024-01-25T11:26:04.552962Z",
     "shell.execute_reply": "2024-01-25T11:26:04.551687Z"
    },
    "papermill": {
     "duration": 0.037404,
     "end_time": "2024-01-25T11:26:04.556176",
     "exception": false,
     "start_time": "2024-01-25T11:26:04.518772",
     "status": "completed"
    },
    "tags": []
   },
   "outputs": [
    {
     "name": "stdout",
     "output_type": "stream",
     "text": [
      "              precision    recall  f1-score   support\n",
      "\n",
      "           0       0.93      0.82      0.87       390\n",
      "           1       0.85      0.94      0.89       410\n",
      "\n",
      "    accuracy                           0.88       800\n",
      "   macro avg       0.89      0.88      0.88       800\n",
      "weighted avg       0.89      0.88      0.88       800\n",
      "\n"
     ]
    }
   ],
   "source": [
    "print(classification_report(y_test,y_pred3))"
   ]
  },
  {
   "cell_type": "code",
   "execution_count": 25,
   "id": "51fb2b07",
   "metadata": {
    "execution": {
     "iopub.execute_input": "2024-01-25T11:26:04.588832Z",
     "iopub.status.busy": "2024-01-25T11:26:04.588413Z",
     "iopub.status.idle": "2024-01-25T11:26:06.875687Z",
     "shell.execute_reply": "2024-01-25T11:26:06.874635Z"
    },
    "papermill": {
     "duration": 2.30671,
     "end_time": "2024-01-25T11:26:06.878186",
     "exception": false,
     "start_time": "2024-01-25T11:26:04.571476",
     "status": "completed"
    },
    "tags": []
   },
   "outputs": [],
   "source": [
    "rf=RandomForestClassifier(criterion= 'entropy', max_depth= None, min_samples_leaf= 1, min_samples_split= 4,n_estimators= 200)\n",
    "rf.fit(X_train,y_train)\n",
    "y_pred4=rf.predict(X_test)\n"
   ]
  },
  {
   "cell_type": "code",
   "execution_count": 26,
   "id": "8f5d9a47",
   "metadata": {
    "execution": {
     "iopub.execute_input": "2024-01-25T11:26:06.910976Z",
     "iopub.status.busy": "2024-01-25T11:26:06.910524Z",
     "iopub.status.idle": "2024-01-25T11:26:06.926605Z",
     "shell.execute_reply": "2024-01-25T11:26:06.924816Z"
    },
    "papermill": {
     "duration": 0.035353,
     "end_time": "2024-01-25T11:26:06.929325",
     "exception": false,
     "start_time": "2024-01-25T11:26:06.893972",
     "status": "completed"
    },
    "tags": []
   },
   "outputs": [
    {
     "name": "stdout",
     "output_type": "stream",
     "text": [
      "              precision    recall  f1-score   support\n",
      "\n",
      "           0       1.00      0.95      0.98       390\n",
      "           1       0.96      1.00      0.98       410\n",
      "\n",
      "    accuracy                           0.98       800\n",
      "   macro avg       0.98      0.98      0.98       800\n",
      "weighted avg       0.98      0.98      0.98       800\n",
      "\n"
     ]
    }
   ],
   "source": [
    "print(classification_report(y_test,y_pred4))\n"
   ]
  },
  {
   "cell_type": "code",
   "execution_count": 27,
   "id": "20cd5daa",
   "metadata": {
    "execution": {
     "iopub.execute_input": "2024-01-25T11:26:06.961911Z",
     "iopub.status.busy": "2024-01-25T11:26:06.961194Z",
     "iopub.status.idle": "2024-01-25T11:26:07.527246Z",
     "shell.execute_reply": "2024-01-25T11:26:07.526340Z"
    },
    "papermill": {
     "duration": 0.585404,
     "end_time": "2024-01-25T11:26:07.529890",
     "exception": false,
     "start_time": "2024-01-25T11:26:06.944486",
     "status": "completed"
    },
    "tags": []
   },
   "outputs": [],
   "source": [
    "xgb=XGBClassifier()\n",
    "xgb.fit(X_train,y_train)\n",
    "y_pred7=xgb.predict(X_test)\n"
   ]
  },
  {
   "cell_type": "code",
   "execution_count": 28,
   "id": "a3989c0f",
   "metadata": {
    "execution": {
     "iopub.execute_input": "2024-01-25T11:26:07.563141Z",
     "iopub.status.busy": "2024-01-25T11:26:07.562053Z",
     "iopub.status.idle": "2024-01-25T11:26:07.577649Z",
     "shell.execute_reply": "2024-01-25T11:26:07.576329Z"
    },
    "papermill": {
     "duration": 0.034963,
     "end_time": "2024-01-25T11:26:07.580386",
     "exception": false,
     "start_time": "2024-01-25T11:26:07.545423",
     "status": "completed"
    },
    "tags": []
   },
   "outputs": [
    {
     "name": "stdout",
     "output_type": "stream",
     "text": [
      "              precision    recall  f1-score   support\n",
      "\n",
      "           0       1.00      0.93      0.96       390\n",
      "           1       0.93      1.00      0.97       410\n",
      "\n",
      "    accuracy                           0.96       800\n",
      "   macro avg       0.97      0.96      0.96       800\n",
      "weighted avg       0.97      0.96      0.96       800\n",
      "\n"
     ]
    }
   ],
   "source": [
    "print(classification_report(y_test,y_pred7))"
   ]
  },
  {
   "cell_type": "code",
   "execution_count": null,
   "id": "7081a901",
   "metadata": {
    "execution": {
     "iopub.execute_input": "2024-01-25T11:17:10.760595Z",
     "iopub.status.busy": "2024-01-25T11:17:10.759458Z",
     "iopub.status.idle": "2024-01-25T11:17:24.280928Z",
     "shell.execute_reply": "2024-01-25T11:17:24.279634Z",
     "shell.execute_reply.started": "2024-01-25T11:17:10.760551Z"
    },
    "papermill": {
     "duration": 0.015387,
     "end_time": "2024-01-25T11:26:07.611415",
     "exception": false,
     "start_time": "2024-01-25T11:26:07.596028",
     "status": "completed"
    },
    "tags": []
   },
   "outputs": [],
   "source": []
  },
  {
   "cell_type": "code",
   "execution_count": 29,
   "id": "6df3653a",
   "metadata": {
    "execution": {
     "iopub.execute_input": "2024-01-25T11:26:07.644461Z",
     "iopub.status.busy": "2024-01-25T11:26:07.644048Z",
     "iopub.status.idle": "2024-01-25T11:26:07.946297Z",
     "shell.execute_reply": "2024-01-25T11:26:07.945131Z"
    },
    "papermill": {
     "duration": 0.321861,
     "end_time": "2024-01-25T11:26:07.948780",
     "exception": false,
     "start_time": "2024-01-25T11:26:07.626919",
     "status": "completed"
    },
    "tags": []
   },
   "outputs": [
    {
     "data": {
      "image/png": "[encoded data removed]",
      "text/plain": [
       "<Figure size 1000x600 with 1 Axes>"
      ]
     },
     "metadata": {},
     "output_type": "display_data"
    }
   ],
   "source": [
    "from sklearn.metrics import precision_recall_fscore_support\n",
    "import matplotlib.pyplot as plt\n",
    "import numpy as np\n",
    "\n",
    "# Define the models and their respective predictions\n",
    "models = ['KNN', 'SVM', 'Naive Bayes', 'Decision Tree', 'Random Forest', 'XGBoost']\n",
    "predictions = [y_pred1, y_pred2, y_pred2, y_pred3, y_pred4, y_pred7]\n",
    "\n",
    "# Calculate precision, recall, and f1-score for each model\n",
    "precision = []\n",
    "recall = []\n",
    "f1_score = []\n",
    "\n",
    "for y_pred in predictions:\n",
    "    p, r, f, _ = precision_recall_fscore_support(y_test, y_pred, average='weighted')\n",
    "    precision.append(p)\n",
    "    recall.append(r)\n",
    "    f1_score.append(f)\n",
    "\n",
    "# Plotting the comparison\n",
    "fig, ax = plt.subplots(figsize=(10, 6))\n",
    "\n",
    "bar_width = 0.2\n",
    "index = np.arange(len(models))\n",
    "\n",
    "rect1 = ax.bar(index, precision, bar_width, label='Precision')\n",
    "rect2 = ax.bar(index + bar_width, recall, bar_width, label='Recall')\n",
    "rect3 = ax.bar(index + 2 * bar_width, f1_score, bar_width, label='F1 Score')\n",
    "\n",
    "ax.set_xlabel('Models')\n",
    "ax.set_ylabel('Scores')\n",
    "ax.set_title('Comparison of Model Performance')\n",
    "ax.set_xticks(index + bar_width)\n",
    "ax.set_xticklabels(models)\n",
    "ax.legend()\n",
    "\n",
    "plt.show()\n"
   ]
  },
  {
   "cell_type": "markdown",
   "id": "7eb54b76",
   "metadata": {
    "papermill": {
     "duration": 0.016095,
     "end_time": "2024-01-25T11:26:07.980816",
     "exception": false,
     "start_time": "2024-01-25T11:26:07.964721",
     "status": "completed"
    },
    "tags": []
   },
   "source": [
    "HIGEST VALE IS .98 ACCURACY IN **Random Forest Classifier**"
   ]
  },
  {
   "cell_type": "markdown",
   "id": "8f362461",
   "metadata": {
    "papermill": {
     "duration": 0.015546,
     "end_time": "2024-01-25T11:26:08.012144",
     "exception": false,
     "start_time": "2024-01-25T11:26:07.996598",
     "status": "completed"
    },
    "tags": []
   },
   "source": [
    "## RNN Approch\n",
    "### LSTM:\n",
    "LSTM (Long Short-Term Memory) is a type of Recurrent Neural Network (RNN). Both LSTM and traditional RNNs are neural network architectures designed for processing sequences of data. They are particularly well-suited for tasks involving sequential or time-dependent patterns, such as time series analysis, natural language processing, and speech recognition."
   ]
  },
  {
   "cell_type": "code",
   "execution_count": 30,
   "id": "7bac291b",
   "metadata": {
    "execution": {
     "iopub.execute_input": "2024-01-25T11:26:08.045944Z",
     "iopub.status.busy": "2024-01-25T11:26:08.045500Z",
     "iopub.status.idle": "2024-01-25T11:27:01.500898Z",
     "shell.execute_reply": "2024-01-25T11:27:01.499628Z"
    },
    "papermill": {
     "duration": 53.475477,
     "end_time": "2024-01-25T11:27:01.503588",
     "exception": false,
     "start_time": "2024-01-25T11:26:08.028111",
     "status": "completed"
    },
    "tags": []
   },
   "outputs": [
    {
     "name": "stdout",
     "output_type": "stream",
     "text": [
      "Epoch 1/50\n",
      "225/225 [==============================] - 4s 7ms/step - loss: 0.6478 - accuracy: 0.6294 - val_loss: 0.6144 - val_accuracy: 0.6687\n",
      "Epoch 2/50\n",
      "225/225 [==============================] - 1s 3ms/step - loss: 0.5635 - accuracy: 0.7128 - val_loss: 0.5439 - val_accuracy: 0.7250\n",
      "Epoch 3/50\n",
      "225/225 [==============================] - 1s 3ms/step - loss: 0.5039 - accuracy: 0.7688 - val_loss: 0.4980 - val_accuracy: 0.7812\n",
      "Epoch 4/50\n",
      "225/225 [==============================] - 1s 3ms/step - loss: 0.4804 - accuracy: 0.7872 - val_loss: 0.4868 - val_accuracy: 0.7937\n",
      "Epoch 5/50\n",
      "225/225 [==============================] - 1s 3ms/step - loss: 0.4734 - accuracy: 0.7890 - val_loss: 0.4800 - val_accuracy: 0.7937\n",
      "Epoch 6/50\n",
      "225/225 [==============================] - 1s 3ms/step - loss: 0.4694 - accuracy: 0.7915 - val_loss: 0.4808 - val_accuracy: 0.7875\n",
      "Epoch 7/50\n",
      "225/225 [==============================] - 1s 3ms/step - loss: 0.4673 - accuracy: 0.7926 - val_loss: 0.4794 - val_accuracy: 0.7937\n",
      "Epoch 8/50\n",
      "225/225 [==============================] - 1s 3ms/step - loss: 0.4662 - accuracy: 0.7943 - val_loss: 0.4757 - val_accuracy: 0.7987\n",
      "Epoch 9/50\n",
      "225/225 [==============================] - 1s 3ms/step - loss: 0.4647 - accuracy: 0.7925 - val_loss: 0.4754 - val_accuracy: 0.7987\n",
      "Epoch 10/50\n",
      "225/225 [==============================] - 1s 3ms/step - loss: 0.4618 - accuracy: 0.7960 - val_loss: 0.4749 - val_accuracy: 0.7900\n",
      "Epoch 11/50\n",
      "225/225 [==============================] - 1s 4ms/step - loss: 0.4597 - accuracy: 0.7968 - val_loss: 0.4769 - val_accuracy: 0.8012\n",
      "Epoch 12/50\n",
      "225/225 [==============================] - 1s 4ms/step - loss: 0.4595 - accuracy: 0.7958 - val_loss: 0.4723 - val_accuracy: 0.8000\n",
      "Epoch 13/50\n",
      "225/225 [==============================] - 1s 3ms/step - loss: 0.4576 - accuracy: 0.7997 - val_loss: 0.4758 - val_accuracy: 0.7825\n",
      "Epoch 14/50\n",
      "225/225 [==============================] - 1s 3ms/step - loss: 0.4546 - accuracy: 0.7985 - val_loss: 0.4711 - val_accuracy: 0.7950\n",
      "Epoch 15/50\n",
      "225/225 [==============================] - 1s 3ms/step - loss: 0.4537 - accuracy: 0.7975 - val_loss: 0.4676 - val_accuracy: 0.7987\n",
      "Epoch 16/50\n",
      "225/225 [==============================] - 1s 3ms/step - loss: 0.4514 - accuracy: 0.7997 - val_loss: 0.4664 - val_accuracy: 0.7975\n",
      "Epoch 17/50\n",
      "225/225 [==============================] - 1s 3ms/step - loss: 0.4488 - accuracy: 0.8001 - val_loss: 0.4637 - val_accuracy: 0.8012\n",
      "Epoch 18/50\n",
      "225/225 [==============================] - 1s 3ms/step - loss: 0.4492 - accuracy: 0.8033 - val_loss: 0.4640 - val_accuracy: 0.7925\n",
      "Epoch 19/50\n",
      "225/225 [==============================] - 1s 3ms/step - loss: 0.4470 - accuracy: 0.8015 - val_loss: 0.4624 - val_accuracy: 0.7912\n",
      "Epoch 20/50\n",
      "225/225 [==============================] - 1s 3ms/step - loss: 0.4454 - accuracy: 0.8021 - val_loss: 0.4686 - val_accuracy: 0.8000\n",
      "Epoch 21/50\n",
      "225/225 [==============================] - 1s 3ms/step - loss: 0.4445 - accuracy: 0.7989 - val_loss: 0.4595 - val_accuracy: 0.8000\n",
      "Epoch 22/50\n",
      "225/225 [==============================] - 1s 4ms/step - loss: 0.4419 - accuracy: 0.8000 - val_loss: 0.4582 - val_accuracy: 0.7950\n",
      "Epoch 23/50\n",
      "225/225 [==============================] - 1s 4ms/step - loss: 0.4420 - accuracy: 0.8008 - val_loss: 0.4558 - val_accuracy: 0.7950\n",
      "Epoch 24/50\n",
      "225/225 [==============================] - 1s 3ms/step - loss: 0.4388 - accuracy: 0.8037 - val_loss: 0.4586 - val_accuracy: 0.7837\n",
      "Epoch 25/50\n",
      "225/225 [==============================] - 1s 3ms/step - loss: 0.4389 - accuracy: 0.8032 - val_loss: 0.4547 - val_accuracy: 0.8012\n",
      "Epoch 26/50\n",
      "225/225 [==============================] - 1s 3ms/step - loss: 0.4359 - accuracy: 0.8029 - val_loss: 0.4515 - val_accuracy: 0.8037\n",
      "Epoch 27/50\n",
      "225/225 [==============================] - 1s 3ms/step - loss: 0.4358 - accuracy: 0.8054 - val_loss: 0.4508 - val_accuracy: 0.8012\n",
      "Epoch 28/50\n",
      "225/225 [==============================] - 1s 3ms/step - loss: 0.4333 - accuracy: 0.8078 - val_loss: 0.4511 - val_accuracy: 0.8025\n",
      "Epoch 29/50\n",
      "225/225 [==============================] - 1s 3ms/step - loss: 0.4318 - accuracy: 0.8062 - val_loss: 0.4479 - val_accuracy: 0.8062\n",
      "Epoch 30/50\n",
      "225/225 [==============================] - 1s 3ms/step - loss: 0.4305 - accuracy: 0.8093 - val_loss: 0.4498 - val_accuracy: 0.7912\n",
      "Epoch 31/50\n",
      "225/225 [==============================] - 1s 3ms/step - loss: 0.4291 - accuracy: 0.8064 - val_loss: 0.4454 - val_accuracy: 0.7937\n",
      "Epoch 32/50\n",
      "225/225 [==============================] - 1s 3ms/step - loss: 0.4275 - accuracy: 0.8086 - val_loss: 0.4477 - val_accuracy: 0.7962\n",
      "Epoch 33/50\n",
      "225/225 [==============================] - 1s 4ms/step - loss: 0.4263 - accuracy: 0.8100 - val_loss: 0.4445 - val_accuracy: 0.8037\n",
      "Epoch 34/50\n",
      "225/225 [==============================] - 1s 4ms/step - loss: 0.4252 - accuracy: 0.8125 - val_loss: 0.4521 - val_accuracy: 0.7912\n",
      "Epoch 35/50\n",
      "225/225 [==============================] - 1s 3ms/step - loss: 0.4238 - accuracy: 0.8111 - val_loss: 0.4424 - val_accuracy: 0.8012\n",
      "Epoch 36/50\n",
      "225/225 [==============================] - 1s 3ms/step - loss: 0.4230 - accuracy: 0.8089 - val_loss: 0.4424 - val_accuracy: 0.7962\n",
      "Epoch 37/50\n",
      "225/225 [==============================] - 1s 4ms/step - loss: 0.4211 - accuracy: 0.8093 - val_loss: 0.4405 - val_accuracy: 0.8050\n",
      "Epoch 38/50\n",
      "225/225 [==============================] - 1s 3ms/step - loss: 0.4199 - accuracy: 0.8139 - val_loss: 0.4388 - val_accuracy: 0.8037\n",
      "Epoch 39/50\n",
      "225/225 [==============================] - 1s 3ms/step - loss: 0.4186 - accuracy: 0.8190 - val_loss: 0.4414 - val_accuracy: 0.8025\n",
      "Epoch 40/50\n",
      "225/225 [==============================] - 1s 3ms/step - loss: 0.4180 - accuracy: 0.8140 - val_loss: 0.4404 - val_accuracy: 0.7950\n",
      "Epoch 41/50\n",
      "225/225 [==============================] - 1s 3ms/step - loss: 0.4171 - accuracy: 0.8157 - val_loss: 0.4414 - val_accuracy: 0.8000\n",
      "Epoch 42/50\n",
      "225/225 [==============================] - 1s 3ms/step - loss: 0.4150 - accuracy: 0.8157 - val_loss: 0.4374 - val_accuracy: 0.8037\n",
      "Epoch 43/50\n",
      "225/225 [==============================] - 1s 3ms/step - loss: 0.4147 - accuracy: 0.8157 - val_loss: 0.4367 - val_accuracy: 0.8037\n",
      "Epoch 44/50\n",
      "225/225 [==============================] - 1s 4ms/step - loss: 0.4138 - accuracy: 0.8165 - val_loss: 0.4350 - val_accuracy: 0.7962\n",
      "Epoch 45/50\n",
      "225/225 [==============================] - 1s 4ms/step - loss: 0.4130 - accuracy: 0.8196 - val_loss: 0.4342 - val_accuracy: 0.8000\n",
      "Epoch 46/50\n",
      "225/225 [==============================] - 1s 3ms/step - loss: 0.4120 - accuracy: 0.8182 - val_loss: 0.4336 - val_accuracy: 0.7950\n",
      "Epoch 47/50\n",
      "225/225 [==============================] - 1s 3ms/step - loss: 0.4103 - accuracy: 0.8185 - val_loss: 0.4334 - val_accuracy: 0.8037\n",
      "Epoch 48/50\n",
      "225/225 [==============================] - 1s 3ms/step - loss: 0.4099 - accuracy: 0.8190 - val_loss: 0.4333 - val_accuracy: 0.7987\n",
      "Epoch 49/50\n",
      "225/225 [==============================] - 1s 3ms/step - loss: 0.4091 - accuracy: 0.8172 - val_loss: 0.4315 - val_accuracy: 0.7937\n",
      "Epoch 50/50\n",
      "225/225 [==============================] - 1s 3ms/step - loss: 0.4073 - accuracy: 0.8217 - val_loss: 0.4296 - val_accuracy: 0.8000\n",
      "25/25 [==============================] - 0s 2ms/step - loss: 0.4296 - accuracy: 0.8000\n",
      "Model Accuracy: 80.00%\n"
     ]
    }
   ],
   "source": [
    "import tensorflow as tf\n",
    "from tensorflow.keras.models import Sequential\n",
    "from tensorflow.keras.layers import LSTM, Dense\n",
    "\n",
    "# Reshape data for LSTM (assuming you have a time series dataset)\n",
    "X_train_lstm = X_train.reshape((X_train.shape[0], 1, X_train.shape[1]))\n",
    "X_test_lstm = X_test.reshape((X_test.shape[0], 1, X_test.shape[1]))\n",
    "\n",
    "# Build LSTM model\n",
    "model = Sequential()\n",
    "model.add(LSTM(50, input_shape=(X_train_lstm.shape[1], X_train_lstm.shape[2])))\n",
    "model.add(Dense(1, activation='sigmoid'))  # Assuming binary classification\n",
    "\n",
    "# Compile the model with a specified learning rate\n",
    "optimizer = tf.keras.optimizers.Adam(learning_rate=0.001)  # Adjust the learning rate as needed\n",
    "model.compile(optimizer=optimizer, loss='binary_crossentropy', metrics=['accuracy'])\n",
    "\n",
    "# Train the model\n",
    "model.fit(X_train_lstm, y_train, epochs=50, batch_size=32, validation_data=(X_test_lstm, y_test))\n",
    "\n",
    "# Evaluate the model\n",
    "_, accuracy = model.evaluate(X_test_lstm, y_test)\n",
    "print(f'Model Accuracy: {accuracy * 100:.2f}%')\n"
   ]
  },
  {
   "cell_type": "code",
   "execution_count": null,
   "id": "0b1e61a6",
   "metadata": {
    "papermill": {
     "duration": 0.061784,
     "end_time": "2024-01-25T11:27:01.627758",
     "exception": false,
     "start_time": "2024-01-25T11:27:01.565974",
     "status": "completed"
    },
    "tags": []
   },
   "outputs": [],
   "source": []
  }
 ],
 "metadata": {
  "kaggle": {
   "accelerator": "none",
   "dataSources": [
    {
     "datasetId": 3574954,
     "sourceId": 7373834,
     "sourceType": "datasetVersion"
    }
   ],
   "dockerImageVersionId": 30527,
   "isGpuEnabled": false,
   "isInternetEnabled": true,
   "language": "python",
   "sourceType": "notebook"
  },
  "kernelspec": {
   "display_name": "Python 3",
   "language": "python",
   "name": "python3"
  },
  "language_info": {
   "codemirror_mode": {
    "name": "ipython",
    "version": 3
   },
   "file_extension": ".py",
   "mimetype": "text/x-python",
   "name": "python",
   "nbconvert_exporter": "python",
   "pygments_lexer": "ipython3",
   "version": "3.10.12"
  },
  "papermill": {
   "default_parameters": {},
   "duration": 83.143428,
   "end_time": "2024-01-25T11:27:04.855179",
   "environment_variables": {},
   "exception": null,
   "input_path": "__notebook__.ipynb",
   "output_path": "__notebook__.ipynb",
   "parameters": {},
   "start_time": "2024-01-25T11:25:41.711751",
   "version": "2.4.0"
  }
 },
 "nbformat": 4,
 "nbformat_minor": 5
}
