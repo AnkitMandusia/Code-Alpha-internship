{
 "cells": [
  {
   "cell_type": "markdown",
   "id": "0a23e876",
   "metadata": {
    "id": "_NW5KZFu8xB0",
    "papermill": {
     "duration": 0.026868,
     "end_time": "2024-01-24T14:54:27.629285",
     "exception": false,
     "start_time": "2024-01-24T14:54:27.602417",
     "status": "completed"
    },
    "tags": []
   },
   "source": [
    "# Objective:\n",
    "### Develop a Machine Learning model to predict the risk of diabetes and identify key factors influencing diabetes onset, contributing to early intervention and prevention strategies.\n",
    "\n",
    "Goal is to predict the presence or absence of diabetes based on various health-related features. Here's a brief introduction to each of the dataset's variables:\n",
    "\n",
    "1. **Pregnancies:**\n",
    "   - Represents the number of times a person has been pregnant.\n",
    "\n",
    "2. **Glucose:**\n",
    "   - Indicates the plasma glucose concentration measured two hours after an oral glucose tolerance test. This is a key indicator of blood sugar levels.\n",
    "\n",
    "3. **BloodPressure:**\n",
    "   - Refers to diastolic blood pressure, measured in millimeters of mercury (mm Hg). Diastolic pressure is the lower number in a blood pressure reading.\n",
    "\n",
    "4. **SkinThickness:**\n",
    "   - Represents the triceps skin fold thickness in millimeters. This measurement can provide information about body fat distribution.\n",
    "\n",
    "5. **Insulin:**\n",
    "   - Represents the 2-hour serum insulin level, measured in micro international units per milliliter (mu U/ml). Insulin is a hormone that plays a crucial role in regulating blood sugar levels.\n",
    "\n",
    "6. **BMI (Body Mass Index):**\n",
    "   - Calculated as the weight in kilograms divided by the square of height in meters. BMI is a common measure used to assess whether an individual has a healthy body weight relative to their height.\n",
    "\n",
    "7. **DiabetesPedigreeFunction:**\n",
    "   - Represents a function that scores the likelihood of diabetes based on family history. It provides information about the hereditary risk of diabetes.\n",
    "\n",
    "8. **Age:**\n",
    "   - Represents the age of the individual in years. Age is an important factor in assessing the risk of diabetes, as it is often associated with an increased likelihood of developing the condition.\n",
    "\n",
    "9. **Outcome:**\n",
    "   - A binary class variable indicating the presence (1) or absence (0) of diabetes. This is the target variable that the machine learning model aims to predict.\n",
    "\n",
    "These features encompass a range of health-related measurements and demographic information that are commonly associated with diabetes risk. Machine learning models trained on such datasets can leverage these variables to predict the likelihood of an individual having diabetes, which can be valuable for early diagnosis and intervention in healthcare settings."
   ]
  },
  {
   "cell_type": "markdown",
   "id": "42ace7a3",
   "metadata": {
    "id": "rYYCo_vV8xCU",
    "papermill": {
     "duration": 0.028193,
     "end_time": "2024-01-24T14:54:27.684543",
     "exception": false,
     "start_time": "2024-01-24T14:54:27.656350",
     "status": "completed"
    },
    "tags": []
   },
   "source": [
    "## 1. Importing Libraries"
   ]
  },
  {
   "cell_type": "code",
   "execution_count": 1,
   "id": "cc28f8ca",
   "metadata": {
    "execution": {
     "iopub.execute_input": "2024-01-24T14:54:27.739660Z",
     "iopub.status.busy": "2024-01-24T14:54:27.738740Z",
     "iopub.status.idle": "2024-01-24T14:54:34.098665Z",
     "shell.execute_reply": "2024-01-24T14:54:34.097407Z"
    },
    "id": "kMIhe6yY8xCV",
    "papermill": {
     "duration": 6.391146,
     "end_time": "2024-01-24T14:54:34.101713",
     "exception": false,
     "start_time": "2024-01-24T14:54:27.710567",
     "status": "completed"
    },
    "tags": []
   },
   "outputs": [
    {
     "name": "stdout",
     "output_type": "stream",
     "text": [
      "/kaggle/input/diabetes.csv\n"
     ]
    }
   ],
   "source": [
    "# This Python 3 environment comes with many helpful analytics libraries installed\n",
    "# It is defined by the kaggle/python Docker image: https://github.com/kaggle/docker-python\n",
    "# For example, here's several helpful packages to load\n",
    "\n",
    "import numpy as np # linear algebra\n",
    "import pandas as pd # data processing, CSV file I/O (e.g. pd.read_csv)\n",
    "\n",
    "# Input data files are available in the read-only \"../input/\" directory\n",
    "# For example, running this (by clicking run or pressing Shift+Enter) will list all files under the input directory\n",
    "\n",
    "import os\n",
    "for dirname, _, filenames in os.walk('/kaggle/input'):\n",
    "    for filename in filenames:\n",
    "        print(os.path.join(dirname, filename))\n",
    "\n",
    "# You can write up to 5GB to the current directory (/kaggle/working/) that gets preserved as output when you create a version using \"Save & Run All\"\n",
    "# You can also write temporary files to /kaggle/temp/, but they won't be saved outside of the current session\n",
    "\n",
    "import statsmodels.api as sm\n",
    "import seaborn as sns\n",
    "import matplotlib.pyplot as plt\n",
    "from sklearn.preprocessing import scale, StandardScaler\n",
    "from sklearn.model_selection import train_test_split, GridSearchCV, cross_val_score\n",
    "from sklearn.metrics import confusion_matrix, accuracy_score, mean_squared_error, r2_score, roc_auc_score, roc_curve, classification_report\n",
    "from sklearn.linear_model import LogisticRegression\n",
    "from sklearn.neighbors import KNeighborsClassifier\n",
    "from sklearn.svm import SVC\n",
    "from sklearn.neural_network import MLPClassifier\n",
    "from sklearn.tree import DecisionTreeClassifier\n",
    "from sklearn.ensemble import RandomForestClassifier\n",
    "from sklearn.ensemble import GradientBoostingClassifier\n",
    "from lightgbm import LGBMClassifier\n",
    "from sklearn.model_selection import KFold\n",
    "\n",
    "import warnings\n",
    "warnings.filterwarnings(\"ignore\", category=DeprecationWarning)\n",
    "warnings.filterwarnings(\"ignore\", category=FutureWarning)\n",
    "warnings.filterwarnings(\"ignore\", category=UserWarning)\n",
    "\n",
    "%config InlineBackend.figure_format = 'retina'\n",
    "\n",
    "# to display all columns and rows:\n",
    "pd.set_option('display.max_columns', None); pd.set_option('display.max_rows', None);  # to display all columns and rows\n",
    "pd.set_option('display.float_format', lambda x: '%.2f' % x) # The number of numbers that will be shown after the comma.\n"
   ]
  },
  {
   "cell_type": "markdown",
   "id": "ca0b220d",
   "metadata": {
    "id": "BkPnrCwE8xCh",
    "papermill": {
     "duration": 0.027327,
     "end_time": "2024-01-24T14:54:34.157467",
     "exception": false,
     "start_time": "2024-01-24T14:54:34.130140",
     "status": "completed"
    },
    "tags": []
   },
   "source": [
    "## 2. EDA (Exploratory of Data Analysis)\n",
    "### 2.1. Data Preperation"
   ]
  },
  {
   "cell_type": "code",
   "execution_count": 2,
   "id": "0d8db2c9",
   "metadata": {
    "execution": {
     "iopub.execute_input": "2024-01-24T14:54:34.229409Z",
     "iopub.status.busy": "2024-01-24T14:54:34.228840Z",
     "iopub.status.idle": "2024-01-24T14:54:34.256297Z",
     "shell.execute_reply": "2024-01-24T14:54:34.254423Z"
    },
    "id": "4UKlnhZ78xCi",
    "papermill": {
     "duration": 0.068013,
     "end_time": "2024-01-24T14:54:34.260809",
     "exception": false,
     "start_time": "2024-01-24T14:54:34.192796",
     "status": "completed"
    },
    "tags": []
   },
   "outputs": [],
   "source": [
    "#Reading the dataset\n",
    "input = '/kaggle/input/diabetes.csv'\n",
    "df = pd.read_csv(input)"
   ]
  },
  {
   "cell_type": "code",
   "execution_count": 3,
   "id": "859d6085",
   "metadata": {
    "execution": {
     "iopub.execute_input": "2024-01-24T14:54:34.396287Z",
     "iopub.status.busy": "2024-01-24T14:54:34.395441Z",
     "iopub.status.idle": "2024-01-24T14:54:34.404258Z",
     "shell.execute_reply": "2024-01-24T14:54:34.403351Z"
    },
    "id": "nzIwm0ty8xCj",
    "outputId": "7a125b8b-4864-482e-b4af-6c6f48b973c1",
    "papermill": {
     "duration": 0.042498,
     "end_time": "2024-01-24T14:54:34.406658",
     "exception": false,
     "start_time": "2024-01-24T14:54:34.364160",
     "status": "completed"
    },
    "tags": []
   },
   "outputs": [
    {
     "data": {
      "text/plain": [
       "(768, 9)"
      ]
     },
     "execution_count": 3,
     "metadata": {},
     "output_type": "execute_result"
    }
   ],
   "source": [
    "df.shape"
   ]
  },
  {
   "cell_type": "code",
   "execution_count": 4,
   "id": "0e248691",
   "metadata": {
    "execution": {
     "iopub.execute_input": "2024-01-24T14:54:34.474444Z",
     "iopub.status.busy": "2024-01-24T14:54:34.473688Z",
     "iopub.status.idle": "2024-01-24T14:54:34.531702Z",
     "shell.execute_reply": "2024-01-24T14:54:34.530510Z"
    },
    "id": "H6WnVq8O8xCk",
    "outputId": "49b83842-e191-488f-c64b-68f7b004f13e",
    "papermill": {
     "duration": 0.09647,
     "end_time": "2024-01-24T14:54:34.534469",
     "exception": false,
     "start_time": "2024-01-24T14:54:34.437999",
     "status": "completed"
    },
    "tags": []
   },
   "outputs": [
    {
     "data": {
      "text/html": [
       "<div>\n",
       "<style scoped>\n",
       "    .dataframe tbody tr th:only-of-type {\n",
       "        vertical-align: middle;\n",
       "    }\n",
       "\n",
       "    .dataframe tbody tr th {\n",
       "        vertical-align: top;\n",
       "    }\n",
       "\n",
       "    .dataframe thead th {\n",
       "        text-align: right;\n",
       "    }\n",
       "</style>\n",
       "<table border=\"1\" class=\"dataframe\">\n",
       "  <thead>\n",
       "    <tr style=\"text-align: right;\">\n",
       "      <th></th>\n",
       "      <th>count</th>\n",
       "      <th>mean</th>\n",
       "      <th>std</th>\n",
       "      <th>min</th>\n",
       "      <th>10%</th>\n",
       "      <th>25%</th>\n",
       "      <th>50%</th>\n",
       "      <th>75%</th>\n",
       "      <th>90%</th>\n",
       "      <th>95%</th>\n",
       "      <th>99%</th>\n",
       "      <th>max</th>\n",
       "    </tr>\n",
       "  </thead>\n",
       "  <tbody>\n",
       "    <tr>\n",
       "      <th>Pregnancies</th>\n",
       "      <td>768.00</td>\n",
       "      <td>3.85</td>\n",
       "      <td>3.37</td>\n",
       "      <td>0.00</td>\n",
       "      <td>0.00</td>\n",
       "      <td>1.00</td>\n",
       "      <td>3.00</td>\n",
       "      <td>6.00</td>\n",
       "      <td>9.00</td>\n",
       "      <td>10.00</td>\n",
       "      <td>13.00</td>\n",
       "      <td>17.00</td>\n",
       "    </tr>\n",
       "    <tr>\n",
       "      <th>Glucose</th>\n",
       "      <td>768.00</td>\n",
       "      <td>120.89</td>\n",
       "      <td>31.97</td>\n",
       "      <td>0.00</td>\n",
       "      <td>85.00</td>\n",
       "      <td>99.00</td>\n",
       "      <td>117.00</td>\n",
       "      <td>140.25</td>\n",
       "      <td>167.00</td>\n",
       "      <td>181.00</td>\n",
       "      <td>196.00</td>\n",
       "      <td>199.00</td>\n",
       "    </tr>\n",
       "    <tr>\n",
       "      <th>BloodPressure</th>\n",
       "      <td>768.00</td>\n",
       "      <td>69.11</td>\n",
       "      <td>19.36</td>\n",
       "      <td>0.00</td>\n",
       "      <td>54.00</td>\n",
       "      <td>62.00</td>\n",
       "      <td>72.00</td>\n",
       "      <td>80.00</td>\n",
       "      <td>88.00</td>\n",
       "      <td>90.00</td>\n",
       "      <td>106.00</td>\n",
       "      <td>122.00</td>\n",
       "    </tr>\n",
       "    <tr>\n",
       "      <th>SkinThickness</th>\n",
       "      <td>768.00</td>\n",
       "      <td>20.54</td>\n",
       "      <td>15.95</td>\n",
       "      <td>0.00</td>\n",
       "      <td>0.00</td>\n",
       "      <td>0.00</td>\n",
       "      <td>23.00</td>\n",
       "      <td>32.00</td>\n",
       "      <td>40.00</td>\n",
       "      <td>44.00</td>\n",
       "      <td>51.33</td>\n",
       "      <td>99.00</td>\n",
       "    </tr>\n",
       "    <tr>\n",
       "      <th>Insulin</th>\n",
       "      <td>768.00</td>\n",
       "      <td>79.80</td>\n",
       "      <td>115.24</td>\n",
       "      <td>0.00</td>\n",
       "      <td>0.00</td>\n",
       "      <td>0.00</td>\n",
       "      <td>30.50</td>\n",
       "      <td>127.25</td>\n",
       "      <td>210.00</td>\n",
       "      <td>293.00</td>\n",
       "      <td>519.90</td>\n",
       "      <td>846.00</td>\n",
       "    </tr>\n",
       "    <tr>\n",
       "      <th>BMI</th>\n",
       "      <td>768.00</td>\n",
       "      <td>31.99</td>\n",
       "      <td>7.88</td>\n",
       "      <td>0.00</td>\n",
       "      <td>23.60</td>\n",
       "      <td>27.30</td>\n",
       "      <td>32.00</td>\n",
       "      <td>36.60</td>\n",
       "      <td>41.50</td>\n",
       "      <td>44.39</td>\n",
       "      <td>50.76</td>\n",
       "      <td>67.10</td>\n",
       "    </tr>\n",
       "    <tr>\n",
       "      <th>DiabetesPedigreeFunction</th>\n",
       "      <td>768.00</td>\n",
       "      <td>0.47</td>\n",
       "      <td>0.33</td>\n",
       "      <td>0.08</td>\n",
       "      <td>0.17</td>\n",
       "      <td>0.24</td>\n",
       "      <td>0.37</td>\n",
       "      <td>0.63</td>\n",
       "      <td>0.88</td>\n",
       "      <td>1.13</td>\n",
       "      <td>1.70</td>\n",
       "      <td>2.42</td>\n",
       "    </tr>\n",
       "    <tr>\n",
       "      <th>Age</th>\n",
       "      <td>768.00</td>\n",
       "      <td>33.24</td>\n",
       "      <td>11.76</td>\n",
       "      <td>21.00</td>\n",
       "      <td>22.00</td>\n",
       "      <td>24.00</td>\n",
       "      <td>29.00</td>\n",
       "      <td>41.00</td>\n",
       "      <td>51.00</td>\n",
       "      <td>58.00</td>\n",
       "      <td>67.00</td>\n",
       "      <td>81.00</td>\n",
       "    </tr>\n",
       "    <tr>\n",
       "      <th>Outcome</th>\n",
       "      <td>768.00</td>\n",
       "      <td>0.35</td>\n",
       "      <td>0.48</td>\n",
       "      <td>0.00</td>\n",
       "      <td>0.00</td>\n",
       "      <td>0.00</td>\n",
       "      <td>0.00</td>\n",
       "      <td>1.00</td>\n",
       "      <td>1.00</td>\n",
       "      <td>1.00</td>\n",
       "      <td>1.00</td>\n",
       "      <td>1.00</td>\n",
       "    </tr>\n",
       "  </tbody>\n",
       "</table>\n",
       "</div>"
      ],
      "text/plain": [
       "                          count   mean    std   min   10%   25%    50%    75%  \\\n",
       "Pregnancies              768.00   3.85   3.37  0.00  0.00  1.00   3.00   6.00   \n",
       "Glucose                  768.00 120.89  31.97  0.00 85.00 99.00 117.00 140.25   \n",
       "BloodPressure            768.00  69.11  19.36  0.00 54.00 62.00  72.00  80.00   \n",
       "SkinThickness            768.00  20.54  15.95  0.00  0.00  0.00  23.00  32.00   \n",
       "Insulin                  768.00  79.80 115.24  0.00  0.00  0.00  30.50 127.25   \n",
       "BMI                      768.00  31.99   7.88  0.00 23.60 27.30  32.00  36.60   \n",
       "DiabetesPedigreeFunction 768.00   0.47   0.33  0.08  0.17  0.24   0.37   0.63   \n",
       "Age                      768.00  33.24  11.76 21.00 22.00 24.00  29.00  41.00   \n",
       "Outcome                  768.00   0.35   0.48  0.00  0.00  0.00   0.00   1.00   \n",
       "\n",
       "                            90%    95%    99%    max  \n",
       "Pregnancies                9.00  10.00  13.00  17.00  \n",
       "Glucose                  167.00 181.00 196.00 199.00  \n",
       "BloodPressure             88.00  90.00 106.00 122.00  \n",
       "SkinThickness             40.00  44.00  51.33  99.00  \n",
       "Insulin                  210.00 293.00 519.90 846.00  \n",
       "BMI                       41.50  44.39  50.76  67.10  \n",
       "DiabetesPedigreeFunction   0.88   1.13   1.70   2.42  \n",
       "Age                       51.00  58.00  67.00  81.00  \n",
       "Outcome                    1.00   1.00   1.00   1.00  "
      ]
     },
     "execution_count": 4,
     "metadata": {},
     "output_type": "execute_result"
    }
   ],
   "source": [
    "df.describe([0.10,0.25,0.50,0.75,0.90,0.95,0.99]).T"
   ]
  },
  {
   "cell_type": "code",
   "execution_count": 5,
   "id": "4e121327",
   "metadata": {
    "execution": {
     "iopub.execute_input": "2024-01-24T14:54:34.593553Z",
     "iopub.status.busy": "2024-01-24T14:54:34.593137Z",
     "iopub.status.idle": "2024-01-24T14:54:34.609035Z",
     "shell.execute_reply": "2024-01-24T14:54:34.607323Z"
    },
    "id": "xcFsGnHK8xCm",
    "outputId": "c7d97aff-ce61-46c1-82ab-13e8f85609c3",
    "papermill": {
     "duration": 0.048863,
     "end_time": "2024-01-24T14:54:34.611903",
     "exception": false,
     "start_time": "2024-01-24T14:54:34.563040",
     "status": "completed"
    },
    "tags": []
   },
   "outputs": [
    {
     "data": {
      "text/plain": [
       "Outcome\n",
       "0   65.10\n",
       "1   34.90\n",
       "Name: count, dtype: float64"
      ]
     },
     "execution_count": 5,
     "metadata": {},
     "output_type": "execute_result"
    }
   ],
   "source": [
    "df[\"Outcome\"].value_counts()*100/len(df)"
   ]
  },
  {
   "cell_type": "code",
   "execution_count": 6,
   "id": "260ad0e4",
   "metadata": {
    "execution": {
     "iopub.execute_input": "2024-01-24T14:54:34.672132Z",
     "iopub.status.busy": "2024-01-24T14:54:34.670910Z",
     "iopub.status.idle": "2024-01-24T14:54:34.680448Z",
     "shell.execute_reply": "2024-01-24T14:54:34.679309Z"
    },
    "id": "1X9bHk7U8xCn",
    "outputId": "390281e1-4c27-4ccf-9825-4b064b8fb9cb",
    "papermill": {
     "duration": 0.042856,
     "end_time": "2024-01-24T14:54:34.682875",
     "exception": false,
     "start_time": "2024-01-24T14:54:34.640019",
     "status": "completed"
    },
    "tags": []
   },
   "outputs": [
    {
     "data": {
      "text/plain": [
       "Outcome\n",
       "0    500\n",
       "1    268\n",
       "Name: count, dtype: int64"
      ]
     },
     "execution_count": 6,
     "metadata": {},
     "output_type": "execute_result"
    }
   ],
   "source": [
    "df.Outcome.value_counts()"
   ]
  },
  {
   "cell_type": "code",
   "execution_count": 7,
   "id": "75808529",
   "metadata": {
    "execution": {
     "iopub.execute_input": "2024-01-24T14:54:34.743701Z",
     "iopub.status.busy": "2024-01-24T14:54:34.742211Z",
     "iopub.status.idle": "2024-01-24T14:54:35.264473Z",
     "shell.execute_reply": "2024-01-24T14:54:35.263295Z"
    },
    "id": "lLPJJ7J38xCw",
    "outputId": "79bb02e6-8c9d-4a9d-b42f-eb1fea2f6841",
    "papermill": {
     "duration": 0.556505,
     "end_time": "2024-01-24T14:54:35.268074",
     "exception": false,
     "start_time": "2024-01-24T14:54:34.711569",
     "status": "completed"
    },
    "tags": []
   },
   "outputs": [
    {
     "data": {
      "image/png": "[encoded data removed]",
      "text/plain": [
       "<Figure size 640x480 with 1 Axes>"
      ]
     },
     "metadata": {
      "image/png": {
       "height": 413,
       "width": 552
      }
     },
     "output_type": "display_data"
    }
   ],
   "source": [
    "df[\"Age\"].hist(edgecolor = \"green\");"
   ]
  },
  {
   "cell_type": "markdown",
   "id": "b5dc80e4",
   "metadata": {
    "id": "FubAtp0f8xCy",
    "papermill": {
     "duration": 0.028695,
     "end_time": "2024-01-24T14:54:35.326900",
     "exception": false,
     "start_time": "2024-01-24T14:54:35.298205",
     "status": "completed"
    },
    "tags": []
   },
   "source": [
    "## 3. Missing Value Analysis"
   ]
  },
  {
   "cell_type": "code",
   "execution_count": 8,
   "id": "dbc8bcdd",
   "metadata": {
    "execution": {
     "iopub.execute_input": "2024-01-24T14:54:35.391790Z",
     "iopub.status.busy": "2024-01-24T14:54:35.391085Z",
     "iopub.status.idle": "2024-01-24T14:54:35.400658Z",
     "shell.execute_reply": "2024-01-24T14:54:35.399192Z"
    },
    "id": "bE5mpzK28xCz",
    "outputId": "393e36c6-3e71-4510-9c6b-229cac1f64ee",
    "papermill": {
     "duration": 0.047566,
     "end_time": "2024-01-24T14:54:35.404364",
     "exception": false,
     "start_time": "2024-01-24T14:54:35.356798",
     "status": "completed"
    },
    "tags": []
   },
   "outputs": [
    {
     "data": {
      "text/plain": [
       "Pregnancies                 0\n",
       "Glucose                     0\n",
       "BloodPressure               0\n",
       "SkinThickness               0\n",
       "Insulin                     0\n",
       "BMI                         0\n",
       "DiabetesPedigreeFunction    0\n",
       "Age                         0\n",
       "Outcome                     0\n",
       "dtype: int64"
      ]
     },
     "execution_count": 8,
     "metadata": {},
     "output_type": "execute_result"
    }
   ],
   "source": [
    "df.isnull().sum()"
   ]
  },
  {
   "cell_type": "code",
   "execution_count": 9,
   "id": "3d2ef7be",
   "metadata": {
    "execution": {
     "iopub.execute_input": "2024-01-24T14:54:35.466390Z",
     "iopub.status.busy": "2024-01-24T14:54:35.465987Z",
     "iopub.status.idle": "2024-01-24T14:54:35.484230Z",
     "shell.execute_reply": "2024-01-24T14:54:35.482877Z"
    },
    "id": "rmGvF6uw8xC1",
    "papermill": {
     "duration": 0.053515,
     "end_time": "2024-01-24T14:54:35.486894",
     "exception": false,
     "start_time": "2024-01-24T14:54:35.433379",
     "status": "completed"
    },
    "tags": []
   },
   "outputs": [],
   "source": [
    "df[['Glucose','BloodPressure','SkinThickness','Insulin','BMI']] = df[['Glucose','BloodPressure','SkinThickness','Insulin','BMI']].replace(0, np.NaN)"
   ]
  },
  {
   "cell_type": "code",
   "execution_count": 10,
   "id": "6eb9ef6f",
   "metadata": {
    "execution": {
     "iopub.execute_input": "2024-01-24T14:54:35.551496Z",
     "iopub.status.busy": "2024-01-24T14:54:35.550669Z",
     "iopub.status.idle": "2024-01-24T14:54:35.561706Z",
     "shell.execute_reply": "2024-01-24T14:54:35.560506Z"
    },
    "id": "wix1Xoka8xC3",
    "outputId": "830ac6e3-0616-45b9-8dc4-0b73f00617c6",
    "papermill": {
     "duration": 0.048688,
     "end_time": "2024-01-24T14:54:35.565375",
     "exception": false,
     "start_time": "2024-01-24T14:54:35.516687",
     "status": "completed"
    },
    "tags": []
   },
   "outputs": [
    {
     "data": {
      "text/plain": [
       "Pregnancies                   0\n",
       "Glucose                       5\n",
       "BloodPressure                35\n",
       "SkinThickness               227\n",
       "Insulin                     374\n",
       "BMI                          11\n",
       "DiabetesPedigreeFunction      0\n",
       "Age                           0\n",
       "Outcome                       0\n",
       "dtype: int64"
      ]
     },
     "execution_count": 10,
     "metadata": {},
     "output_type": "execute_result"
    }
   ],
   "source": [
    "df.isnull().sum()"
   ]
  },
  {
   "cell_type": "code",
   "execution_count": 11,
   "id": "ae4ee661",
   "metadata": {
    "execution": {
     "iopub.execute_input": "2024-01-24T14:54:35.627762Z",
     "iopub.status.busy": "2024-01-24T14:54:35.627320Z",
     "iopub.status.idle": "2024-01-24T14:54:35.633184Z",
     "shell.execute_reply": "2024-01-24T14:54:35.631684Z"
    },
    "id": "8CVQgf9Z8xDF",
    "papermill": {
     "duration": 0.039649,
     "end_time": "2024-01-24T14:54:35.635868",
     "exception": false,
     "start_time": "2024-01-24T14:54:35.596219",
     "status": "completed"
    },
    "tags": []
   },
   "outputs": [],
   "source": [
    "def carp(x,y):\n",
    "\n",
    "    z = x*y\n",
    "\n",
    "    return z\n"
   ]
  },
  {
   "cell_type": "code",
   "execution_count": 12,
   "id": "97b5e68b",
   "metadata": {
    "execution": {
     "iopub.execute_input": "2024-01-24T14:54:35.696933Z",
     "iopub.status.busy": "2024-01-24T14:54:35.696534Z",
     "iopub.status.idle": "2024-01-24T14:54:35.703751Z",
     "shell.execute_reply": "2024-01-24T14:54:35.702489Z"
    },
    "id": "7wKKZRuK8xDG",
    "outputId": "9dfbf9e2-6408-429e-f289-bffb6769ec9f",
    "papermill": {
     "duration": 0.041221,
     "end_time": "2024-01-24T14:54:35.706201",
     "exception": false,
     "start_time": "2024-01-24T14:54:35.664980",
     "status": "completed"
    },
    "tags": []
   },
   "outputs": [
    {
     "data": {
      "text/plain": [
       "20"
      ]
     },
     "execution_count": 12,
     "metadata": {},
     "output_type": "execute_result"
    }
   ],
   "source": [
    "carp(4,5)"
   ]
  },
  {
   "cell_type": "code",
   "execution_count": 13,
   "id": "85f273b7",
   "metadata": {
    "execution": {
     "iopub.execute_input": "2024-01-24T14:54:35.766870Z",
     "iopub.status.busy": "2024-01-24T14:54:35.766400Z",
     "iopub.status.idle": "2024-01-24T14:54:35.773389Z",
     "shell.execute_reply": "2024-01-24T14:54:35.771883Z"
    },
    "id": "k4dr3E8W8xDJ",
    "papermill": {
     "duration": 0.041361,
     "end_time": "2024-01-24T14:54:35.776061",
     "exception": false,
     "start_time": "2024-01-24T14:54:35.734700",
     "status": "completed"
    },
    "tags": []
   },
   "outputs": [],
   "source": [
    "# The missing values will be filled with the median values of each variable.\n",
    "\n",
    "def median_target(var):\n",
    "\n",
    "    temp = df[df[var].notnull()]\n",
    "\n",
    "    temp = temp[[var, 'Outcome']].groupby(['Outcome'])[[var]].mean().reset_index()\n",
    "\n",
    "    return temp"
   ]
  },
  {
   "cell_type": "code",
   "execution_count": 14,
   "id": "44cd83a9",
   "metadata": {
    "execution": {
     "iopub.execute_input": "2024-01-24T14:54:35.838978Z",
     "iopub.status.busy": "2024-01-24T14:54:35.838534Z",
     "iopub.status.idle": "2024-01-24T14:54:35.844805Z",
     "shell.execute_reply": "2024-01-24T14:54:35.843575Z"
    },
    "id": "iTkc_sJO8xDU",
    "papermill": {
     "duration": 0.040429,
     "end_time": "2024-01-24T14:54:35.847493",
     "exception": false,
     "start_time": "2024-01-24T14:54:35.807064",
     "status": "completed"
    },
    "tags": []
   },
   "outputs": [],
   "source": [
    "columns = df.columns\n",
    "\n",
    "columns = columns.drop(\"Outcome\")"
   ]
  },
  {
   "cell_type": "code",
   "execution_count": 15,
   "id": "a5baf9de",
   "metadata": {
    "execution": {
     "iopub.execute_input": "2024-01-24T14:54:35.907962Z",
     "iopub.status.busy": "2024-01-24T14:54:35.907501Z",
     "iopub.status.idle": "2024-01-24T14:54:35.915881Z",
     "shell.execute_reply": "2024-01-24T14:54:35.914601Z"
    },
    "id": "UO-oGBMG8xDV",
    "outputId": "8fd9cf81-6613-45eb-ddbb-431229f85cdf",
    "papermill": {
     "duration": 0.041111,
     "end_time": "2024-01-24T14:54:35.918487",
     "exception": false,
     "start_time": "2024-01-24T14:54:35.877376",
     "status": "completed"
    },
    "tags": []
   },
   "outputs": [
    {
     "data": {
      "text/plain": [
       "Index(['Pregnancies', 'Glucose', 'BloodPressure', 'SkinThickness', 'Insulin',\n",
       "       'BMI', 'DiabetesPedigreeFunction', 'Age'],\n",
       "      dtype='object')"
      ]
     },
     "execution_count": 15,
     "metadata": {},
     "output_type": "execute_result"
    }
   ],
   "source": [
    "columns"
   ]
  },
  {
   "cell_type": "code",
   "execution_count": 16,
   "id": "a0a57ab2",
   "metadata": {
    "execution": {
     "iopub.execute_input": "2024-01-24T14:54:35.982717Z",
     "iopub.status.busy": "2024-01-24T14:54:35.981752Z",
     "iopub.status.idle": "2024-01-24T14:54:36.016413Z",
     "shell.execute_reply": "2024-01-24T14:54:36.014907Z"
    },
    "id": "UkqDQ_dH8xDW",
    "outputId": "856f2b96-3f2a-4a26-be41-efdb819fd303",
    "papermill": {
     "duration": 0.069409,
     "end_time": "2024-01-24T14:54:36.019150",
     "exception": false,
     "start_time": "2024-01-24T14:54:35.949741",
     "status": "completed"
    },
    "tags": []
   },
   "outputs": [
    {
     "data": {
      "text/html": [
       "<div>\n",
       "<style scoped>\n",
       "    .dataframe tbody tr th:only-of-type {\n",
       "        vertical-align: middle;\n",
       "    }\n",
       "\n",
       "    .dataframe tbody tr th {\n",
       "        vertical-align: top;\n",
       "    }\n",
       "\n",
       "    .dataframe thead th {\n",
       "        text-align: right;\n",
       "    }\n",
       "</style>\n",
       "<table border=\"1\" class=\"dataframe\">\n",
       "  <thead>\n",
       "    <tr style=\"text-align: right;\">\n",
       "      <th></th>\n",
       "      <th>Outcome</th>\n",
       "      <th>Glucose</th>\n",
       "    </tr>\n",
       "  </thead>\n",
       "  <tbody>\n",
       "    <tr>\n",
       "      <th>0</th>\n",
       "      <td>0</td>\n",
       "      <td>110.64</td>\n",
       "    </tr>\n",
       "    <tr>\n",
       "      <th>1</th>\n",
       "      <td>1</td>\n",
       "      <td>142.32</td>\n",
       "    </tr>\n",
       "  </tbody>\n",
       "</table>\n",
       "</div>"
      ],
      "text/plain": [
       "   Outcome  Glucose\n",
       "0        0   110.64\n",
       "1        1   142.32"
      ]
     },
     "execution_count": 16,
     "metadata": {},
     "output_type": "execute_result"
    }
   ],
   "source": [
    "median_target('Glucose')"
   ]
  },
  {
   "cell_type": "code",
   "execution_count": 17,
   "id": "1afbd9fb",
   "metadata": {
    "execution": {
     "iopub.execute_input": "2024-01-24T14:54:36.082055Z",
     "iopub.status.busy": "2024-01-24T14:54:36.080872Z",
     "iopub.status.idle": "2024-01-24T14:54:36.167851Z",
     "shell.execute_reply": "2024-01-24T14:54:36.166401Z"
    },
    "id": "qgcMO5uN8xDX",
    "papermill": {
     "duration": 0.122039,
     "end_time": "2024-01-24T14:54:36.170961",
     "exception": false,
     "start_time": "2024-01-24T14:54:36.048922",
     "status": "completed"
    },
    "tags": []
   },
   "outputs": [],
   "source": [
    "# The values to be given for incomplete observations are given the median value of people who are not sick and the median values of people who are sick.\n",
    "\n",
    "columns = df.columns\n",
    "\n",
    "columns = columns.drop(\"Outcome\")\n",
    "\n",
    "for col in columns:\n",
    "\n",
    "    df.loc[(df['Outcome'] == 0 ) & (df[col].isnull()), col] = median_target(col)[col][0]\n",
    "    df.loc[(df['Outcome'] == 1 ) & (df[col].isnull()), col] = median_target(col)[col][1]"
   ]
  },
  {
   "cell_type": "code",
   "execution_count": 18,
   "id": "6255189b",
   "metadata": {
    "execution": {
     "iopub.execute_input": "2024-01-24T14:54:36.238104Z",
     "iopub.status.busy": "2024-01-24T14:54:36.237472Z",
     "iopub.status.idle": "2024-01-24T14:54:36.248428Z",
     "shell.execute_reply": "2024-01-24T14:54:36.247205Z"
    },
    "id": "aSvaUYDx8xDY",
    "outputId": "391c49e0-9a8e-43d4-f879-294ed7bc9fcb",
    "papermill": {
     "duration": 0.049839,
     "end_time": "2024-01-24T14:54:36.251291",
     "exception": false,
     "start_time": "2024-01-24T14:54:36.201452",
     "status": "completed"
    },
    "tags": []
   },
   "outputs": [
    {
     "data": {
      "text/plain": [
       "Series([], Name: Pregnancies, dtype: float64)"
      ]
     },
     "execution_count": 18,
     "metadata": {},
     "output_type": "execute_result"
    }
   ],
   "source": [
    "df.loc[(df['Outcome'] == 0 ) & (df[\"Pregnancies\"].isnull()), \"Pregnancies\"]"
   ]
  },
  {
   "cell_type": "code",
   "execution_count": 19,
   "id": "43cb19d4",
   "metadata": {
    "execution": {
     "iopub.execute_input": "2024-01-24T14:54:36.315169Z",
     "iopub.status.busy": "2024-01-24T14:54:36.314711Z",
     "iopub.status.idle": "2024-01-24T14:54:36.328742Z",
     "shell.execute_reply": "2024-01-24T14:54:36.327069Z"
    },
    "id": "_iU7uJ9g8xDf",
    "outputId": "f3352971-8f71-4639-e75b-b4229caa5508",
    "papermill": {
     "duration": 0.049773,
     "end_time": "2024-01-24T14:54:36.331482",
     "exception": false,
     "start_time": "2024-01-24T14:54:36.281709",
     "status": "completed"
    },
    "tags": []
   },
   "outputs": [
    {
     "data": {
      "text/html": [
       "<div>\n",
       "<style scoped>\n",
       "    .dataframe tbody tr th:only-of-type {\n",
       "        vertical-align: middle;\n",
       "    }\n",
       "\n",
       "    .dataframe tbody tr th {\n",
       "        vertical-align: top;\n",
       "    }\n",
       "\n",
       "    .dataframe thead th {\n",
       "        text-align: right;\n",
       "    }\n",
       "</style>\n",
       "<table border=\"1\" class=\"dataframe\">\n",
       "  <thead>\n",
       "    <tr style=\"text-align: right;\">\n",
       "      <th></th>\n",
       "      <th>Pregnancies</th>\n",
       "      <th>Glucose</th>\n",
       "      <th>BloodPressure</th>\n",
       "      <th>SkinThickness</th>\n",
       "      <th>Insulin</th>\n",
       "      <th>BMI</th>\n",
       "      <th>DiabetesPedigreeFunction</th>\n",
       "      <th>Age</th>\n",
       "      <th>Outcome</th>\n",
       "    </tr>\n",
       "  </thead>\n",
       "  <tbody>\n",
       "  </tbody>\n",
       "</table>\n",
       "</div>"
      ],
      "text/plain": [
       "Empty DataFrame\n",
       "Columns: [Pregnancies, Glucose, BloodPressure, SkinThickness, Insulin, BMI, DiabetesPedigreeFunction, Age, Outcome]\n",
       "Index: []"
      ]
     },
     "execution_count": 19,
     "metadata": {},
     "output_type": "execute_result"
    }
   ],
   "source": [
    "df[(df['Outcome'] == 0 ) & (df[\"BloodPressure\"].isnull())]"
   ]
  },
  {
   "cell_type": "markdown",
   "id": "66daf70a",
   "metadata": {
    "id": "xU9ns1G68xDi",
    "papermill": {
     "duration": 0.031694,
     "end_time": "2024-01-24T14:54:36.394338",
     "exception": false,
     "start_time": "2024-01-24T14:54:36.362644",
     "status": "completed"
    },
    "tags": []
   },
   "source": [
    "## 4. Outliers Analysis"
   ]
  },
  {
   "cell_type": "code",
   "execution_count": 20,
   "id": "165a7312",
   "metadata": {
    "execution": {
     "iopub.execute_input": "2024-01-24T14:54:36.459541Z",
     "iopub.status.busy": "2024-01-24T14:54:36.459143Z",
     "iopub.status.idle": "2024-01-24T14:54:36.469104Z",
     "shell.execute_reply": "2024-01-24T14:54:36.467887Z"
    },
    "id": "q6p3M7l88xDi",
    "outputId": "88b7641f-0023-436c-8cf7-08a52cb84699",
    "papermill": {
     "duration": 0.045701,
     "end_time": "2024-01-24T14:54:36.471708",
     "exception": false,
     "start_time": "2024-01-24T14:54:36.426007",
     "status": "completed"
    },
    "tags": []
   },
   "outputs": [
    {
     "name": "stdout",
     "output_type": "stream",
     "text": [
      "40.0\n",
      "104.0\n"
     ]
    }
   ],
   "source": [
    "Q1 = df[\"BloodPressure\"].quantile(0.25)\n",
    "Q3 = df[\"BloodPressure\"].quantile(0.75)\n",
    "IQR = Q3-Q1\n",
    "lower = Q1 - 1.5*IQR\n",
    "upper = Q3 + 1.5*IQR\n",
    "print(lower)\n",
    "print(upper)"
   ]
  },
  {
   "cell_type": "code",
   "execution_count": 21,
   "id": "4567de50",
   "metadata": {
    "execution": {
     "iopub.execute_input": "2024-01-24T14:54:36.534319Z",
     "iopub.status.busy": "2024-01-24T14:54:36.533911Z",
     "iopub.status.idle": "2024-01-24T14:54:36.546028Z",
     "shell.execute_reply": "2024-01-24T14:54:36.544763Z"
    },
    "id": "pR7MiAYl8xDj",
    "outputId": "1ff2b192-d072-45db-c3f4-146a71106417",
    "papermill": {
     "duration": 0.046655,
     "end_time": "2024-01-24T14:54:36.548740",
     "exception": false,
     "start_time": "2024-01-24T14:54:36.502085",
     "status": "completed"
    },
    "tags": []
   },
   "outputs": [
    {
     "data": {
      "text/plain": [
       "True"
      ]
     },
     "execution_count": 21,
     "metadata": {},
     "output_type": "execute_result"
    }
   ],
   "source": [
    "df[(df[\"BloodPressure\"] > upper)].any(axis=None)"
   ]
  },
  {
   "cell_type": "code",
   "execution_count": 22,
   "id": "b5e6d347",
   "metadata": {
    "execution": {
     "iopub.execute_input": "2024-01-24T14:54:36.613649Z",
     "iopub.status.busy": "2024-01-24T14:54:36.613243Z",
     "iopub.status.idle": "2024-01-24T14:54:36.618893Z",
     "shell.execute_reply": "2024-01-24T14:54:36.617650Z"
    },
    "id": "s0bzrJOg8xDj",
    "outputId": "63c4969b-2122-41f3-f78a-f235934ad4e5",
    "papermill": {
     "duration": 0.041034,
     "end_time": "2024-01-24T14:54:36.622182",
     "exception": false,
     "start_time": "2024-01-24T14:54:36.581148",
     "status": "completed"
    },
    "tags": []
   },
   "outputs": [
    {
     "name": "stdout",
     "output_type": "stream",
     "text": [
      "Pregnancies\n",
      "Glucose\n",
      "BloodPressure\n",
      "SkinThickness\n",
      "Insulin\n",
      "BMI\n",
      "DiabetesPedigreeFunction\n",
      "Age\n",
      "Outcome\n"
     ]
    }
   ],
   "source": [
    "for feature in df:\n",
    "    print(feature)"
   ]
  },
  {
   "cell_type": "code",
   "execution_count": 23,
   "id": "4f69c3d9",
   "metadata": {
    "execution": {
     "iopub.execute_input": "2024-01-24T14:54:36.686999Z",
     "iopub.status.busy": "2024-01-24T14:54:36.686503Z",
     "iopub.status.idle": "2024-01-24T14:54:36.728594Z",
     "shell.execute_reply": "2024-01-24T14:54:36.727018Z"
    },
    "id": "KKOAOUaz8xDk",
    "outputId": "fce37041-9155-4d71-ff5e-0508538ed238",
    "papermill": {
     "duration": 0.078522,
     "end_time": "2024-01-24T14:54:36.731385",
     "exception": false,
     "start_time": "2024-01-24T14:54:36.652863",
     "status": "completed"
    },
    "tags": []
   },
   "outputs": [
    {
     "name": "stdout",
     "output_type": "stream",
     "text": [
      "Pregnancies no\n",
      "Glucose no\n",
      "BloodPressure no\n",
      "SkinThickness yes\n",
      "Insulin yes\n",
      "BMI no\n",
      "DiabetesPedigreeFunction no\n",
      "Age no\n",
      "Outcome no\n"
     ]
    }
   ],
   "source": [
    "for feature in df:\n",
    "\n",
    "    Q1 = df[feature].quantile(0.05)\n",
    "    Q3 = df[feature].quantile(0.95)\n",
    "    IQR = Q3 - Q1\n",
    "    lower = Q1 - 1.5*IQR\n",
    "    upper = Q3 + 1.5*IQR\n",
    "\n",
    "    if df[(df[feature] > upper)].any(axis=None):\n",
    "        print(feature,\"yes\")\n",
    "    else:\n",
    "        print(feature, \"no\")"
   ]
  },
  {
   "cell_type": "code",
   "execution_count": 24,
   "id": "40cbfca6",
   "metadata": {
    "execution": {
     "iopub.execute_input": "2024-01-24T14:54:36.800927Z",
     "iopub.status.busy": "2024-01-24T14:54:36.800496Z",
     "iopub.status.idle": "2024-01-24T14:54:36.815999Z",
     "shell.execute_reply": "2024-01-24T14:54:36.814650Z"
    },
    "id": "eiDlyAI88xDm",
    "outputId": "ceb103ce-0e9e-4859-b3bc-7bc41ba3e60b",
    "papermill": {
     "duration": 0.054291,
     "end_time": "2024-01-24T14:54:36.819030",
     "exception": false,
     "start_time": "2024-01-24T14:54:36.764739",
     "status": "completed"
    },
    "tags": []
   },
   "outputs": [
    {
     "data": {
      "text/html": [
       "<div>\n",
       "<style scoped>\n",
       "    .dataframe tbody tr th:only-of-type {\n",
       "        vertical-align: middle;\n",
       "    }\n",
       "\n",
       "    .dataframe tbody tr th {\n",
       "        vertical-align: top;\n",
       "    }\n",
       "\n",
       "    .dataframe thead th {\n",
       "        text-align: right;\n",
       "    }\n",
       "</style>\n",
       "<table border=\"1\" class=\"dataframe\">\n",
       "  <thead>\n",
       "    <tr style=\"text-align: right;\">\n",
       "      <th></th>\n",
       "      <th>Pregnancies</th>\n",
       "      <th>Glucose</th>\n",
       "      <th>BloodPressure</th>\n",
       "      <th>SkinThickness</th>\n",
       "      <th>Insulin</th>\n",
       "      <th>BMI</th>\n",
       "      <th>DiabetesPedigreeFunction</th>\n",
       "      <th>Age</th>\n",
       "      <th>Outcome</th>\n",
       "    </tr>\n",
       "  </thead>\n",
       "  <tbody>\n",
       "    <tr>\n",
       "      <th>0</th>\n",
       "      <td>6.00</td>\n",
       "      <td>148.00</td>\n",
       "      <td>72.00</td>\n",
       "      <td>35.00</td>\n",
       "      <td>206.85</td>\n",
       "      <td>33.60</td>\n",
       "      <td>0.63</td>\n",
       "      <td>50.00</td>\n",
       "      <td>1</td>\n",
       "    </tr>\n",
       "    <tr>\n",
       "      <th>1</th>\n",
       "      <td>1.00</td>\n",
       "      <td>85.00</td>\n",
       "      <td>66.00</td>\n",
       "      <td>29.00</td>\n",
       "      <td>130.29</td>\n",
       "      <td>26.60</td>\n",
       "      <td>0.35</td>\n",
       "      <td>31.00</td>\n",
       "      <td>0</td>\n",
       "    </tr>\n",
       "    <tr>\n",
       "      <th>2</th>\n",
       "      <td>8.00</td>\n",
       "      <td>183.00</td>\n",
       "      <td>64.00</td>\n",
       "      <td>33.00</td>\n",
       "      <td>206.85</td>\n",
       "      <td>23.30</td>\n",
       "      <td>0.67</td>\n",
       "      <td>32.00</td>\n",
       "      <td>1</td>\n",
       "    </tr>\n",
       "    <tr>\n",
       "      <th>3</th>\n",
       "      <td>1.00</td>\n",
       "      <td>89.00</td>\n",
       "      <td>66.00</td>\n",
       "      <td>23.00</td>\n",
       "      <td>94.00</td>\n",
       "      <td>28.10</td>\n",
       "      <td>0.17</td>\n",
       "      <td>21.00</td>\n",
       "      <td>0</td>\n",
       "    </tr>\n",
       "    <tr>\n",
       "      <th>4</th>\n",
       "      <td>0.00</td>\n",
       "      <td>137.00</td>\n",
       "      <td>40.00</td>\n",
       "      <td>35.00</td>\n",
       "      <td>168.00</td>\n",
       "      <td>43.10</td>\n",
       "      <td>2.29</td>\n",
       "      <td>33.00</td>\n",
       "      <td>1</td>\n",
       "    </tr>\n",
       "  </tbody>\n",
       "</table>\n",
       "</div>"
      ],
      "text/plain": [
       "   Pregnancies  Glucose  BloodPressure  SkinThickness  Insulin   BMI  \\\n",
       "0         6.00   148.00          72.00          35.00   206.85 33.60   \n",
       "1         1.00    85.00          66.00          29.00   130.29 26.60   \n",
       "2         8.00   183.00          64.00          33.00   206.85 23.30   \n",
       "3         1.00    89.00          66.00          23.00    94.00 28.10   \n",
       "4         0.00   137.00          40.00          35.00   168.00 43.10   \n",
       "\n",
       "   DiabetesPedigreeFunction   Age  Outcome  \n",
       "0                      0.63 50.00        1  \n",
       "1                      0.35 31.00        0  \n",
       "2                      0.67 32.00        1  \n",
       "3                      0.17 21.00        0  \n",
       "4                      2.29 33.00        1  "
      ]
     },
     "execution_count": 24,
     "metadata": {},
     "output_type": "execute_result"
    }
   ],
   "source": [
    "df.head()"
   ]
  },
  {
   "cell_type": "code",
   "execution_count": 25,
   "id": "9fc30592",
   "metadata": {
    "execution": {
     "iopub.execute_input": "2024-01-24T14:54:36.885308Z",
     "iopub.status.busy": "2024-01-24T14:54:36.884849Z",
     "iopub.status.idle": "2024-01-24T14:54:36.891651Z",
     "shell.execute_reply": "2024-01-24T14:54:36.890753Z"
    },
    "id": "mszYquKa8xDn",
    "outputId": "06d8b08c-ab17-4dd9-ce5d-cdf59614cfcf",
    "papermill": {
     "duration": 0.042097,
     "end_time": "2024-01-24T14:54:36.894045",
     "exception": false,
     "start_time": "2024-01-24T14:54:36.851948",
     "status": "completed"
    },
    "tags": []
   },
   "outputs": [
    {
     "data": {
      "text/plain": [
       "(768, 9)"
      ]
     },
     "execution_count": 25,
     "metadata": {},
     "output_type": "execute_result"
    }
   ],
   "source": [
    "df.shape"
   ]
  },
  {
   "cell_type": "markdown",
   "id": "d4c43777",
   "metadata": {
    "id": "JehKCtS-8xDr",
    "papermill": {
     "duration": 0.032997,
     "end_time": "2024-01-24T14:54:36.962787",
     "exception": false,
     "start_time": "2024-01-24T14:54:36.929790",
     "status": "completed"
    },
    "tags": []
   },
   "source": [
    "## 5. Feature Engineering"
   ]
  },
  {
   "cell_type": "code",
   "execution_count": 26,
   "id": "3707423d",
   "metadata": {
    "execution": {
     "iopub.execute_input": "2024-01-24T14:54:37.036661Z",
     "iopub.status.busy": "2024-01-24T14:54:37.035781Z",
     "iopub.status.idle": "2024-01-24T14:54:37.057313Z",
     "shell.execute_reply": "2024-01-24T14:54:37.056058Z"
    },
    "id": "JTapNuU18xD1",
    "papermill": {
     "duration": 0.062456,
     "end_time": "2024-01-24T14:54:37.060225",
     "exception": false,
     "start_time": "2024-01-24T14:54:36.997769",
     "status": "completed"
    },
    "tags": []
   },
   "outputs": [],
   "source": [
    "# According to BMI, some ranges were determined and categorical variables were assigned.\n",
    "NewBMI = pd.Series([\"Underweight\", \"Normal\", \"Overweight\", \"Obesity 1\", \"Obesity 2\", \"Obesity 3\"], dtype = \"category\")\n",
    "\n",
    "df[\"NewBMI\"] = NewBMI\n",
    "\n",
    "df.loc[df[\"BMI\"] < 18.5, \"NewBMI\"] = NewBMI[0]\n",
    "\n",
    "df.loc[(df[\"BMI\"] > 18.5) & (df[\"BMI\"] <= 24.9), \"NewBMI\"] = NewBMI[1]\n",
    "df.loc[(df[\"BMI\"] > 24.9) & (df[\"BMI\"] <= 29.9), \"NewBMI\"] = NewBMI[2]\n",
    "df.loc[(df[\"BMI\"] > 29.9) & (df[\"BMI\"] <= 34.9), \"NewBMI\"] = NewBMI[3]\n",
    "df.loc[(df[\"BMI\"] > 34.9) & (df[\"BMI\"] <= 39.9), \"NewBMI\"] = NewBMI[4]\n",
    "df.loc[df[\"BMI\"] > 39.9 ,\"NewBMI\"] = NewBMI[5]"
   ]
  },
  {
   "cell_type": "code",
   "execution_count": 27,
   "id": "8847d9fe",
   "metadata": {
    "execution": {
     "iopub.execute_input": "2024-01-24T14:54:37.129340Z",
     "iopub.status.busy": "2024-01-24T14:54:37.128841Z",
     "iopub.status.idle": "2024-01-24T14:54:37.148423Z",
     "shell.execute_reply": "2024-01-24T14:54:37.147242Z"
    },
    "id": "exkdjXEP8xD3",
    "outputId": "9f8062ee-31ea-4fe5-9f86-b16737ede249",
    "papermill": {
     "duration": 0.05638,
     "end_time": "2024-01-24T14:54:37.151353",
     "exception": false,
     "start_time": "2024-01-24T14:54:37.094973",
     "status": "completed"
    },
    "tags": []
   },
   "outputs": [
    {
     "data": {
      "text/html": [
       "<div>\n",
       "<style scoped>\n",
       "    .dataframe tbody tr th:only-of-type {\n",
       "        vertical-align: middle;\n",
       "    }\n",
       "\n",
       "    .dataframe tbody tr th {\n",
       "        vertical-align: top;\n",
       "    }\n",
       "\n",
       "    .dataframe thead th {\n",
       "        text-align: right;\n",
       "    }\n",
       "</style>\n",
       "<table border=\"1\" class=\"dataframe\">\n",
       "  <thead>\n",
       "    <tr style=\"text-align: right;\">\n",
       "      <th></th>\n",
       "      <th>Pregnancies</th>\n",
       "      <th>Glucose</th>\n",
       "      <th>BloodPressure</th>\n",
       "      <th>SkinThickness</th>\n",
       "      <th>Insulin</th>\n",
       "      <th>BMI</th>\n",
       "      <th>DiabetesPedigreeFunction</th>\n",
       "      <th>Age</th>\n",
       "      <th>Outcome</th>\n",
       "      <th>NewBMI</th>\n",
       "    </tr>\n",
       "  </thead>\n",
       "  <tbody>\n",
       "    <tr>\n",
       "      <th>0</th>\n",
       "      <td>6.00</td>\n",
       "      <td>148.00</td>\n",
       "      <td>72.00</td>\n",
       "      <td>35.00</td>\n",
       "      <td>206.85</td>\n",
       "      <td>33.60</td>\n",
       "      <td>0.63</td>\n",
       "      <td>50.00</td>\n",
       "      <td>1</td>\n",
       "      <td>Obesity 1</td>\n",
       "    </tr>\n",
       "    <tr>\n",
       "      <th>1</th>\n",
       "      <td>1.00</td>\n",
       "      <td>85.00</td>\n",
       "      <td>66.00</td>\n",
       "      <td>29.00</td>\n",
       "      <td>130.29</td>\n",
       "      <td>26.60</td>\n",
       "      <td>0.35</td>\n",
       "      <td>31.00</td>\n",
       "      <td>0</td>\n",
       "      <td>Overweight</td>\n",
       "    </tr>\n",
       "    <tr>\n",
       "      <th>2</th>\n",
       "      <td>8.00</td>\n",
       "      <td>183.00</td>\n",
       "      <td>64.00</td>\n",
       "      <td>33.00</td>\n",
       "      <td>206.85</td>\n",
       "      <td>23.30</td>\n",
       "      <td>0.67</td>\n",
       "      <td>32.00</td>\n",
       "      <td>1</td>\n",
       "      <td>Normal</td>\n",
       "    </tr>\n",
       "    <tr>\n",
       "      <th>3</th>\n",
       "      <td>1.00</td>\n",
       "      <td>89.00</td>\n",
       "      <td>66.00</td>\n",
       "      <td>23.00</td>\n",
       "      <td>94.00</td>\n",
       "      <td>28.10</td>\n",
       "      <td>0.17</td>\n",
       "      <td>21.00</td>\n",
       "      <td>0</td>\n",
       "      <td>Overweight</td>\n",
       "    </tr>\n",
       "    <tr>\n",
       "      <th>4</th>\n",
       "      <td>0.00</td>\n",
       "      <td>137.00</td>\n",
       "      <td>40.00</td>\n",
       "      <td>35.00</td>\n",
       "      <td>168.00</td>\n",
       "      <td>43.10</td>\n",
       "      <td>2.29</td>\n",
       "      <td>33.00</td>\n",
       "      <td>1</td>\n",
       "      <td>Obesity 3</td>\n",
       "    </tr>\n",
       "  </tbody>\n",
       "</table>\n",
       "</div>"
      ],
      "text/plain": [
       "   Pregnancies  Glucose  BloodPressure  SkinThickness  Insulin   BMI  \\\n",
       "0         6.00   148.00          72.00          35.00   206.85 33.60   \n",
       "1         1.00    85.00          66.00          29.00   130.29 26.60   \n",
       "2         8.00   183.00          64.00          33.00   206.85 23.30   \n",
       "3         1.00    89.00          66.00          23.00    94.00 28.10   \n",
       "4         0.00   137.00          40.00          35.00   168.00 43.10   \n",
       "\n",
       "   DiabetesPedigreeFunction   Age  Outcome      NewBMI  \n",
       "0                      0.63 50.00        1   Obesity 1  \n",
       "1                      0.35 31.00        0  Overweight  \n",
       "2                      0.67 32.00        1      Normal  \n",
       "3                      0.17 21.00        0  Overweight  \n",
       "4                      2.29 33.00        1   Obesity 3  "
      ]
     },
     "execution_count": 27,
     "metadata": {},
     "output_type": "execute_result"
    }
   ],
   "source": [
    "df.head()"
   ]
  },
  {
   "cell_type": "code",
   "execution_count": 28,
   "id": "5fcc95d6",
   "metadata": {
    "execution": {
     "iopub.execute_input": "2024-01-24T14:54:37.219533Z",
     "iopub.status.busy": "2024-01-24T14:54:37.219028Z",
     "iopub.status.idle": "2024-01-24T14:54:37.224710Z",
     "shell.execute_reply": "2024-01-24T14:54:37.223512Z"
    },
    "id": "2OZUsnph8xD5",
    "papermill": {
     "duration": 0.041735,
     "end_time": "2024-01-24T14:54:37.227807",
     "exception": false,
     "start_time": "2024-01-24T14:54:37.186072",
     "status": "completed"
    },
    "tags": []
   },
   "outputs": [],
   "source": [
    "def set_insulin(row):\n",
    "    if row[\"Insulin\"] >= 16 and row[\"Insulin\"] <= 166:\n",
    "        return \"Normal\"\n",
    "    else:\n",
    "        return \"Abnormal\""
   ]
  },
  {
   "cell_type": "code",
   "execution_count": 29,
   "id": "29ff343b",
   "metadata": {
    "execution": {
     "iopub.execute_input": "2024-01-24T14:54:37.298633Z",
     "iopub.status.busy": "2024-01-24T14:54:37.298098Z",
     "iopub.status.idle": "2024-01-24T14:54:37.315913Z",
     "shell.execute_reply": "2024-01-24T14:54:37.314608Z"
    },
    "id": "dxqyWJhL8xD6",
    "outputId": "cb5a8895-179b-4e77-c16e-2efa80378208",
    "papermill": {
     "duration": 0.056369,
     "end_time": "2024-01-24T14:54:37.318653",
     "exception": false,
     "start_time": "2024-01-24T14:54:37.262284",
     "status": "completed"
    },
    "tags": []
   },
   "outputs": [
    {
     "data": {
      "text/html": [
       "<div>\n",
       "<style scoped>\n",
       "    .dataframe tbody tr th:only-of-type {\n",
       "        vertical-align: middle;\n",
       "    }\n",
       "\n",
       "    .dataframe tbody tr th {\n",
       "        vertical-align: top;\n",
       "    }\n",
       "\n",
       "    .dataframe thead th {\n",
       "        text-align: right;\n",
       "    }\n",
       "</style>\n",
       "<table border=\"1\" class=\"dataframe\">\n",
       "  <thead>\n",
       "    <tr style=\"text-align: right;\">\n",
       "      <th></th>\n",
       "      <th>Pregnancies</th>\n",
       "      <th>Glucose</th>\n",
       "      <th>BloodPressure</th>\n",
       "      <th>SkinThickness</th>\n",
       "      <th>Insulin</th>\n",
       "      <th>BMI</th>\n",
       "      <th>DiabetesPedigreeFunction</th>\n",
       "      <th>Age</th>\n",
       "      <th>Outcome</th>\n",
       "      <th>NewBMI</th>\n",
       "    </tr>\n",
       "  </thead>\n",
       "  <tbody>\n",
       "    <tr>\n",
       "      <th>0</th>\n",
       "      <td>6.00</td>\n",
       "      <td>148.00</td>\n",
       "      <td>72.00</td>\n",
       "      <td>35.00</td>\n",
       "      <td>206.85</td>\n",
       "      <td>33.60</td>\n",
       "      <td>0.63</td>\n",
       "      <td>50.00</td>\n",
       "      <td>1</td>\n",
       "      <td>Obesity 1</td>\n",
       "    </tr>\n",
       "    <tr>\n",
       "      <th>1</th>\n",
       "      <td>1.00</td>\n",
       "      <td>85.00</td>\n",
       "      <td>66.00</td>\n",
       "      <td>29.00</td>\n",
       "      <td>130.29</td>\n",
       "      <td>26.60</td>\n",
       "      <td>0.35</td>\n",
       "      <td>31.00</td>\n",
       "      <td>0</td>\n",
       "      <td>Overweight</td>\n",
       "    </tr>\n",
       "    <tr>\n",
       "      <th>2</th>\n",
       "      <td>8.00</td>\n",
       "      <td>183.00</td>\n",
       "      <td>64.00</td>\n",
       "      <td>33.00</td>\n",
       "      <td>206.85</td>\n",
       "      <td>23.30</td>\n",
       "      <td>0.67</td>\n",
       "      <td>32.00</td>\n",
       "      <td>1</td>\n",
       "      <td>Normal</td>\n",
       "    </tr>\n",
       "    <tr>\n",
       "      <th>3</th>\n",
       "      <td>1.00</td>\n",
       "      <td>89.00</td>\n",
       "      <td>66.00</td>\n",
       "      <td>23.00</td>\n",
       "      <td>94.00</td>\n",
       "      <td>28.10</td>\n",
       "      <td>0.17</td>\n",
       "      <td>21.00</td>\n",
       "      <td>0</td>\n",
       "      <td>Overweight</td>\n",
       "    </tr>\n",
       "    <tr>\n",
       "      <th>4</th>\n",
       "      <td>0.00</td>\n",
       "      <td>137.00</td>\n",
       "      <td>40.00</td>\n",
       "      <td>35.00</td>\n",
       "      <td>168.00</td>\n",
       "      <td>43.10</td>\n",
       "      <td>2.29</td>\n",
       "      <td>33.00</td>\n",
       "      <td>1</td>\n",
       "      <td>Obesity 3</td>\n",
       "    </tr>\n",
       "  </tbody>\n",
       "</table>\n",
       "</div>"
      ],
      "text/plain": [
       "   Pregnancies  Glucose  BloodPressure  SkinThickness  Insulin   BMI  \\\n",
       "0         6.00   148.00          72.00          35.00   206.85 33.60   \n",
       "1         1.00    85.00          66.00          29.00   130.29 26.60   \n",
       "2         8.00   183.00          64.00          33.00   206.85 23.30   \n",
       "3         1.00    89.00          66.00          23.00    94.00 28.10   \n",
       "4         0.00   137.00          40.00          35.00   168.00 43.10   \n",
       "\n",
       "   DiabetesPedigreeFunction   Age  Outcome      NewBMI  \n",
       "0                      0.63 50.00        1   Obesity 1  \n",
       "1                      0.35 31.00        0  Overweight  \n",
       "2                      0.67 32.00        1      Normal  \n",
       "3                      0.17 21.00        0  Overweight  \n",
       "4                      2.29 33.00        1   Obesity 3  "
      ]
     },
     "execution_count": 29,
     "metadata": {},
     "output_type": "execute_result"
    }
   ],
   "source": [
    "df.head()"
   ]
  },
  {
   "cell_type": "code",
   "execution_count": 30,
   "id": "3ead9715",
   "metadata": {
    "execution": {
     "iopub.execute_input": "2024-01-24T14:54:37.389325Z",
     "iopub.status.busy": "2024-01-24T14:54:37.388893Z",
     "iopub.status.idle": "2024-01-24T14:54:37.412240Z",
     "shell.execute_reply": "2024-01-24T14:54:37.411274Z"
    },
    "id": "v47Mw5Zp8xD6",
    "papermill": {
     "duration": 0.061564,
     "end_time": "2024-01-24T14:54:37.414899",
     "exception": false,
     "start_time": "2024-01-24T14:54:37.353335",
     "status": "completed"
    },
    "tags": []
   },
   "outputs": [],
   "source": [
    "df[\"NewInsulinScore\"] = df.apply(set_insulin, axis=1)"
   ]
  },
  {
   "cell_type": "code",
   "execution_count": 31,
   "id": "860a3dd3",
   "metadata": {
    "execution": {
     "iopub.execute_input": "2024-01-24T14:54:37.486487Z",
     "iopub.status.busy": "2024-01-24T14:54:37.486041Z",
     "iopub.status.idle": "2024-01-24T14:54:37.502944Z",
     "shell.execute_reply": "2024-01-24T14:54:37.501670Z"
    },
    "id": "FnbtRApz8xD6",
    "outputId": "e5c0e365-03ad-4a18-89e0-ef85056a79d4",
    "papermill": {
     "duration": 0.057505,
     "end_time": "2024-01-24T14:54:37.505881",
     "exception": false,
     "start_time": "2024-01-24T14:54:37.448376",
     "status": "completed"
    },
    "tags": []
   },
   "outputs": [
    {
     "data": {
      "text/html": [
       "<div>\n",
       "<style scoped>\n",
       "    .dataframe tbody tr th:only-of-type {\n",
       "        vertical-align: middle;\n",
       "    }\n",
       "\n",
       "    .dataframe tbody tr th {\n",
       "        vertical-align: top;\n",
       "    }\n",
       "\n",
       "    .dataframe thead th {\n",
       "        text-align: right;\n",
       "    }\n",
       "</style>\n",
       "<table border=\"1\" class=\"dataframe\">\n",
       "  <thead>\n",
       "    <tr style=\"text-align: right;\">\n",
       "      <th></th>\n",
       "      <th>Pregnancies</th>\n",
       "      <th>Glucose</th>\n",
       "      <th>BloodPressure</th>\n",
       "      <th>SkinThickness</th>\n",
       "      <th>Insulin</th>\n",
       "      <th>BMI</th>\n",
       "      <th>DiabetesPedigreeFunction</th>\n",
       "      <th>Age</th>\n",
       "      <th>Outcome</th>\n",
       "      <th>NewBMI</th>\n",
       "      <th>NewInsulinScore</th>\n",
       "    </tr>\n",
       "  </thead>\n",
       "  <tbody>\n",
       "    <tr>\n",
       "      <th>0</th>\n",
       "      <td>6.00</td>\n",
       "      <td>148.00</td>\n",
       "      <td>72.00</td>\n",
       "      <td>35.00</td>\n",
       "      <td>206.85</td>\n",
       "      <td>33.60</td>\n",
       "      <td>0.63</td>\n",
       "      <td>50.00</td>\n",
       "      <td>1</td>\n",
       "      <td>Obesity 1</td>\n",
       "      <td>Abnormal</td>\n",
       "    </tr>\n",
       "    <tr>\n",
       "      <th>1</th>\n",
       "      <td>1.00</td>\n",
       "      <td>85.00</td>\n",
       "      <td>66.00</td>\n",
       "      <td>29.00</td>\n",
       "      <td>130.29</td>\n",
       "      <td>26.60</td>\n",
       "      <td>0.35</td>\n",
       "      <td>31.00</td>\n",
       "      <td>0</td>\n",
       "      <td>Overweight</td>\n",
       "      <td>Normal</td>\n",
       "    </tr>\n",
       "    <tr>\n",
       "      <th>2</th>\n",
       "      <td>8.00</td>\n",
       "      <td>183.00</td>\n",
       "      <td>64.00</td>\n",
       "      <td>33.00</td>\n",
       "      <td>206.85</td>\n",
       "      <td>23.30</td>\n",
       "      <td>0.67</td>\n",
       "      <td>32.00</td>\n",
       "      <td>1</td>\n",
       "      <td>Normal</td>\n",
       "      <td>Abnormal</td>\n",
       "    </tr>\n",
       "    <tr>\n",
       "      <th>3</th>\n",
       "      <td>1.00</td>\n",
       "      <td>89.00</td>\n",
       "      <td>66.00</td>\n",
       "      <td>23.00</td>\n",
       "      <td>94.00</td>\n",
       "      <td>28.10</td>\n",
       "      <td>0.17</td>\n",
       "      <td>21.00</td>\n",
       "      <td>0</td>\n",
       "      <td>Overweight</td>\n",
       "      <td>Normal</td>\n",
       "    </tr>\n",
       "    <tr>\n",
       "      <th>4</th>\n",
       "      <td>0.00</td>\n",
       "      <td>137.00</td>\n",
       "      <td>40.00</td>\n",
       "      <td>35.00</td>\n",
       "      <td>168.00</td>\n",
       "      <td>43.10</td>\n",
       "      <td>2.29</td>\n",
       "      <td>33.00</td>\n",
       "      <td>1</td>\n",
       "      <td>Obesity 3</td>\n",
       "      <td>Abnormal</td>\n",
       "    </tr>\n",
       "  </tbody>\n",
       "</table>\n",
       "</div>"
      ],
      "text/plain": [
       "   Pregnancies  Glucose  BloodPressure  SkinThickness  Insulin   BMI  \\\n",
       "0         6.00   148.00          72.00          35.00   206.85 33.60   \n",
       "1         1.00    85.00          66.00          29.00   130.29 26.60   \n",
       "2         8.00   183.00          64.00          33.00   206.85 23.30   \n",
       "3         1.00    89.00          66.00          23.00    94.00 28.10   \n",
       "4         0.00   137.00          40.00          35.00   168.00 43.10   \n",
       "\n",
       "   DiabetesPedigreeFunction   Age  Outcome      NewBMI NewInsulinScore  \n",
       "0                      0.63 50.00        1   Obesity 1        Abnormal  \n",
       "1                      0.35 31.00        0  Overweight          Normal  \n",
       "2                      0.67 32.00        1      Normal        Abnormal  \n",
       "3                      0.17 21.00        0  Overweight          Normal  \n",
       "4                      2.29 33.00        1   Obesity 3        Abnormal  "
      ]
     },
     "execution_count": 31,
     "metadata": {},
     "output_type": "execute_result"
    }
   ],
   "source": [
    "df.head()"
   ]
  },
  {
   "cell_type": "code",
   "execution_count": 32,
   "id": "77541985",
   "metadata": {
    "execution": {
     "iopub.execute_input": "2024-01-24T14:54:37.573857Z",
     "iopub.status.busy": "2024-01-24T14:54:37.573332Z",
     "iopub.status.idle": "2024-01-24T14:54:37.578058Z",
     "shell.execute_reply": "2024-01-24T14:54:37.577091Z"
    },
    "id": "qf4tWk7w8xD7",
    "papermill": {
     "duration": 0.041028,
     "end_time": "2024-01-24T14:54:37.580993",
     "exception": false,
     "start_time": "2024-01-24T14:54:37.539965",
     "status": "completed"
    },
    "tags": []
   },
   "outputs": [],
   "source": [
    "#df.drop(\"NewInsulinScore\", inplace = True, axis = 1)\n",
    "#df.head()"
   ]
  },
  {
   "cell_type": "code",
   "execution_count": 33,
   "id": "9088e757",
   "metadata": {
    "execution": {
     "iopub.execute_input": "2024-01-24T14:54:37.650183Z",
     "iopub.status.busy": "2024-01-24T14:54:37.649483Z",
     "iopub.status.idle": "2024-01-24T14:54:37.663047Z",
     "shell.execute_reply": "2024-01-24T14:54:37.661907Z"
    },
    "id": "Gm5gtaPO8xD8",
    "papermill": {
     "duration": 0.052258,
     "end_time": "2024-01-24T14:54:37.665624",
     "exception": false,
     "start_time": "2024-01-24T14:54:37.613366",
     "status": "completed"
    },
    "tags": []
   },
   "outputs": [],
   "source": [
    "# Some intervals were determined according to the glucose variable and these were assigned categorical variables.\n",
    "NewGlucose = pd.Series([\"Low\", \"Normal\", \"Overweight\", \"Secret\", \"High\"], dtype = \"category\")\n",
    "\n",
    "df[\"NewGlucose\"] = NewGlucose\n",
    "\n",
    "df.loc[df[\"Glucose\"] <= 70, \"NewGlucose\"] = NewGlucose[0]\n",
    "\n",
    "df.loc[(df[\"Glucose\"] > 70) & (df[\"Glucose\"] <= 99), \"NewGlucose\"] = NewGlucose[1]\n",
    "\n",
    "df.loc[(df[\"Glucose\"] > 99) & (df[\"Glucose\"] <= 126), \"NewGlucose\"] = NewGlucose[2]\n",
    "\n",
    "df.loc[df[\"Glucose\"] > 126 ,\"NewGlucose\"] = NewGlucose[3]"
   ]
  },
  {
   "cell_type": "code",
   "execution_count": 34,
   "id": "30f85e9f",
   "metadata": {
    "execution": {
     "iopub.execute_input": "2024-01-24T14:54:37.732907Z",
     "iopub.status.busy": "2024-01-24T14:54:37.732487Z",
     "iopub.status.idle": "2024-01-24T14:54:37.750541Z",
     "shell.execute_reply": "2024-01-24T14:54:37.749181Z"
    },
    "id": "lo9hr7v48xFK",
    "outputId": "e37e968f-8824-480f-def5-b74f190ba392",
    "papermill": {
     "duration": 0.055197,
     "end_time": "2024-01-24T14:54:37.753087",
     "exception": false,
     "start_time": "2024-01-24T14:54:37.697890",
     "status": "completed"
    },
    "tags": []
   },
   "outputs": [
    {
     "data": {
      "text/html": [
       "<div>\n",
       "<style scoped>\n",
       "    .dataframe tbody tr th:only-of-type {\n",
       "        vertical-align: middle;\n",
       "    }\n",
       "\n",
       "    .dataframe tbody tr th {\n",
       "        vertical-align: top;\n",
       "    }\n",
       "\n",
       "    .dataframe thead th {\n",
       "        text-align: right;\n",
       "    }\n",
       "</style>\n",
       "<table border=\"1\" class=\"dataframe\">\n",
       "  <thead>\n",
       "    <tr style=\"text-align: right;\">\n",
       "      <th></th>\n",
       "      <th>Pregnancies</th>\n",
       "      <th>Glucose</th>\n",
       "      <th>BloodPressure</th>\n",
       "      <th>SkinThickness</th>\n",
       "      <th>Insulin</th>\n",
       "      <th>BMI</th>\n",
       "      <th>DiabetesPedigreeFunction</th>\n",
       "      <th>Age</th>\n",
       "      <th>Outcome</th>\n",
       "      <th>NewBMI</th>\n",
       "      <th>NewInsulinScore</th>\n",
       "      <th>NewGlucose</th>\n",
       "    </tr>\n",
       "  </thead>\n",
       "  <tbody>\n",
       "    <tr>\n",
       "      <th>0</th>\n",
       "      <td>6.00</td>\n",
       "      <td>148.00</td>\n",
       "      <td>72.00</td>\n",
       "      <td>35.00</td>\n",
       "      <td>206.85</td>\n",
       "      <td>33.60</td>\n",
       "      <td>0.63</td>\n",
       "      <td>50.00</td>\n",
       "      <td>1</td>\n",
       "      <td>Obesity 1</td>\n",
       "      <td>Abnormal</td>\n",
       "      <td>Secret</td>\n",
       "    </tr>\n",
       "    <tr>\n",
       "      <th>1</th>\n",
       "      <td>1.00</td>\n",
       "      <td>85.00</td>\n",
       "      <td>66.00</td>\n",
       "      <td>29.00</td>\n",
       "      <td>130.29</td>\n",
       "      <td>26.60</td>\n",
       "      <td>0.35</td>\n",
       "      <td>31.00</td>\n",
       "      <td>0</td>\n",
       "      <td>Overweight</td>\n",
       "      <td>Normal</td>\n",
       "      <td>Normal</td>\n",
       "    </tr>\n",
       "    <tr>\n",
       "      <th>2</th>\n",
       "      <td>8.00</td>\n",
       "      <td>183.00</td>\n",
       "      <td>64.00</td>\n",
       "      <td>33.00</td>\n",
       "      <td>206.85</td>\n",
       "      <td>23.30</td>\n",
       "      <td>0.67</td>\n",
       "      <td>32.00</td>\n",
       "      <td>1</td>\n",
       "      <td>Normal</td>\n",
       "      <td>Abnormal</td>\n",
       "      <td>Secret</td>\n",
       "    </tr>\n",
       "    <tr>\n",
       "      <th>3</th>\n",
       "      <td>1.00</td>\n",
       "      <td>89.00</td>\n",
       "      <td>66.00</td>\n",
       "      <td>23.00</td>\n",
       "      <td>94.00</td>\n",
       "      <td>28.10</td>\n",
       "      <td>0.17</td>\n",
       "      <td>21.00</td>\n",
       "      <td>0</td>\n",
       "      <td>Overweight</td>\n",
       "      <td>Normal</td>\n",
       "      <td>Normal</td>\n",
       "    </tr>\n",
       "    <tr>\n",
       "      <th>4</th>\n",
       "      <td>0.00</td>\n",
       "      <td>137.00</td>\n",
       "      <td>40.00</td>\n",
       "      <td>35.00</td>\n",
       "      <td>168.00</td>\n",
       "      <td>43.10</td>\n",
       "      <td>2.29</td>\n",
       "      <td>33.00</td>\n",
       "      <td>1</td>\n",
       "      <td>Obesity 3</td>\n",
       "      <td>Abnormal</td>\n",
       "      <td>Secret</td>\n",
       "    </tr>\n",
       "  </tbody>\n",
       "</table>\n",
       "</div>"
      ],
      "text/plain": [
       "   Pregnancies  Glucose  BloodPressure  SkinThickness  Insulin   BMI  \\\n",
       "0         6.00   148.00          72.00          35.00   206.85 33.60   \n",
       "1         1.00    85.00          66.00          29.00   130.29 26.60   \n",
       "2         8.00   183.00          64.00          33.00   206.85 23.30   \n",
       "3         1.00    89.00          66.00          23.00    94.00 28.10   \n",
       "4         0.00   137.00          40.00          35.00   168.00 43.10   \n",
       "\n",
       "   DiabetesPedigreeFunction   Age  Outcome      NewBMI NewInsulinScore  \\\n",
       "0                      0.63 50.00        1   Obesity 1        Abnormal   \n",
       "1                      0.35 31.00        0  Overweight          Normal   \n",
       "2                      0.67 32.00        1      Normal        Abnormal   \n",
       "3                      0.17 21.00        0  Overweight          Normal   \n",
       "4                      2.29 33.00        1   Obesity 3        Abnormal   \n",
       "\n",
       "  NewGlucose  \n",
       "0     Secret  \n",
       "1     Normal  \n",
       "2     Secret  \n",
       "3     Normal  \n",
       "4     Secret  "
      ]
     },
     "execution_count": 34,
     "metadata": {},
     "output_type": "execute_result"
    }
   ],
   "source": [
    "df.head()"
   ]
  },
  {
   "cell_type": "markdown",
   "id": "f4079e35",
   "metadata": {
    "id": "YXbvIIDR8xFd",
    "papermill": {
     "duration": 0.032613,
     "end_time": "2024-01-24T14:54:37.821801",
     "exception": false,
     "start_time": "2024-01-24T14:54:37.789188",
     "status": "completed"
    },
    "tags": []
   },
   "source": [
    "## 6. One-hot Encoding"
   ]
  },
  {
   "cell_type": "code",
   "execution_count": 35,
   "id": "8691eb01",
   "metadata": {
    "execution": {
     "iopub.execute_input": "2024-01-24T14:54:37.891921Z",
     "iopub.status.busy": "2024-01-24T14:54:37.891480Z",
     "iopub.status.idle": "2024-01-24T14:54:37.903594Z",
     "shell.execute_reply": "2024-01-24T14:54:37.902134Z"
    },
    "id": "yhNsH1XV8xFf",
    "papermill": {
     "duration": 0.050768,
     "end_time": "2024-01-24T14:54:37.906525",
     "exception": false,
     "start_time": "2024-01-24T14:54:37.855757",
     "status": "completed"
    },
    "tags": []
   },
   "outputs": [],
   "source": [
    "df = pd.get_dummies(df, columns =[\"NewBMI\",\"NewInsulinScore\", \"NewGlucose\"], drop_first = True)"
   ]
  },
  {
   "cell_type": "code",
   "execution_count": 36,
   "id": "54c4e95d",
   "metadata": {
    "execution": {
     "iopub.execute_input": "2024-01-24T14:54:37.974446Z",
     "iopub.status.busy": "2024-01-24T14:54:37.974035Z",
     "iopub.status.idle": "2024-01-24T14:54:37.998326Z",
     "shell.execute_reply": "2024-01-24T14:54:37.996344Z"
    },
    "id": "qGNkQVuL8xFk",
    "outputId": "8ba103be-a934-486d-ebc9-f11157236608",
    "papermill": {
     "duration": 0.06216,
     "end_time": "2024-01-24T14:54:38.000954",
     "exception": false,
     "start_time": "2024-01-24T14:54:37.938794",
     "status": "completed"
    },
    "tags": []
   },
   "outputs": [
    {
     "data": {
      "text/html": [
       "<div>\n",
       "<style scoped>\n",
       "    .dataframe tbody tr th:only-of-type {\n",
       "        vertical-align: middle;\n",
       "    }\n",
       "\n",
       "    .dataframe tbody tr th {\n",
       "        vertical-align: top;\n",
       "    }\n",
       "\n",
       "    .dataframe thead th {\n",
       "        text-align: right;\n",
       "    }\n",
       "</style>\n",
       "<table border=\"1\" class=\"dataframe\">\n",
       "  <thead>\n",
       "    <tr style=\"text-align: right;\">\n",
       "      <th></th>\n",
       "      <th>Pregnancies</th>\n",
       "      <th>Glucose</th>\n",
       "      <th>BloodPressure</th>\n",
       "      <th>SkinThickness</th>\n",
       "      <th>Insulin</th>\n",
       "      <th>BMI</th>\n",
       "      <th>DiabetesPedigreeFunction</th>\n",
       "      <th>Age</th>\n",
       "      <th>Outcome</th>\n",
       "      <th>NewBMI_Obesity 1</th>\n",
       "      <th>NewBMI_Obesity 2</th>\n",
       "      <th>NewBMI_Obesity 3</th>\n",
       "      <th>NewBMI_Overweight</th>\n",
       "      <th>NewBMI_Underweight</th>\n",
       "      <th>NewInsulinScore_Normal</th>\n",
       "      <th>NewGlucose_Low</th>\n",
       "      <th>NewGlucose_Normal</th>\n",
       "      <th>NewGlucose_Overweight</th>\n",
       "      <th>NewGlucose_Secret</th>\n",
       "    </tr>\n",
       "  </thead>\n",
       "  <tbody>\n",
       "    <tr>\n",
       "      <th>0</th>\n",
       "      <td>6.00</td>\n",
       "      <td>148.00</td>\n",
       "      <td>72.00</td>\n",
       "      <td>35.00</td>\n",
       "      <td>206.85</td>\n",
       "      <td>33.60</td>\n",
       "      <td>0.63</td>\n",
       "      <td>50.00</td>\n",
       "      <td>1</td>\n",
       "      <td>True</td>\n",
       "      <td>False</td>\n",
       "      <td>False</td>\n",
       "      <td>False</td>\n",
       "      <td>False</td>\n",
       "      <td>False</td>\n",
       "      <td>False</td>\n",
       "      <td>False</td>\n",
       "      <td>False</td>\n",
       "      <td>True</td>\n",
       "    </tr>\n",
       "    <tr>\n",
       "      <th>1</th>\n",
       "      <td>1.00</td>\n",
       "      <td>85.00</td>\n",
       "      <td>66.00</td>\n",
       "      <td>29.00</td>\n",
       "      <td>130.29</td>\n",
       "      <td>26.60</td>\n",
       "      <td>0.35</td>\n",
       "      <td>31.00</td>\n",
       "      <td>0</td>\n",
       "      <td>False</td>\n",
       "      <td>False</td>\n",
       "      <td>False</td>\n",
       "      <td>True</td>\n",
       "      <td>False</td>\n",
       "      <td>True</td>\n",
       "      <td>False</td>\n",
       "      <td>True</td>\n",
       "      <td>False</td>\n",
       "      <td>False</td>\n",
       "    </tr>\n",
       "    <tr>\n",
       "      <th>2</th>\n",
       "      <td>8.00</td>\n",
       "      <td>183.00</td>\n",
       "      <td>64.00</td>\n",
       "      <td>33.00</td>\n",
       "      <td>206.85</td>\n",
       "      <td>23.30</td>\n",
       "      <td>0.67</td>\n",
       "      <td>32.00</td>\n",
       "      <td>1</td>\n",
       "      <td>False</td>\n",
       "      <td>False</td>\n",
       "      <td>False</td>\n",
       "      <td>False</td>\n",
       "      <td>False</td>\n",
       "      <td>False</td>\n",
       "      <td>False</td>\n",
       "      <td>False</td>\n",
       "      <td>False</td>\n",
       "      <td>True</td>\n",
       "    </tr>\n",
       "    <tr>\n",
       "      <th>3</th>\n",
       "      <td>1.00</td>\n",
       "      <td>89.00</td>\n",
       "      <td>66.00</td>\n",
       "      <td>23.00</td>\n",
       "      <td>94.00</td>\n",
       "      <td>28.10</td>\n",
       "      <td>0.17</td>\n",
       "      <td>21.00</td>\n",
       "      <td>0</td>\n",
       "      <td>False</td>\n",
       "      <td>False</td>\n",
       "      <td>False</td>\n",
       "      <td>True</td>\n",
       "      <td>False</td>\n",
       "      <td>True</td>\n",
       "      <td>False</td>\n",
       "      <td>True</td>\n",
       "      <td>False</td>\n",
       "      <td>False</td>\n",
       "    </tr>\n",
       "    <tr>\n",
       "      <th>4</th>\n",
       "      <td>0.00</td>\n",
       "      <td>137.00</td>\n",
       "      <td>40.00</td>\n",
       "      <td>35.00</td>\n",
       "      <td>168.00</td>\n",
       "      <td>43.10</td>\n",
       "      <td>2.29</td>\n",
       "      <td>33.00</td>\n",
       "      <td>1</td>\n",
       "      <td>False</td>\n",
       "      <td>False</td>\n",
       "      <td>True</td>\n",
       "      <td>False</td>\n",
       "      <td>False</td>\n",
       "      <td>False</td>\n",
       "      <td>False</td>\n",
       "      <td>False</td>\n",
       "      <td>False</td>\n",
       "      <td>True</td>\n",
       "    </tr>\n",
       "  </tbody>\n",
       "</table>\n",
       "</div>"
      ],
      "text/plain": [
       "   Pregnancies  Glucose  BloodPressure  SkinThickness  Insulin   BMI  \\\n",
       "0         6.00   148.00          72.00          35.00   206.85 33.60   \n",
       "1         1.00    85.00          66.00          29.00   130.29 26.60   \n",
       "2         8.00   183.00          64.00          33.00   206.85 23.30   \n",
       "3         1.00    89.00          66.00          23.00    94.00 28.10   \n",
       "4         0.00   137.00          40.00          35.00   168.00 43.10   \n",
       "\n",
       "   DiabetesPedigreeFunction   Age  Outcome  NewBMI_Obesity 1  \\\n",
       "0                      0.63 50.00        1              True   \n",
       "1                      0.35 31.00        0             False   \n",
       "2                      0.67 32.00        1             False   \n",
       "3                      0.17 21.00        0             False   \n",
       "4                      2.29 33.00        1             False   \n",
       "\n",
       "   NewBMI_Obesity 2  NewBMI_Obesity 3  NewBMI_Overweight  NewBMI_Underweight  \\\n",
       "0             False             False              False               False   \n",
       "1             False             False               True               False   \n",
       "2             False             False              False               False   \n",
       "3             False             False               True               False   \n",
       "4             False              True              False               False   \n",
       "\n",
       "   NewInsulinScore_Normal  NewGlucose_Low  NewGlucose_Normal  \\\n",
       "0                   False           False              False   \n",
       "1                    True           False               True   \n",
       "2                   False           False              False   \n",
       "3                    True           False               True   \n",
       "4                   False           False              False   \n",
       "\n",
       "   NewGlucose_Overweight  NewGlucose_Secret  \n",
       "0                  False               True  \n",
       "1                  False              False  \n",
       "2                  False               True  \n",
       "3                  False              False  \n",
       "4                  False               True  "
      ]
     },
     "execution_count": 36,
     "metadata": {},
     "output_type": "execute_result"
    }
   ],
   "source": [
    "df.head()"
   ]
  },
  {
   "cell_type": "code",
   "execution_count": 37,
   "id": "172fadc1",
   "metadata": {
    "execution": {
     "iopub.execute_input": "2024-01-24T14:54:38.069033Z",
     "iopub.status.busy": "2024-01-24T14:54:38.068604Z",
     "iopub.status.idle": "2024-01-24T14:54:38.075620Z",
     "shell.execute_reply": "2024-01-24T14:54:38.074419Z"
    },
    "id": "TQe_q-lo8xFo",
    "papermill": {
     "duration": 0.043753,
     "end_time": "2024-01-24T14:54:38.078377",
     "exception": false,
     "start_time": "2024-01-24T14:54:38.034624",
     "status": "completed"
    },
    "tags": []
   },
   "outputs": [],
   "source": [
    "categorical_df = df[['NewBMI_Obesity 1','NewBMI_Obesity 2', 'NewBMI_Obesity 3', 'NewBMI_Overweight','NewBMI_Underweight',\n",
    "                     'NewInsulinScore_Normal','NewGlucose_Low','NewGlucose_Normal', 'NewGlucose_Overweight', 'NewGlucose_Secret']]"
   ]
  },
  {
   "cell_type": "markdown",
   "id": "bc0a632b",
   "metadata": {
    "id": "UkgxNvDz8xFp",
    "papermill": {
     "duration": 0.033625,
     "end_time": "2024-01-24T14:54:38.145047",
     "exception": false,
     "start_time": "2024-01-24T14:54:38.111422",
     "status": "completed"
    },
    "tags": []
   },
   "source": [
    "## 7. Feature Standartization"
   ]
  },
  {
   "cell_type": "code",
   "execution_count": 38,
   "id": "1c80b7c7",
   "metadata": {
    "execution": {
     "iopub.execute_input": "2024-01-24T14:54:38.215402Z",
     "iopub.status.busy": "2024-01-24T14:54:38.214954Z",
     "iopub.status.idle": "2024-01-24T14:54:38.223840Z",
     "shell.execute_reply": "2024-01-24T14:54:38.222915Z"
    },
    "id": "WqYqT1468xFp",
    "papermill": {
     "duration": 0.048247,
     "end_time": "2024-01-24T14:54:38.226334",
     "exception": false,
     "start_time": "2024-01-24T14:54:38.178087",
     "status": "completed"
    },
    "tags": []
   },
   "outputs": [],
   "source": [
    "y = df[\"Outcome\"]\n",
    "X = df.drop([\"Outcome\",'NewBMI_Obesity 1','NewBMI_Obesity 2', 'NewBMI_Obesity 3', 'NewBMI_Overweight','NewBMI_Underweight',\n",
    "                     'NewInsulinScore_Normal','NewGlucose_Low','NewGlucose_Normal', 'NewGlucose_Overweight', 'NewGlucose_Secret'], axis = 1)\n",
    "cols = X.columns\n",
    "index = X.index"
   ]
  },
  {
   "cell_type": "code",
   "execution_count": 39,
   "id": "33a6b611",
   "metadata": {
    "execution": {
     "iopub.execute_input": "2024-01-24T14:54:38.295576Z",
     "iopub.status.busy": "2024-01-24T14:54:38.295124Z",
     "iopub.status.idle": "2024-01-24T14:54:38.304738Z",
     "shell.execute_reply": "2024-01-24T14:54:38.303435Z"
    },
    "id": "um6EGu4i8xFr",
    "outputId": "bebe17ca-a318-42b7-8e1e-05ac7e962968",
    "papermill": {
     "duration": 0.048025,
     "end_time": "2024-01-24T14:54:38.307564",
     "exception": false,
     "start_time": "2024-01-24T14:54:38.259539",
     "status": "completed"
    },
    "tags": []
   },
   "outputs": [
    {
     "data": {
      "text/plain": [
       "0    1\n",
       "1    0\n",
       "2    1\n",
       "3    0\n",
       "4    1\n",
       "Name: Outcome, dtype: int64"
      ]
     },
     "execution_count": 39,
     "metadata": {},
     "output_type": "execute_result"
    }
   ],
   "source": [
    "y.head()"
   ]
  },
  {
   "cell_type": "code",
   "execution_count": 40,
   "id": "bea4fc32",
   "metadata": {
    "execution": {
     "iopub.execute_input": "2024-01-24T14:54:38.376143Z",
     "iopub.status.busy": "2024-01-24T14:54:38.375681Z",
     "iopub.status.idle": "2024-01-24T14:54:38.389745Z",
     "shell.execute_reply": "2024-01-24T14:54:38.388565Z"
    },
    "id": "NprQ0lIc8xFr",
    "outputId": "ba4408bd-74ae-4c7c-ff66-0422bb6c5eb7",
    "papermill": {
     "duration": 0.050727,
     "end_time": "2024-01-24T14:54:38.392322",
     "exception": false,
     "start_time": "2024-01-24T14:54:38.341595",
     "status": "completed"
    },
    "tags": []
   },
   "outputs": [
    {
     "data": {
      "text/html": [
       "<div>\n",
       "<style scoped>\n",
       "    .dataframe tbody tr th:only-of-type {\n",
       "        vertical-align: middle;\n",
       "    }\n",
       "\n",
       "    .dataframe tbody tr th {\n",
       "        vertical-align: top;\n",
       "    }\n",
       "\n",
       "    .dataframe thead th {\n",
       "        text-align: right;\n",
       "    }\n",
       "</style>\n",
       "<table border=\"1\" class=\"dataframe\">\n",
       "  <thead>\n",
       "    <tr style=\"text-align: right;\">\n",
       "      <th></th>\n",
       "      <th>Pregnancies</th>\n",
       "      <th>Glucose</th>\n",
       "      <th>BloodPressure</th>\n",
       "      <th>SkinThickness</th>\n",
       "      <th>Insulin</th>\n",
       "      <th>BMI</th>\n",
       "      <th>DiabetesPedigreeFunction</th>\n",
       "      <th>Age</th>\n",
       "    </tr>\n",
       "  </thead>\n",
       "  <tbody>\n",
       "    <tr>\n",
       "      <th>0</th>\n",
       "      <td>6.00</td>\n",
       "      <td>148.00</td>\n",
       "      <td>72.00</td>\n",
       "      <td>35.00</td>\n",
       "      <td>206.85</td>\n",
       "      <td>33.60</td>\n",
       "      <td>0.63</td>\n",
       "      <td>50.00</td>\n",
       "    </tr>\n",
       "    <tr>\n",
       "      <th>1</th>\n",
       "      <td>1.00</td>\n",
       "      <td>85.00</td>\n",
       "      <td>66.00</td>\n",
       "      <td>29.00</td>\n",
       "      <td>130.29</td>\n",
       "      <td>26.60</td>\n",
       "      <td>0.35</td>\n",
       "      <td>31.00</td>\n",
       "    </tr>\n",
       "    <tr>\n",
       "      <th>2</th>\n",
       "      <td>8.00</td>\n",
       "      <td>183.00</td>\n",
       "      <td>64.00</td>\n",
       "      <td>33.00</td>\n",
       "      <td>206.85</td>\n",
       "      <td>23.30</td>\n",
       "      <td>0.67</td>\n",
       "      <td>32.00</td>\n",
       "    </tr>\n",
       "    <tr>\n",
       "      <th>3</th>\n",
       "      <td>1.00</td>\n",
       "      <td>89.00</td>\n",
       "      <td>66.00</td>\n",
       "      <td>23.00</td>\n",
       "      <td>94.00</td>\n",
       "      <td>28.10</td>\n",
       "      <td>0.17</td>\n",
       "      <td>21.00</td>\n",
       "    </tr>\n",
       "    <tr>\n",
       "      <th>4</th>\n",
       "      <td>0.00</td>\n",
       "      <td>137.00</td>\n",
       "      <td>40.00</td>\n",
       "      <td>35.00</td>\n",
       "      <td>168.00</td>\n",
       "      <td>43.10</td>\n",
       "      <td>2.29</td>\n",
       "      <td>33.00</td>\n",
       "    </tr>\n",
       "  </tbody>\n",
       "</table>\n",
       "</div>"
      ],
      "text/plain": [
       "   Pregnancies  Glucose  BloodPressure  SkinThickness  Insulin   BMI  \\\n",
       "0         6.00   148.00          72.00          35.00   206.85 33.60   \n",
       "1         1.00    85.00          66.00          29.00   130.29 26.60   \n",
       "2         8.00   183.00          64.00          33.00   206.85 23.30   \n",
       "3         1.00    89.00          66.00          23.00    94.00 28.10   \n",
       "4         0.00   137.00          40.00          35.00   168.00 43.10   \n",
       "\n",
       "   DiabetesPedigreeFunction   Age  \n",
       "0                      0.63 50.00  \n",
       "1                      0.35 31.00  \n",
       "2                      0.67 32.00  \n",
       "3                      0.17 21.00  \n",
       "4                      2.29 33.00  "
      ]
     },
     "execution_count": 40,
     "metadata": {},
     "output_type": "execute_result"
    }
   ],
   "source": [
    "X.head()"
   ]
  },
  {
   "cell_type": "code",
   "execution_count": 41,
   "id": "a1293d1c",
   "metadata": {
    "execution": {
     "iopub.execute_input": "2024-01-24T14:54:38.465784Z",
     "iopub.status.busy": "2024-01-24T14:54:38.464474Z",
     "iopub.status.idle": "2024-01-24T14:54:38.472507Z",
     "shell.execute_reply": "2024-01-24T14:54:38.471303Z"
    },
    "id": "Gv0iAWkr8xFs",
    "outputId": "b91bfeb6-42e5-4dbe-cd00-d972243c3a90",
    "papermill": {
     "duration": 0.046635,
     "end_time": "2024-01-24T14:54:38.474986",
     "exception": false,
     "start_time": "2024-01-24T14:54:38.428351",
     "status": "completed"
    },
    "tags": []
   },
   "outputs": [
    {
     "data": {
      "text/plain": [
       "Index(['Pregnancies', 'Glucose', 'BloodPressure', 'SkinThickness', 'Insulin',\n",
       "       'BMI', 'DiabetesPedigreeFunction', 'Age'],\n",
       "      dtype='object')"
      ]
     },
     "execution_count": 41,
     "metadata": {},
     "output_type": "execute_result"
    }
   ],
   "source": [
    "cols"
   ]
  },
  {
   "cell_type": "code",
   "execution_count": 42,
   "id": "78b207a1",
   "metadata": {
    "execution": {
     "iopub.execute_input": "2024-01-24T14:54:38.547473Z",
     "iopub.status.busy": "2024-01-24T14:54:38.546783Z",
     "iopub.status.idle": "2024-01-24T14:54:38.554499Z",
     "shell.execute_reply": "2024-01-24T14:54:38.553277Z"
    },
    "id": "C7NLbNxE8xFt",
    "outputId": "59bb23dd-fae9-4120-c6e6-0d580e56db4f",
    "papermill": {
     "duration": 0.046772,
     "end_time": "2024-01-24T14:54:38.557110",
     "exception": false,
     "start_time": "2024-01-24T14:54:38.510338",
     "status": "completed"
    },
    "tags": []
   },
   "outputs": [
    {
     "data": {
      "text/plain": [
       "RangeIndex(start=0, stop=768, step=1)"
      ]
     },
     "execution_count": 42,
     "metadata": {},
     "output_type": "execute_result"
    }
   ],
   "source": [
    "index"
   ]
  },
  {
   "cell_type": "code",
   "execution_count": 43,
   "id": "a01f645b",
   "metadata": {
    "execution": {
     "iopub.execute_input": "2024-01-24T14:54:38.631890Z",
     "iopub.status.busy": "2024-01-24T14:54:38.631155Z",
     "iopub.status.idle": "2024-01-24T14:54:38.644324Z",
     "shell.execute_reply": "2024-01-24T14:54:38.643033Z"
    },
    "id": "TxyU_qBY8xFu",
    "papermill": {
     "duration": 0.054796,
     "end_time": "2024-01-24T14:54:38.647154",
     "exception": false,
     "start_time": "2024-01-24T14:54:38.592358",
     "status": "completed"
    },
    "tags": []
   },
   "outputs": [],
   "source": [
    "from sklearn.preprocessing import RobustScaler\n",
    "transformer = RobustScaler().fit(X)\n",
    "X = transformer.transform(X)\n",
    "X = pd.DataFrame(X, columns = cols, index = index)"
   ]
  },
  {
   "cell_type": "code",
   "execution_count": 44,
   "id": "6868fe14",
   "metadata": {
    "execution": {
     "iopub.execute_input": "2024-01-24T14:54:38.719505Z",
     "iopub.status.busy": "2024-01-24T14:54:38.719110Z",
     "iopub.status.idle": "2024-01-24T14:54:38.734989Z",
     "shell.execute_reply": "2024-01-24T14:54:38.733407Z"
    },
    "id": "_u2bDV838xFv",
    "outputId": "9f2875ef-92d1-4588-8f6d-3afabcb1a6eb",
    "papermill": {
     "duration": 0.055204,
     "end_time": "2024-01-24T14:54:38.737653",
     "exception": false,
     "start_time": "2024-01-24T14:54:38.682449",
     "status": "completed"
    },
    "tags": []
   },
   "outputs": [
    {
     "data": {
      "text/html": [
       "<div>\n",
       "<style scoped>\n",
       "    .dataframe tbody tr th:only-of-type {\n",
       "        vertical-align: middle;\n",
       "    }\n",
       "\n",
       "    .dataframe tbody tr th {\n",
       "        vertical-align: top;\n",
       "    }\n",
       "\n",
       "    .dataframe thead th {\n",
       "        text-align: right;\n",
       "    }\n",
       "</style>\n",
       "<table border=\"1\" class=\"dataframe\">\n",
       "  <thead>\n",
       "    <tr style=\"text-align: right;\">\n",
       "      <th></th>\n",
       "      <th>Pregnancies</th>\n",
       "      <th>Glucose</th>\n",
       "      <th>BloodPressure</th>\n",
       "      <th>SkinThickness</th>\n",
       "      <th>Insulin</th>\n",
       "      <th>BMI</th>\n",
       "      <th>DiabetesPedigreeFunction</th>\n",
       "      <th>Age</th>\n",
       "    </tr>\n",
       "  </thead>\n",
       "  <tbody>\n",
       "    <tr>\n",
       "      <th>0</th>\n",
       "      <td>0.60</td>\n",
       "      <td>0.75</td>\n",
       "      <td>0.00</td>\n",
       "      <td>0.88</td>\n",
       "      <td>0.90</td>\n",
       "      <td>0.17</td>\n",
       "      <td>0.67</td>\n",
       "      <td>1.24</td>\n",
       "    </tr>\n",
       "    <tr>\n",
       "      <th>1</th>\n",
       "      <td>-0.40</td>\n",
       "      <td>-0.78</td>\n",
       "      <td>-0.38</td>\n",
       "      <td>0.12</td>\n",
       "      <td>0.00</td>\n",
       "      <td>-0.60</td>\n",
       "      <td>-0.06</td>\n",
       "      <td>0.12</td>\n",
       "    </tr>\n",
       "    <tr>\n",
       "      <th>2</th>\n",
       "      <td>1.00</td>\n",
       "      <td>1.60</td>\n",
       "      <td>-0.50</td>\n",
       "      <td>0.62</td>\n",
       "      <td>0.90</td>\n",
       "      <td>-0.96</td>\n",
       "      <td>0.78</td>\n",
       "      <td>0.18</td>\n",
       "    </tr>\n",
       "    <tr>\n",
       "      <th>3</th>\n",
       "      <td>-0.40</td>\n",
       "      <td>-0.68</td>\n",
       "      <td>-0.38</td>\n",
       "      <td>-0.62</td>\n",
       "      <td>-0.43</td>\n",
       "      <td>-0.43</td>\n",
       "      <td>-0.54</td>\n",
       "      <td>-0.47</td>\n",
       "    </tr>\n",
       "    <tr>\n",
       "      <th>4</th>\n",
       "      <td>-0.60</td>\n",
       "      <td>0.48</td>\n",
       "      <td>-2.00</td>\n",
       "      <td>0.88</td>\n",
       "      <td>0.44</td>\n",
       "      <td>1.21</td>\n",
       "      <td>5.01</td>\n",
       "      <td>0.24</td>\n",
       "    </tr>\n",
       "  </tbody>\n",
       "</table>\n",
       "</div>"
      ],
      "text/plain": [
       "   Pregnancies  Glucose  BloodPressure  SkinThickness  Insulin   BMI  \\\n",
       "0         0.60     0.75           0.00           0.88     0.90  0.17   \n",
       "1        -0.40    -0.78          -0.38           0.12     0.00 -0.60   \n",
       "2         1.00     1.60          -0.50           0.62     0.90 -0.96   \n",
       "3        -0.40    -0.68          -0.38          -0.62    -0.43 -0.43   \n",
       "4        -0.60     0.48          -2.00           0.88     0.44  1.21   \n",
       "\n",
       "   DiabetesPedigreeFunction   Age  \n",
       "0                      0.67  1.24  \n",
       "1                     -0.06  0.12  \n",
       "2                      0.78  0.18  \n",
       "3                     -0.54 -0.47  \n",
       "4                      5.01  0.24  "
      ]
     },
     "execution_count": 44,
     "metadata": {},
     "output_type": "execute_result"
    }
   ],
   "source": [
    "X.head()"
   ]
  },
  {
   "cell_type": "code",
   "execution_count": 45,
   "id": "97a7f775",
   "metadata": {
    "execution": {
     "iopub.execute_input": "2024-01-24T14:54:38.812391Z",
     "iopub.status.busy": "2024-01-24T14:54:38.811940Z",
     "iopub.status.idle": "2024-01-24T14:54:38.818296Z",
     "shell.execute_reply": "2024-01-24T14:54:38.817344Z"
    },
    "id": "qwk0Xo3r8xFw",
    "papermill": {
     "duration": 0.047784,
     "end_time": "2024-01-24T14:54:38.820970",
     "exception": false,
     "start_time": "2024-01-24T14:54:38.773186",
     "status": "completed"
    },
    "tags": []
   },
   "outputs": [],
   "source": [
    "X = pd.concat([X, categorical_df], axis = 1)"
   ]
  },
  {
   "cell_type": "code",
   "execution_count": 46,
   "id": "eb3108ca",
   "metadata": {
    "execution": {
     "iopub.execute_input": "2024-01-24T14:54:38.896473Z",
     "iopub.status.busy": "2024-01-24T14:54:38.894754Z",
     "iopub.status.idle": "2024-01-24T14:54:38.917248Z",
     "shell.execute_reply": "2024-01-24T14:54:38.915867Z"
    },
    "id": "ISrP0Mhv8xF8",
    "outputId": "056be2be-67e0-498f-ee57-0b233b8cb6b8",
    "papermill": {
     "duration": 0.062156,
     "end_time": "2024-01-24T14:54:38.919954",
     "exception": false,
     "start_time": "2024-01-24T14:54:38.857798",
     "status": "completed"
    },
    "tags": []
   },
   "outputs": [
    {
     "data": {
      "text/html": [
       "<div>\n",
       "<style scoped>\n",
       "    .dataframe tbody tr th:only-of-type {\n",
       "        vertical-align: middle;\n",
       "    }\n",
       "\n",
       "    .dataframe tbody tr th {\n",
       "        vertical-align: top;\n",
       "    }\n",
       "\n",
       "    .dataframe thead th {\n",
       "        text-align: right;\n",
       "    }\n",
       "</style>\n",
       "<table border=\"1\" class=\"dataframe\">\n",
       "  <thead>\n",
       "    <tr style=\"text-align: right;\">\n",
       "      <th></th>\n",
       "      <th>Pregnancies</th>\n",
       "      <th>Glucose</th>\n",
       "      <th>BloodPressure</th>\n",
       "      <th>SkinThickness</th>\n",
       "      <th>Insulin</th>\n",
       "      <th>BMI</th>\n",
       "      <th>DiabetesPedigreeFunction</th>\n",
       "      <th>Age</th>\n",
       "      <th>NewBMI_Obesity 1</th>\n",
       "      <th>NewBMI_Obesity 2</th>\n",
       "      <th>NewBMI_Obesity 3</th>\n",
       "      <th>NewBMI_Overweight</th>\n",
       "      <th>NewBMI_Underweight</th>\n",
       "      <th>NewInsulinScore_Normal</th>\n",
       "      <th>NewGlucose_Low</th>\n",
       "      <th>NewGlucose_Normal</th>\n",
       "      <th>NewGlucose_Overweight</th>\n",
       "      <th>NewGlucose_Secret</th>\n",
       "    </tr>\n",
       "  </thead>\n",
       "  <tbody>\n",
       "    <tr>\n",
       "      <th>0</th>\n",
       "      <td>0.60</td>\n",
       "      <td>0.75</td>\n",
       "      <td>0.00</td>\n",
       "      <td>0.88</td>\n",
       "      <td>0.90</td>\n",
       "      <td>0.17</td>\n",
       "      <td>0.67</td>\n",
       "      <td>1.24</td>\n",
       "      <td>True</td>\n",
       "      <td>False</td>\n",
       "      <td>False</td>\n",
       "      <td>False</td>\n",
       "      <td>False</td>\n",
       "      <td>False</td>\n",
       "      <td>False</td>\n",
       "      <td>False</td>\n",
       "      <td>False</td>\n",
       "      <td>True</td>\n",
       "    </tr>\n",
       "    <tr>\n",
       "      <th>1</th>\n",
       "      <td>-0.40</td>\n",
       "      <td>-0.78</td>\n",
       "      <td>-0.38</td>\n",
       "      <td>0.12</td>\n",
       "      <td>0.00</td>\n",
       "      <td>-0.60</td>\n",
       "      <td>-0.06</td>\n",
       "      <td>0.12</td>\n",
       "      <td>False</td>\n",
       "      <td>False</td>\n",
       "      <td>False</td>\n",
       "      <td>True</td>\n",
       "      <td>False</td>\n",
       "      <td>True</td>\n",
       "      <td>False</td>\n",
       "      <td>True</td>\n",
       "      <td>False</td>\n",
       "      <td>False</td>\n",
       "    </tr>\n",
       "    <tr>\n",
       "      <th>2</th>\n",
       "      <td>1.00</td>\n",
       "      <td>1.60</td>\n",
       "      <td>-0.50</td>\n",
       "      <td>0.62</td>\n",
       "      <td>0.90</td>\n",
       "      <td>-0.96</td>\n",
       "      <td>0.78</td>\n",
       "      <td>0.18</td>\n",
       "      <td>False</td>\n",
       "      <td>False</td>\n",
       "      <td>False</td>\n",
       "      <td>False</td>\n",
       "      <td>False</td>\n",
       "      <td>False</td>\n",
       "      <td>False</td>\n",
       "      <td>False</td>\n",
       "      <td>False</td>\n",
       "      <td>True</td>\n",
       "    </tr>\n",
       "    <tr>\n",
       "      <th>3</th>\n",
       "      <td>-0.40</td>\n",
       "      <td>-0.68</td>\n",
       "      <td>-0.38</td>\n",
       "      <td>-0.62</td>\n",
       "      <td>-0.43</td>\n",
       "      <td>-0.43</td>\n",
       "      <td>-0.54</td>\n",
       "      <td>-0.47</td>\n",
       "      <td>False</td>\n",
       "      <td>False</td>\n",
       "      <td>False</td>\n",
       "      <td>True</td>\n",
       "      <td>False</td>\n",
       "      <td>True</td>\n",
       "      <td>False</td>\n",
       "      <td>True</td>\n",
       "      <td>False</td>\n",
       "      <td>False</td>\n",
       "    </tr>\n",
       "    <tr>\n",
       "      <th>4</th>\n",
       "      <td>-0.60</td>\n",
       "      <td>0.48</td>\n",
       "      <td>-2.00</td>\n",
       "      <td>0.88</td>\n",
       "      <td>0.44</td>\n",
       "      <td>1.21</td>\n",
       "      <td>5.01</td>\n",
       "      <td>0.24</td>\n",
       "      <td>False</td>\n",
       "      <td>False</td>\n",
       "      <td>True</td>\n",
       "      <td>False</td>\n",
       "      <td>False</td>\n",
       "      <td>False</td>\n",
       "      <td>False</td>\n",
       "      <td>False</td>\n",
       "      <td>False</td>\n",
       "      <td>True</td>\n",
       "    </tr>\n",
       "  </tbody>\n",
       "</table>\n",
       "</div>"
      ],
      "text/plain": [
       "   Pregnancies  Glucose  BloodPressure  SkinThickness  Insulin   BMI  \\\n",
       "0         0.60     0.75           0.00           0.88     0.90  0.17   \n",
       "1        -0.40    -0.78          -0.38           0.12     0.00 -0.60   \n",
       "2         1.00     1.60          -0.50           0.62     0.90 -0.96   \n",
       "3        -0.40    -0.68          -0.38          -0.62    -0.43 -0.43   \n",
       "4        -0.60     0.48          -2.00           0.88     0.44  1.21   \n",
       "\n",
       "   DiabetesPedigreeFunction   Age  NewBMI_Obesity 1  NewBMI_Obesity 2  \\\n",
       "0                      0.67  1.24              True             False   \n",
       "1                     -0.06  0.12             False             False   \n",
       "2                      0.78  0.18             False             False   \n",
       "3                     -0.54 -0.47             False             False   \n",
       "4                      5.01  0.24             False             False   \n",
       "\n",
       "   NewBMI_Obesity 3  NewBMI_Overweight  NewBMI_Underweight  \\\n",
       "0             False              False               False   \n",
       "1             False               True               False   \n",
       "2             False              False               False   \n",
       "3             False               True               False   \n",
       "4              True              False               False   \n",
       "\n",
       "   NewInsulinScore_Normal  NewGlucose_Low  NewGlucose_Normal  \\\n",
       "0                   False           False              False   \n",
       "1                    True           False               True   \n",
       "2                   False           False              False   \n",
       "3                    True           False               True   \n",
       "4                   False           False              False   \n",
       "\n",
       "   NewGlucose_Overweight  NewGlucose_Secret  \n",
       "0                  False               True  \n",
       "1                  False              False  \n",
       "2                  False               True  \n",
       "3                  False              False  \n",
       "4                  False               True  "
      ]
     },
     "execution_count": 46,
     "metadata": {},
     "output_type": "execute_result"
    }
   ],
   "source": [
    "X.head()"
   ]
  },
  {
   "cell_type": "code",
   "execution_count": 47,
   "id": "89254efb",
   "metadata": {
    "execution": {
     "iopub.execute_input": "2024-01-24T14:54:38.993599Z",
     "iopub.status.busy": "2024-01-24T14:54:38.992787Z",
     "iopub.status.idle": "2024-01-24T14:54:39.007004Z",
     "shell.execute_reply": "2024-01-24T14:54:39.005474Z"
    },
    "id": "tIamqlQb-92g",
    "papermill": {
     "duration": 0.054641,
     "end_time": "2024-01-24T14:54:39.010046",
     "exception": false,
     "start_time": "2024-01-24T14:54:38.955405",
     "status": "completed"
    },
    "tags": []
   },
   "outputs": [],
   "source": [
    "X_tr, X_test, y_tr, y_test = train_test_split(X, y, stratify=y,\n",
    "                                              test_size=0.2, random_state=42)\n",
    "\n",
    "# 4. Split into train and validate sets\n",
    "X_train, X_val, y_train, y_val = train_test_split(X_tr, y_tr, stratify=y_tr,\n",
    "                                                  test_size=0.25, random_state=42)"
   ]
  },
  {
   "cell_type": "markdown",
   "id": "cfef7a96",
   "metadata": {
    "id": "okFX0rjJ8xF-",
    "papermill": {
     "duration": 0.034274,
     "end_time": "2024-01-24T14:54:39.078719",
     "exception": false,
     "start_time": "2024-01-24T14:54:39.044445",
     "status": "completed"
    },
    "tags": []
   },
   "source": [
    "## 8. Model"
   ]
  },
  {
   "cell_type": "code",
   "execution_count": 48,
   "id": "8e780e8c",
   "metadata": {
    "execution": {
     "iopub.execute_input": "2024-01-24T14:54:39.150307Z",
     "iopub.status.busy": "2024-01-24T14:54:39.149417Z",
     "iopub.status.idle": "2024-01-24T14:54:44.283699Z",
     "shell.execute_reply": "2024-01-24T14:54:44.282407Z"
    },
    "id": "ms2IO4hH8xF-",
    "outputId": "90c3f1a7-bcea-4e74-b8bb-2b18220e4fd8",
    "papermill": {
     "duration": 5.174083,
     "end_time": "2024-01-24T14:54:44.286753",
     "exception": false,
     "start_time": "2024-01-24T14:54:39.112670",
     "status": "completed"
    },
    "tags": []
   },
   "outputs": [
    {
     "name": "stdout",
     "output_type": "stream",
     "text": [
      "LR: 0.841146 (0.024009)\n",
      "KNN: 0.815104 (0.009389)\n",
      "CART: 0.863281 (0.024808)\n",
      "RF: 0.865885 (0.019269)\n",
      "SVM: 0.846354 (0.017077)\n",
      "XGB: 0.882812 (0.038714)\n",
      "LightGBM: 0.886719 (0.024533)\n"
     ]
    }
   ],
   "source": [
    "models = []\n",
    "models.append(('LR', LogisticRegression(random_state = 42)))\n",
    "models.append(('KNN', KNeighborsClassifier()))\n",
    "models.append(('CART', DecisionTreeClassifier(random_state = 42)))\n",
    "models.append(('RF', RandomForestClassifier(random_state = 42)))\n",
    "models.append(('SVM', SVC(gamma='auto', random_state = 42)))\n",
    "models.append(('XGB', GradientBoostingClassifier(random_state = 42)))\n",
    "models.append((\"LightGBM\", LGBMClassifier(random_state = 42)))\n",
    "\n",
    "# evaluate each model in turn\n",
    "results = []\n",
    "names = []\n",
    "\n",
    "for name, model in models:\n",
    "\n",
    "        kfold = KFold(n_splits=10, shuffle=True)\n",
    "\n",
    "        cv_results = cross_val_score(model, X, y, cv =4, scoring= \"accuracy\")\n",
    "        results.append(cv_results)\n",
    "        names.append(name)\n",
    "        msg = \"%s: %f (%f)\" % (name, cv_results.mean(), cv_results.std())\n",
    "        print(msg)\n",
    "\n",
    "\n"
   ]
  },
  {
   "cell_type": "code",
   "execution_count": 49,
   "id": "5c614ffb",
   "metadata": {
    "execution": {
     "iopub.execute_input": "2024-01-24T14:54:44.363028Z",
     "iopub.status.busy": "2024-01-24T14:54:44.362615Z",
     "iopub.status.idle": "2024-01-24T14:54:44.735692Z",
     "shell.execute_reply": "2024-01-24T14:54:44.734433Z"
    },
    "id": "rftigynQ8xF_",
    "outputId": "c97e6331-87b1-4ac2-e262-ad835f23f750",
    "papermill": {
     "duration": 0.414694,
     "end_time": "2024-01-24T14:54:44.738647",
     "exception": false,
     "start_time": "2024-01-24T14:54:44.323953",
     "status": "completed"
    },
    "tags": []
   },
   "outputs": [
    {
     "data": {
      "image/png": "[encoded data removed]",
      "text/plain": [
       "<Figure size 500x400 with 1 Axes>"
      ]
     },
     "metadata": {
      "image/png": {
       "height": 391,
       "width": 454
      }
     },
     "output_type": "display_data"
    }
   ],
   "source": [
    "# boxplot algorithm comparison\n",
    "fig = plt.figure(figsize=(5,4))\n",
    "fig.suptitle('Algorithm Comparison')\n",
    "ax = fig.add_subplot(111)\n",
    "plt.boxplot(results)\n",
    "ax.set_xticklabels(names)\n",
    "plt.show()\n",
    "\n"
   ]
  },
  {
   "cell_type": "markdown",
   "id": "635ee929",
   "metadata": {
    "id": "JCCxYEs28xGA",
    "papermill": {
     "duration": 0.03653,
     "end_time": "2024-01-24T14:54:44.810514",
     "exception": false,
     "start_time": "2024-01-24T14:54:44.773984",
     "status": "completed"
    },
    "tags": []
   },
   "source": [
    "## 9. Model Optimizasyonu (Model Tunning)"
   ]
  },
  {
   "cell_type": "markdown",
   "id": "2dcdd54d",
   "metadata": {
    "id": "kyTw1HKe8xGA",
    "papermill": {
     "duration": 0.035555,
     "end_time": "2024-01-24T14:54:44.881710",
     "exception": false,
     "start_time": "2024-01-24T14:54:44.846155",
     "status": "completed"
    },
    "tags": []
   },
   "source": [
    "### 9.1. Random Forests Tuning"
   ]
  },
  {
   "cell_type": "code",
   "execution_count": 50,
   "id": "594e1cd5",
   "metadata": {
    "execution": {
     "iopub.execute_input": "2024-01-24T14:54:44.956465Z",
     "iopub.status.busy": "2024-01-24T14:54:44.955998Z",
     "iopub.status.idle": "2024-01-24T14:54:44.962412Z",
     "shell.execute_reply": "2024-01-24T14:54:44.960970Z"
    },
    "id": "V1C0a67j8xGB",
    "papermill": {
     "duration": 0.047196,
     "end_time": "2024-01-24T14:54:44.965127",
     "exception": false,
     "start_time": "2024-01-24T14:54:44.917931",
     "status": "completed"
    },
    "tags": []
   },
   "outputs": [],
   "source": [
    "rf_params = {'max_depth': [None],\n",
    "             'max_features': [1.0],\n",
    "             'max_samples': [1.0],\n",
    "             'min_samples_leaf': [2],\n",
    "             'min_samples_split': [2],\n",
    "             'n_estimators': [300],\n",
    "             }\n",
    "\n",
    "# 3. Define a dictionary of scoring metrics to capture\n",
    "scoring = {'accuracy', 'precision', 'recall', 'f1'}"
   ]
  },
  {
   "cell_type": "code",
   "execution_count": 51,
   "id": "561e183f",
   "metadata": {
    "execution": {
     "iopub.execute_input": "2024-01-24T14:54:45.039979Z",
     "iopub.status.busy": "2024-01-24T14:54:45.039214Z",
     "iopub.status.idle": "2024-01-24T14:54:45.044478Z",
     "shell.execute_reply": "2024-01-24T14:54:45.043173Z"
    },
    "id": "gdYymhyP8xGB",
    "papermill": {
     "duration": 0.046177,
     "end_time": "2024-01-24T14:54:45.047429",
     "exception": false,
     "start_time": "2024-01-24T14:54:45.001252",
     "status": "completed"
    },
    "tags": []
   },
   "outputs": [],
   "source": [
    "rf_model = RandomForestClassifier(random_state = 42)"
   ]
  },
  {
   "cell_type": "code",
   "execution_count": 52,
   "id": "4552b743",
   "metadata": {
    "execution": {
     "iopub.execute_input": "2024-01-24T14:54:45.121645Z",
     "iopub.status.busy": "2024-01-24T14:54:45.120894Z",
     "iopub.status.idle": "2024-01-24T14:54:45.125380Z",
     "shell.execute_reply": "2024-01-24T14:54:45.124579Z"
    },
    "id": "53dtkyqr8xGK",
    "papermill": {
     "duration": 0.045352,
     "end_time": "2024-01-24T14:54:45.127876",
     "exception": false,
     "start_time": "2024-01-24T14:54:45.082524",
     "status": "completed"
    },
    "tags": []
   },
   "outputs": [],
   "source": [
    "gs_cv = GridSearchCV(rf_model,\n",
    "                    rf_params,\n",
    "                    cv = 4,\n",
    "                    refit='recall')\n"
   ]
  },
  {
   "cell_type": "code",
   "execution_count": 53,
   "id": "315f1128",
   "metadata": {
    "execution": {
     "iopub.execute_input": "2024-01-24T14:54:45.201959Z",
     "iopub.status.busy": "2024-01-24T14:54:45.201258Z",
     "iopub.status.idle": "2024-01-24T14:54:51.316535Z",
     "shell.execute_reply": "2024-01-24T14:54:51.315513Z"
    },
    "id": "B-REIgUO8xGN",
    "outputId": "6475779b-c0d7-410d-8ddd-bd350144cf6d",
    "papermill": {
     "duration": 6.156189,
     "end_time": "2024-01-24T14:54:51.319624",
     "exception": false,
     "start_time": "2024-01-24T14:54:45.163435",
     "status": "completed"
    },
    "tags": []
   },
   "outputs": [
    {
     "name": "stdout",
     "output_type": "stream",
     "text": [
      "CPU times: user 6.05 s, sys: 22.3 ms, total: 6.08 s\n",
      "Wall time: 6.1 s\n"
     ]
    },
    {
     "data": {
      "text/html": [
       "<style>#sk-container-id-1 {color: black;background-color: white;}#sk-container-id-1 pre{padding: 0;}#sk-container-id-1 div.sk-toggleable {background-color: white;}#sk-container-id-1 label.sk-toggleable__label {cursor: pointer;display: block;width: 100%;margin-bottom: 0;padding: 0.3em;box-sizing: border-box;text-align: center;}#sk-container-id-1 label.sk-toggleable__label-arrow:before {content: \"▸\";float: left;margin-right: 0.25em;color: #696969;}#sk-container-id-1 label.sk-toggleable__label-arrow:hover:before {color: black;}#sk-container-id-1 div.sk-estimator:hover label.sk-toggleable__label-arrow:before {color: black;}#sk-container-id-1 div.sk-toggleable__content {max-height: 0;max-width: 0;overflow: hidden;text-align: left;background-color: #f0f8ff;}#sk-container-id-1 div.sk-toggleable__content pre {margin: 0.2em;color: black;border-radius: 0.25em;background-color: #f0f8ff;}#sk-container-id-1 input.sk-toggleable__control:checked~div.sk-toggleable__content {max-height: 200px;max-width: 100%;overflow: auto;}#sk-container-id-1 input.sk-toggleable__control:checked~label.sk-toggleable__label-arrow:before {content: \"▾\";}#sk-container-id-1 div.sk-estimator input.sk-toggleable__control:checked~label.sk-toggleable__label {background-color: #d4ebff;}#sk-container-id-1 div.sk-label input.sk-toggleable__control:checked~label.sk-toggleable__label {background-color: #d4ebff;}#sk-container-id-1 input.sk-hidden--visually {border: 0;clip: rect(1px 1px 1px 1px);clip: rect(1px, 1px, 1px, 1px);height: 1px;margin: -1px;overflow: hidden;padding: 0;position: absolute;width: 1px;}#sk-container-id-1 div.sk-estimator {font-family: monospace;background-color: #f0f8ff;border: 1px dotted black;border-radius: 0.25em;box-sizing: border-box;margin-bottom: 0.5em;}#sk-container-id-1 div.sk-estimator:hover {background-color: #d4ebff;}#sk-container-id-1 div.sk-parallel-item::after {content: \"\";width: 100%;border-bottom: 1px solid gray;flex-grow: 1;}#sk-container-id-1 div.sk-label:hover label.sk-toggleable__label {background-color: #d4ebff;}#sk-container-id-1 div.sk-serial::before {content: \"\";position: absolute;border-left: 1px solid gray;box-sizing: border-box;top: 0;bottom: 0;left: 50%;z-index: 0;}#sk-container-id-1 div.sk-serial {display: flex;flex-direction: column;align-items: center;background-color: white;padding-right: 0.2em;padding-left: 0.2em;position: relative;}#sk-container-id-1 div.sk-item {position: relative;z-index: 1;}#sk-container-id-1 div.sk-parallel {display: flex;align-items: stretch;justify-content: center;background-color: white;position: relative;}#sk-container-id-1 div.sk-item::before, #sk-container-id-1 div.sk-parallel-item::before {content: \"\";position: absolute;border-left: 1px solid gray;box-sizing: border-box;top: 0;bottom: 0;left: 50%;z-index: -1;}#sk-container-id-1 div.sk-parallel-item {display: flex;flex-direction: column;z-index: 1;position: relative;background-color: white;}#sk-container-id-1 div.sk-parallel-item:first-child::after {align-self: flex-end;width: 50%;}#sk-container-id-1 div.sk-parallel-item:last-child::after {align-self: flex-start;width: 50%;}#sk-container-id-1 div.sk-parallel-item:only-child::after {width: 0;}#sk-container-id-1 div.sk-dashed-wrapped {border: 1px dashed gray;margin: 0 0.4em 0.5em 0.4em;box-sizing: border-box;padding-bottom: 0.4em;background-color: white;}#sk-container-id-1 div.sk-label label {font-family: monospace;font-weight: bold;display: inline-block;line-height: 1.2em;}#sk-container-id-1 div.sk-label-container {text-align: center;}#sk-container-id-1 div.sk-container {/* jupyter's `normalize.less` sets `[hidden] { display: none; }` but bootstrap.min.css set `[hidden] { display: none !important; }` so we also need the `!important` here to be able to override the default hidden behavior on the sphinx rendered scikit-learn.org. See: https://github.com/scikit-learn/scikit-learn/issues/21755 */display: inline-block !important;position: relative;}#sk-container-id-1 div.sk-text-repr-fallback {display: none;}</style><div id=\"sk-container-id-1\" class=\"sk-top-container\"><div class=\"sk-text-repr-fallback\"><pre>GridSearchCV(cv=4, estimator=RandomForestClassifier(random_state=42),\n",
       "             param_grid={&#x27;max_depth&#x27;: [None], &#x27;max_features&#x27;: [1.0],\n",
       "                         &#x27;max_samples&#x27;: [1.0], &#x27;min_samples_leaf&#x27;: [2],\n",
       "                         &#x27;min_samples_split&#x27;: [2], &#x27;n_estimators&#x27;: [300]},\n",
       "             refit=&#x27;recall&#x27;)</pre><b>In a Jupyter environment, please rerun this cell to show the HTML representation or trust the notebook. <br />On GitHub, the HTML representation is unable to render, please try loading this page with nbviewer.org.</b></div><div class=\"sk-container\" hidden><div class=\"sk-item sk-dashed-wrapped\"><div class=\"sk-label-container\"><div class=\"sk-label sk-toggleable\"><input class=\"sk-toggleable__control sk-hidden--visually\" id=\"sk-estimator-id-1\" type=\"checkbox\" ><label for=\"sk-estimator-id-1\" class=\"sk-toggleable__label sk-toggleable__label-arrow\">GridSearchCV</label><div class=\"sk-toggleable__content\"><pre>GridSearchCV(cv=4, estimator=RandomForestClassifier(random_state=42),\n",
       "             param_grid={&#x27;max_depth&#x27;: [None], &#x27;max_features&#x27;: [1.0],\n",
       "                         &#x27;max_samples&#x27;: [1.0], &#x27;min_samples_leaf&#x27;: [2],\n",
       "                         &#x27;min_samples_split&#x27;: [2], &#x27;n_estimators&#x27;: [300]},\n",
       "             refit=&#x27;recall&#x27;)</pre></div></div></div><div class=\"sk-parallel\"><div class=\"sk-parallel-item\"><div class=\"sk-item\"><div class=\"sk-label-container\"><div class=\"sk-label sk-toggleable\"><input class=\"sk-toggleable__control sk-hidden--visually\" id=\"sk-estimator-id-2\" type=\"checkbox\" ><label for=\"sk-estimator-id-2\" class=\"sk-toggleable__label sk-toggleable__label-arrow\">estimator: RandomForestClassifier</label><div class=\"sk-toggleable__content\"><pre>RandomForestClassifier(random_state=42)</pre></div></div></div><div class=\"sk-serial\"><div class=\"sk-item\"><div class=\"sk-estimator sk-toggleable\"><input class=\"sk-toggleable__control sk-hidden--visually\" id=\"sk-estimator-id-3\" type=\"checkbox\" ><label for=\"sk-estimator-id-3\" class=\"sk-toggleable__label sk-toggleable__label-arrow\">RandomForestClassifier</label><div class=\"sk-toggleable__content\"><pre>RandomForestClassifier(random_state=42)</pre></div></div></div></div></div></div></div></div></div></div>"
      ],
      "text/plain": [
       "GridSearchCV(cv=4, estimator=RandomForestClassifier(random_state=42),\n",
       "             param_grid={'max_depth': [None], 'max_features': [1.0],\n",
       "                         'max_samples': [1.0], 'min_samples_leaf': [2],\n",
       "                         'min_samples_split': [2], 'n_estimators': [300]},\n",
       "             refit='recall')"
      ]
     },
     "execution_count": 53,
     "metadata": {},
     "output_type": "execute_result"
    }
   ],
   "source": [
    "%%time\n",
    "gs_cv.fit(X,y)"
   ]
  },
  {
   "cell_type": "code",
   "execution_count": 54,
   "id": "abc5d3e4",
   "metadata": {
    "execution": {
     "iopub.execute_input": "2024-01-24T14:54:51.398494Z",
     "iopub.status.busy": "2024-01-24T14:54:51.397847Z",
     "iopub.status.idle": "2024-01-24T14:54:51.403749Z",
     "shell.execute_reply": "2024-01-24T14:54:51.402883Z"
    },
    "id": "dnSNt7dM8xGO",
    "outputId": "6c4ef2a0-358b-47a9-efa6-5ba672459c2a",
    "papermill": {
     "duration": 0.04944,
     "end_time": "2024-01-24T14:54:51.406340",
     "exception": false,
     "start_time": "2024-01-24T14:54:51.356900",
     "status": "completed"
    },
    "tags": []
   },
   "outputs": [
    {
     "data": {
      "text/plain": [
       "{'max_depth': None,\n",
       " 'max_features': 1.0,\n",
       " 'max_samples': 1.0,\n",
       " 'min_samples_leaf': 2,\n",
       " 'min_samples_split': 2,\n",
       " 'n_estimators': 300}"
      ]
     },
     "execution_count": 54,
     "metadata": {},
     "output_type": "execute_result"
    }
   ],
   "source": [
    "gs_cv.best_params_"
   ]
  },
  {
   "cell_type": "markdown",
   "id": "0fa51700",
   "metadata": {
    "id": "SCLbt_cx8xGP",
    "papermill": {
     "duration": 0.039245,
     "end_time": "2024-01-24T14:54:51.485009",
     "exception": false,
     "start_time": "2024-01-24T14:54:51.445764",
     "status": "completed"
    },
    "tags": []
   },
   "source": [
    "### 9.1.1. RF Final Model"
   ]
  },
  {
   "cell_type": "code",
   "execution_count": 55,
   "id": "5c0c1575",
   "metadata": {
    "execution": {
     "iopub.execute_input": "2024-01-24T14:54:51.565215Z",
     "iopub.status.busy": "2024-01-24T14:54:51.564450Z",
     "iopub.status.idle": "2024-01-24T14:54:51.569654Z",
     "shell.execute_reply": "2024-01-24T14:54:51.568428Z"
    },
    "id": "ozz9l7vk8xGP",
    "papermill": {
     "duration": 0.049833,
     "end_time": "2024-01-24T14:54:51.572643",
     "exception": false,
     "start_time": "2024-01-24T14:54:51.522810",
     "status": "completed"
    },
    "tags": []
   },
   "outputs": [],
   "source": [
    "rf_tuned = RandomForestClassifier(**gs_cv.best_params_)"
   ]
  },
  {
   "cell_type": "code",
   "execution_count": 56,
   "id": "6b13013a",
   "metadata": {
    "execution": {
     "iopub.execute_input": "2024-01-24T14:54:51.650265Z",
     "iopub.status.busy": "2024-01-24T14:54:51.649479Z",
     "iopub.status.idle": "2024-01-24T14:54:52.976183Z",
     "shell.execute_reply": "2024-01-24T14:54:52.974837Z"
    },
    "id": "i9bfeni18xGQ",
    "papermill": {
     "duration": 1.369594,
     "end_time": "2024-01-24T14:54:52.979271",
     "exception": false,
     "start_time": "2024-01-24T14:54:51.609677",
     "status": "completed"
    },
    "tags": []
   },
   "outputs": [],
   "source": [
    "rf_tuned = rf_tuned.fit(X,y)"
   ]
  },
  {
   "cell_type": "code",
   "execution_count": 57,
   "id": "9354533f",
   "metadata": {
    "execution": {
     "iopub.execute_input": "2024-01-24T14:54:53.057316Z",
     "iopub.status.busy": "2024-01-24T14:54:53.056920Z",
     "iopub.status.idle": "2024-01-24T14:55:06.146482Z",
     "shell.execute_reply": "2024-01-24T14:55:06.145106Z"
    },
    "id": "efu8BANM8xGR",
    "outputId": "cef31b00-6d3a-4ea6-fb06-97a4cb874ae7",
    "papermill": {
     "duration": 13.1322,
     "end_time": "2024-01-24T14:55:06.149107",
     "exception": false,
     "start_time": "2024-01-24T14:54:53.016907",
     "status": "completed"
    },
    "tags": []
   },
   "outputs": [
    {
     "data": {
      "text/plain": [
       "0.8932843472317156"
      ]
     },
     "execution_count": 57,
     "metadata": {},
     "output_type": "execute_result"
    }
   ],
   "source": [
    "cross_val_score(rf_tuned, X, y, cv = 10).mean()"
   ]
  },
  {
   "cell_type": "markdown",
   "id": "82f7f7db",
   "metadata": {
    "id": "9Fsw0PIw8xGR",
    "papermill": {
     "duration": 0.03631,
     "end_time": "2024-01-24T14:55:06.226798",
     "exception": false,
     "start_time": "2024-01-24T14:55:06.190488",
     "status": "completed"
    },
    "tags": []
   },
   "source": [
    "### 9.2. LightGBM Model Tuning"
   ]
  },
  {
   "cell_type": "code",
   "execution_count": 58,
   "id": "a3af87eb",
   "metadata": {
    "execution": {
     "iopub.execute_input": "2024-01-24T14:55:06.306373Z",
     "iopub.status.busy": "2024-01-24T14:55:06.305954Z",
     "iopub.status.idle": "2024-01-24T14:55:06.311027Z",
     "shell.execute_reply": "2024-01-24T14:55:06.309665Z"
    },
    "id": "eHgnaWgG8xGd",
    "papermill": {
     "duration": 0.048304,
     "end_time": "2024-01-24T14:55:06.313721",
     "exception": false,
     "start_time": "2024-01-24T14:55:06.265417",
     "status": "completed"
    },
    "tags": []
   },
   "outputs": [],
   "source": [
    "lgbm = LGBMClassifier(random_state = 42)"
   ]
  },
  {
   "cell_type": "code",
   "execution_count": 59,
   "id": "db99fff2",
   "metadata": {
    "execution": {
     "iopub.execute_input": "2024-01-24T14:55:06.390929Z",
     "iopub.status.busy": "2024-01-24T14:55:06.390529Z",
     "iopub.status.idle": "2024-01-24T14:55:06.396226Z",
     "shell.execute_reply": "2024-01-24T14:55:06.395089Z"
    },
    "id": "bTVmJsFV8xGd",
    "papermill": {
     "duration": 0.04744,
     "end_time": "2024-01-24T14:55:06.398809",
     "exception": false,
     "start_time": "2024-01-24T14:55:06.351369",
     "status": "completed"
    },
    "tags": []
   },
   "outputs": [],
   "source": [
    "lgbm_params = {\"learning_rate\": [0.01, 0.03, 0.05, 0.1],\n",
    "              \"n_estimators\": [300],\n",
    "              \"max_depth\":[3,5,8]}\n"
   ]
  },
  {
   "cell_type": "code",
   "execution_count": 60,
   "id": "431504a3",
   "metadata": {
    "execution": {
     "iopub.execute_input": "2024-01-24T14:55:06.476568Z",
     "iopub.status.busy": "2024-01-24T14:55:06.476142Z",
     "iopub.status.idle": "2024-01-24T14:55:47.422761Z",
     "shell.execute_reply": "2024-01-24T14:55:47.421390Z"
    },
    "id": "HqFoPwKg8xGf",
    "outputId": "04360c81-f64e-4e41-9c6b-1efd7ed02f46",
    "papermill": {
     "duration": 40.989772,
     "end_time": "2024-01-24T14:55:47.425929",
     "exception": false,
     "start_time": "2024-01-24T14:55:06.436157",
     "status": "completed"
    },
    "tags": []
   },
   "outputs": [],
   "source": [
    "gs_cv = GridSearchCV(lgbm,\n",
    "                     lgbm_params,\n",
    "                     cv = 4).fit(X, y)"
   ]
  },
  {
   "cell_type": "code",
   "execution_count": 61,
   "id": "81b4df7f",
   "metadata": {
    "execution": {
     "iopub.execute_input": "2024-01-24T14:55:47.503581Z",
     "iopub.status.busy": "2024-01-24T14:55:47.502938Z",
     "iopub.status.idle": "2024-01-24T14:55:47.511189Z",
     "shell.execute_reply": "2024-01-24T14:55:47.509868Z"
    },
    "id": "pzO7lIe48xGg",
    "outputId": "b89d12ce-e3ef-4320-ce36-c0cc2e059f67",
    "papermill": {
     "duration": 0.051004,
     "end_time": "2024-01-24T14:55:47.514185",
     "exception": false,
     "start_time": "2024-01-24T14:55:47.463181",
     "status": "completed"
    },
    "tags": []
   },
   "outputs": [
    {
     "data": {
      "text/plain": [
       "{'learning_rate': 0.01, 'max_depth': 8, 'n_estimators': 300}"
      ]
     },
     "execution_count": 61,
     "metadata": {},
     "output_type": "execute_result"
    }
   ],
   "source": [
    "gs_cv.best_params_"
   ]
  },
  {
   "cell_type": "markdown",
   "id": "aff964a8",
   "metadata": {
    "id": "q17TaWI08xGh",
    "papermill": {
     "duration": 0.037342,
     "end_time": "2024-01-24T14:55:47.588932",
     "exception": false,
     "start_time": "2024-01-24T14:55:47.551590",
     "status": "completed"
    },
    "tags": []
   },
   "source": [
    "### 9.2.1 LightGBM Final Model"
   ]
  },
  {
   "cell_type": "code",
   "execution_count": 62,
   "id": "fe452a1e",
   "metadata": {
    "execution": {
     "iopub.execute_input": "2024-01-24T14:55:47.663977Z",
     "iopub.status.busy": "2024-01-24T14:55:47.663542Z",
     "iopub.status.idle": "2024-01-24T14:55:49.222061Z",
     "shell.execute_reply": "2024-01-24T14:55:49.220891Z"
    },
    "id": "-y3JWx1G8xGi",
    "outputId": "9d9eb64e-4e62-4c8f-c2de-b08004167433",
    "papermill": {
     "duration": 1.600298,
     "end_time": "2024-01-24T14:55:49.224862",
     "exception": false,
     "start_time": "2024-01-24T14:55:47.624564",
     "status": "completed"
    },
    "tags": []
   },
   "outputs": [],
   "source": [
    "lgbm_tuned = LGBMClassifier(**gs_cv.best_params_).fit(X,y)"
   ]
  },
  {
   "cell_type": "code",
   "execution_count": 63,
   "id": "807bd32f",
   "metadata": {
    "execution": {
     "iopub.execute_input": "2024-01-24T14:55:49.301269Z",
     "iopub.status.busy": "2024-01-24T14:55:49.300848Z",
     "iopub.status.idle": "2024-01-24T14:55:54.279260Z",
     "shell.execute_reply": "2024-01-24T14:55:54.278193Z"
    },
    "id": "8kbQXVqX8xHE",
    "outputId": "01760fc1-7cde-49f0-ca8c-49a586f2d6c1",
    "papermill": {
     "duration": 5.020156,
     "end_time": "2024-01-24T14:55:54.281718",
     "exception": false,
     "start_time": "2024-01-24T14:55:49.261562",
     "status": "completed"
    },
    "tags": []
   },
   "outputs": [
    {
     "data": {
      "text/plain": [
       "0.8958333333333334"
      ]
     },
     "execution_count": 63,
     "metadata": {},
     "output_type": "execute_result"
    }
   ],
   "source": [
    "cross_val_score(lgbm_tuned, X, y, cv = 4).mean()"
   ]
  },
  {
   "cell_type": "markdown",
   "id": "f151f900",
   "metadata": {
    "id": "GGC37dSx8xHR",
    "papermill": {
     "duration": 0.038213,
     "end_time": "2024-01-24T14:55:54.358509",
     "exception": false,
     "start_time": "2024-01-24T14:55:54.320296",
     "status": "completed"
    },
    "tags": []
   },
   "source": [
    "### 9.3. XGBoost Model Tuning"
   ]
  },
  {
   "cell_type": "code",
   "execution_count": 64,
   "id": "21ff735b",
   "metadata": {
    "execution": {
     "iopub.execute_input": "2024-01-24T14:55:54.436242Z",
     "iopub.status.busy": "2024-01-24T14:55:54.435548Z",
     "iopub.status.idle": "2024-01-24T14:55:54.440789Z",
     "shell.execute_reply": "2024-01-24T14:55:54.439521Z"
    },
    "id": "57LnjpXM8xHS",
    "papermill": {
     "duration": 0.047086,
     "end_time": "2024-01-24T14:55:54.443204",
     "exception": false,
     "start_time": "2024-01-24T14:55:54.396118",
     "status": "completed"
    },
    "tags": []
   },
   "outputs": [],
   "source": [
    "xgb = GradientBoostingClassifier(random_state = 42)"
   ]
  },
  {
   "cell_type": "code",
   "execution_count": 65,
   "id": "67f6c43b",
   "metadata": {
    "execution": {
     "iopub.execute_input": "2024-01-24T14:55:54.521117Z",
     "iopub.status.busy": "2024-01-24T14:55:54.520003Z",
     "iopub.status.idle": "2024-01-24T14:55:54.525894Z",
     "shell.execute_reply": "2024-01-24T14:55:54.524738Z"
    },
    "id": "ZiGlRJ-58xHT",
    "papermill": {
     "duration": 0.047997,
     "end_time": "2024-01-24T14:55:54.528470",
     "exception": false,
     "start_time": "2024-01-24T14:55:54.480473",
     "status": "completed"
    },
    "tags": []
   },
   "outputs": [],
   "source": [
    "xgb_params = {\n",
    "\n",
    "    \"min_samples_split\": [2],\n",
    "    \"max_depth\":[5,8],\n",
    "\n",
    "    \"n_estimators\": [300]}"
   ]
  },
  {
   "cell_type": "code",
   "execution_count": 66,
   "id": "4b26fc5b",
   "metadata": {
    "execution": {
     "iopub.execute_input": "2024-01-24T14:55:54.606674Z",
     "iopub.status.busy": "2024-01-24T14:55:54.606261Z",
     "iopub.status.idle": "2024-01-24T14:56:05.334863Z",
     "shell.execute_reply": "2024-01-24T14:56:05.333710Z"
    },
    "id": "FOHhsqqO8xHl",
    "papermill": {
     "duration": 10.771392,
     "end_time": "2024-01-24T14:56:05.337799",
     "exception": false,
     "start_time": "2024-01-24T14:55:54.566407",
     "status": "completed"
    },
    "tags": []
   },
   "outputs": [],
   "source": [
    "xgb_cv_model  = GridSearchCV(xgb,xgb_params, cv = 4).fit(X, y)"
   ]
  },
  {
   "cell_type": "code",
   "execution_count": 67,
   "id": "141cf19f",
   "metadata": {
    "execution": {
     "iopub.execute_input": "2024-01-24T14:56:05.412316Z",
     "iopub.status.busy": "2024-01-24T14:56:05.411769Z",
     "iopub.status.idle": "2024-01-24T14:56:05.419696Z",
     "shell.execute_reply": "2024-01-24T14:56:05.418553Z"
    },
    "id": "PxxmVwNs8xIG",
    "outputId": "48b1267d-5e1a-4077-f1ae-67a8f14f08b2",
    "papermill": {
     "duration": 0.048183,
     "end_time": "2024-01-24T14:56:05.422260",
     "exception": false,
     "start_time": "2024-01-24T14:56:05.374077",
     "status": "completed"
    },
    "tags": []
   },
   "outputs": [
    {
     "data": {
      "text/plain": [
       "{'max_depth': 5, 'min_samples_split': 2, 'n_estimators': 300}"
      ]
     },
     "execution_count": 67,
     "metadata": {},
     "output_type": "execute_result"
    }
   ],
   "source": [
    "xgb_cv_model.best_params_"
   ]
  },
  {
   "cell_type": "markdown",
   "id": "81b53b40",
   "metadata": {
    "id": "j47q234B8xIO",
    "papermill": {
     "duration": 0.03815,
     "end_time": "2024-01-24T14:56:05.497606",
     "exception": false,
     "start_time": "2024-01-24T14:56:05.459456",
     "status": "completed"
    },
    "tags": []
   },
   "source": [
    "### 9.3.1. XGBoost Final Model"
   ]
  },
  {
   "cell_type": "code",
   "execution_count": 68,
   "id": "20bff5e7",
   "metadata": {
    "execution": {
     "iopub.execute_input": "2024-01-24T14:56:05.577095Z",
     "iopub.status.busy": "2024-01-24T14:56:05.576654Z",
     "iopub.status.idle": "2024-01-24T14:56:06.972314Z",
     "shell.execute_reply": "2024-01-24T14:56:06.970860Z"
    },
    "id": "z_qEOKYw8xIS",
    "papermill": {
     "duration": 1.439884,
     "end_time": "2024-01-24T14:56:06.975355",
     "exception": false,
     "start_time": "2024-01-24T14:56:05.535471",
     "status": "completed"
    },
    "tags": []
   },
   "outputs": [],
   "source": [
    "xgb_tuned = GradientBoostingClassifier(**xgb_cv_model.best_params_).fit(X,y)"
   ]
  },
  {
   "cell_type": "code",
   "execution_count": 69,
   "id": "35cf127b",
   "metadata": {
    "execution": {
     "iopub.execute_input": "2024-01-24T14:56:07.053689Z",
     "iopub.status.busy": "2024-01-24T14:56:07.053143Z",
     "iopub.status.idle": "2024-01-24T14:56:11.506399Z",
     "shell.execute_reply": "2024-01-24T14:56:11.505094Z"
    },
    "id": "PYNP0uf88xIT",
    "outputId": "cc006d36-a9ca-49eb-e025-7c84cdd3ebdf",
    "papermill": {
     "duration": 4.496464,
     "end_time": "2024-01-24T14:56:11.509476",
     "exception": false,
     "start_time": "2024-01-24T14:56:07.013012",
     "status": "completed"
    },
    "tags": []
   },
   "outputs": [
    {
     "data": {
      "text/plain": [
       "0.87890625"
      ]
     },
     "execution_count": 69,
     "metadata": {},
     "output_type": "execute_result"
    }
   ],
   "source": [
    "cross_val_score(xgb_tuned, X, y, cv = 4).mean()"
   ]
  },
  {
   "cell_type": "markdown",
   "id": "60e48d12",
   "metadata": {
    "id": "CIBJ0Q3N8xIh",
    "papermill": {
     "duration": 0.03805,
     "end_time": "2024-01-24T14:56:11.588373",
     "exception": false,
     "start_time": "2024-01-24T14:56:11.550323",
     "status": "completed"
    },
    "tags": [],
    "toc-hr-collapsed": true,
    "toc-nb-collapsed": true
   },
   "source": [
    "## 10. Comparison of Final Models"
   ]
  },
  {
   "cell_type": "code",
   "execution_count": 70,
   "id": "c4a5df3f",
   "metadata": {
    "execution": {
     "iopub.execute_input": "2024-01-24T14:56:11.665524Z",
     "iopub.status.busy": "2024-01-24T14:56:11.664863Z",
     "iopub.status.idle": "2024-01-24T14:56:11.673217Z",
     "shell.execute_reply": "2024-01-24T14:56:11.671951Z"
    },
    "id": "d0JGqN6X8xI2",
    "papermill": {
     "duration": 0.04994,
     "end_time": "2024-01-24T14:56:11.676099",
     "exception": false,
     "start_time": "2024-01-24T14:56:11.626159",
     "status": "completed"
    },
    "tags": []
   },
   "outputs": [],
   "source": [
    "models = []\n",
    "\n",
    "models.append(('RF', RandomForestClassifier(random_state = 42, max_depth = 8, max_features = 7, min_samples_split = 2, n_estimators = 500)))\n",
    "models.append(('XGB', GradientBoostingClassifier(random_state = 42, learning_rate = 0.1, max_depth = 5, min_samples_split = 0.1, n_estimators = 100, subsample = 1.0)))\n",
    "models.append((\"LightGBM\", LGBMClassifier(random_state = 42, learning_rate = 0.01,  max_depth = 3, n_estimators = 1000)))\n",
    "\n",
    "# evaluate each model in turn\n",
    "results = []\n",
    "names = []"
   ]
  },
  {
   "cell_type": "code",
   "execution_count": 71,
   "id": "ce56f773",
   "metadata": {
    "execution": {
     "iopub.execute_input": "2024-01-24T14:56:11.751667Z",
     "iopub.status.busy": "2024-01-24T14:56:11.751286Z",
     "iopub.status.idle": "2024-01-24T14:56:24.504674Z",
     "shell.execute_reply": "2024-01-24T14:56:24.503523Z"
    },
    "id": "NtoCaWLv8xI2",
    "outputId": "b5849643-90b8-464b-faba-ef7c0c69c4cf",
    "papermill": {
     "duration": 12.793901,
     "end_time": "2024-01-24T14:56:24.507249",
     "exception": false,
     "start_time": "2024-01-24T14:56:11.713348",
     "status": "completed"
    },
    "tags": []
   },
   "outputs": [
    {
     "name": "stdout",
     "output_type": "stream",
     "text": [
      "RF: 0.876302 (0.028138)\n",
      "XGB: 0.881510 (0.030004)\n",
      "LightGBM: 0.877604 (0.029806)\n"
     ]
    }
   ],
   "source": [
    "for name, model in models:\n",
    "\n",
    "        kfold = KFold(n_splits = 4, random_state =42,shuffle=True)\n",
    "        cv_results = cross_val_score(model, X, y, cv = 4, scoring= \"accuracy\")\n",
    "        results.append(cv_results)\n",
    "        names.append(name)\n",
    "        msg = \"%s: %f (%f)\" % (name, cv_results.mean(), cv_results.std())\n",
    "        print(msg)\n",
    "\n"
   ]
  },
  {
   "cell_type": "code",
   "execution_count": 72,
   "id": "e56a64ec",
   "metadata": {
    "execution": {
     "iopub.execute_input": "2024-01-24T14:56:24.583790Z",
     "iopub.status.busy": "2024-01-24T14:56:24.583364Z",
     "iopub.status.idle": "2024-01-24T14:56:24.866629Z",
     "shell.execute_reply": "2024-01-24T14:56:24.865551Z"
    },
    "id": "2YzDyUZsGQDm",
    "outputId": "fb4113b5-1f6f-46ef-9da9-8d3d8e27f1c7",
    "papermill": {
     "duration": 0.323818,
     "end_time": "2024-01-24T14:56:24.868935",
     "exception": false,
     "start_time": "2024-01-24T14:56:24.545117",
     "status": "completed"
    },
    "tags": []
   },
   "outputs": [
    {
     "data": {
      "image/png": "[encoded data removed]",
      "text/plain": [
       "<Figure size 500x400 with 1 Axes>"
      ]
     },
     "metadata": {
      "image/png": {
       "height": 411,
       "width": 458
      }
     },
     "output_type": "display_data"
    }
   ],
   "source": [
    "fig = plt.figure(figsize=(5, 4))\n",
    "fig.suptitle('Algorithm Comparison')\n",
    "ax = fig.add_subplot(111)\n",
    "\n",
    "bars = plt.bar(names, [result.mean() for result in results])\n",
    "\n",
    "# Add labels to the middle of each bar without shadow\n",
    "for bar, result in zip(bars, results):\n",
    "    height = bar.get_height()\n",
    "    ax.text(bar.get_x() + bar.get_width() / 2, height / 2, f'{result.mean():.4f}', ha='center', va='center', bbox=dict(boxstyle='round', facecolor='white', edgecolor='white', alpha=0.5))\n",
    "\n",
    "ax.set_xticklabels(names)\n",
    "plt.xlabel('Models')\n",
    "plt.ylabel('Mean Accuracy Score')\n",
    "plt.show()\n"
   ]
  },
  {
   "cell_type": "markdown",
   "id": "e979e460",
   "metadata": {
    "papermill": {
     "duration": 0.039734,
     "end_time": "2024-01-24T14:56:24.948623",
     "exception": false,
     "start_time": "2024-01-24T14:56:24.908889",
     "status": "completed"
    },
    "tags": []
   },
   "source": [
    "## 11. Conclusion\n",
    "\n",
    "The aim of this study was to create classification models for the diabetes data set and to predict whether a person is sick by establishing models and to obtain maximum validation scores in the established models. The work done is as follows:\n",
    "\n",
    "1) Diabetes Data Set read.\n",
    "\n",
    "2) With Exploratory Data Analysis; The data set's structural data were checked.\n",
    "The types of variables in the dataset were examined. Size information of the dataset was accessed. The 0 values in the data set are missing values. Primarily these 0 values were replaced with NaN values. Descriptive statistics of the data set were examined.\n",
    "\n",
    "3) Data Preprocessing section;\n",
    "df for: The NaN values missing observations were filled with the median values of whether each variable was sick or not. The outliers were determined by LOF and dropped. The X variables were standardized with the rubost method..\n",
    "\n",
    "4) During Model Building;\n",
    "Logistic Regression, KNN, SVM, CART, Random Forests, XGBoost, LightGBM like using machine learning models Cross Validation Score were calculated. Later Random Forests, XGBoost, LightGBM hyperparameter optimizations optimized to increase Cross Validation value.\n",
    "\n",
    "5) Result;\n",
    "The model created as a result of LightBM hyperparameter optimization became the model with the highest Cross Validation Score value. (0.89)\n",
    "\n"
   ]
  },
  {
   "cell_type": "code",
   "execution_count": null,
   "id": "d6237e99",
   "metadata": {
    "papermill": {
     "duration": 0.038442,
     "end_time": "2024-01-24T14:56:25.026397",
     "exception": false,
     "start_time": "2024-01-24T14:56:24.987955",
     "status": "completed"
    },
    "tags": []
   },
   "outputs": [],
   "source": []
  }
 ],
 "metadata": {
  "colab": {
   "provenance": []
  },
  "kaggle": {
   "accelerator": "none",
   "dataSources": [
    {
     "datasetId": 818300,
     "sourceId": 1400440,
     "sourceType": "datasetVersion"
    }
   ],
   "dockerImageVersionId": 30635,
   "isGpuEnabled": false,
   "isInternetEnabled": true,
   "language": "python",
   "sourceType": "notebook"
  },
  "kernelspec": {
   "display_name": "Python 3",
   "language": "python",
   "name": "python3"
  },
  "language_info": {
   "codemirror_mode": {
    "name": "ipython",
    "version": 3
   },
   "file_extension": ".py",
   "mimetype": "text/x-python",
   "name": "python",
   "nbconvert_exporter": "python",
   "pygments_lexer": "ipython3",
   "version": "3.10.12"
  },
  "papermill": {
   "default_parameters": {},
   "duration": 122.176262,
   "end_time": "2024-01-24T14:56:25.990020",
   "environment_variables": {},
   "exception": null,
   "input_path": "__notebook__.ipynb",
   "output_path": "__notebook__.ipynb",
   "parameters": {},
   "start_time": "2024-01-24T14:54:23.813758",
   "version": "2.4.0"
  }
 },
 "nbformat": 4,
 "nbformat_minor": 5
}
