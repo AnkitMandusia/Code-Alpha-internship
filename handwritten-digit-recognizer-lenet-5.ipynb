{
 "cells": [
  {
   "cell_type": "markdown",
   "id": "eae2a565",
   "metadata": {
    "papermill": {
     "duration": 0.011976,
     "end_time": "2024-01-25T14:01:38.530605",
     "exception": false,
     "start_time": "2024-01-25T14:01:38.518629",
     "status": "completed"
    },
    "tags": []
   },
   "source": [
    "# Handwritten Digit Recognition Using Machine Learning"
   ]
  },
  {
   "cell_type": "markdown",
   "id": "9919871e",
   "metadata": {
    "papermill": {
     "duration": 0.010257,
     "end_time": "2024-01-25T14:01:38.551635",
     "exception": false,
     "start_time": "2024-01-25T14:01:38.541378",
     "status": "completed"
    },
    "tags": []
   },
   "source": [
    "## Project Overview\n",
    "\n",
    "## Objective\n",
    "The primary objective of this project is to develop a robust and accurate handwritten digit recognizer using machine learning techniques. The aim is to create a model capable of accurately classifying digits in handwritten images.\n",
    "\n",
    "## Aim\n",
    "The overarching aim is to leverage machine learning algorithms to build a digit recognition system that can be employed in various applications, such as optical character recognition (OCR), digitizing documents, and enhancing automation processes.\n",
    "\n",
    "## Dataset\n",
    "The project utilizes the MNIST dataset, a widely-used benchmark dataset in the field of machine learning. The MNIST dataset consists of a collection of 28x28 pixel grayscale images of handwritten digits (0-9), providing a diverse and representative set of samples for training and evaluating the performance of the digit recognition model.\n",
    "\n",
    "The MNIST dataset is chosen for its simplicity, accessibility, and widespread use in benchmarking image classification algorithms. The goal is to leverage this dataset to train a model capable of accurately predicting the digits present in handwritten images.\n"
   ]
  },
  {
   "cell_type": "markdown",
   "id": "fce33e1d",
   "metadata": {
    "papermill": {
     "duration": 0.010766,
     "end_time": "2024-01-25T14:01:38.572956",
     "exception": false,
     "start_time": "2024-01-25T14:01:38.562190",
     "status": "completed"
    },
    "tags": []
   },
   "source": [
    "## 1. Importing Libraries"
   ]
  },
  {
   "cell_type": "code",
   "execution_count": 1,
   "id": "5042bbf0",
   "metadata": {
    "_cell_guid": "b1076dfc-b9ad-4769-8c92-a6c4dae69d19",
    "_uuid": "8f2839f25d086af736a60e9eeb907d3b93b6e0e5",
    "execution": {
     "iopub.execute_input": "2024-01-25T14:01:38.596832Z",
     "iopub.status.busy": "2024-01-25T14:01:38.596016Z",
     "iopub.status.idle": "2024-01-25T14:01:54.834938Z",
     "shell.execute_reply": "2024-01-25T14:01:54.833322Z"
    },
    "papermill": {
     "duration": 16.254175,
     "end_time": "2024-01-25T14:01:54.837701",
     "exception": false,
     "start_time": "2024-01-25T14:01:38.583526",
     "status": "completed"
    },
    "tags": []
   },
   "outputs": [
    {
     "name": "stdout",
     "output_type": "stream",
     "text": [
      "['mnist-in-csv']\n"
     ]
    }
   ],
   "source": [
    "# This Python 3 environment comes with many helpful analytics libraries installed\n",
    "# It is defined by the kaggle/python Docker image: https://github.com/kaggle/docker-python\n",
    "# For example, here's several helpful packages to load\n",
    "\n",
    "import numpy as np # linear algebra\n",
    "import pandas as pd # data processing, CSV file I/O (e.g. pd.read_csv)\n",
    "import matplotlib.pyplot as plt\n",
    "import cv2\n",
    "from keras.utils import to_categorical\n",
    "from tensorflow.keras import layers\n",
    "from tensorflow.keras.models import Sequential\n",
    "from tensorflow.keras.applications import EfficientNetB0,EfficientNetB3\n",
    "from tensorflow.keras.datasets import mnist\n",
    "from tensorflow.keras.utils import to_categorical\n",
    "from keras.models import Sequential\n",
    "from keras.layers import Conv2D, AveragePooling2D, Flatten, Dense\n",
    "from keras.models import Model\n",
    "from keras import optimizers\n",
    "import cv2\n",
    "from keras.optimizers import Adam\n",
    "import matplotlib.pyplot as plt\n",
    "%matplotlib inline\n",
    "\n",
    "# Input data files are available in the read-only \"../input/\" directory\n",
    "# For example, running this (by clicking run or pressing Shift+Enter) will list all files under the input directory\n",
    "\n",
    "import os\n",
    "print(os.listdir(\"../input\"))\n",
    "\n",
    "# You can write up to 20GB to the current directory (/kaggle/working/) that gets preserved as output when you create a version using \"Save & Run All\" \n",
    "# You can also write temporary files to /kaggle/temp/, but they won't be saved outside of the current session"
   ]
  },
  {
   "cell_type": "markdown",
   "id": "b891753a",
   "metadata": {
    "papermill": {
     "duration": 0.010526,
     "end_time": "2024-01-25T14:01:54.859502",
     "exception": false,
     "start_time": "2024-01-25T14:01:54.848976",
     "status": "completed"
    },
    "tags": []
   },
   "source": [
    "## 2. Import Dataset"
   ]
  },
  {
   "cell_type": "code",
   "execution_count": 2,
   "id": "43aa427c",
   "metadata": {
    "execution": {
     "iopub.execute_input": "2024-01-25T14:01:54.884055Z",
     "iopub.status.busy": "2024-01-25T14:01:54.882793Z",
     "iopub.status.idle": "2024-01-25T14:02:02.903118Z",
     "shell.execute_reply": "2024-01-25T14:02:02.901885Z"
    },
    "papermill": {
     "duration": 8.035541,
     "end_time": "2024-01-25T14:02:02.905992",
     "exception": false,
     "start_time": "2024-01-25T14:01:54.870451",
     "status": "completed"
    },
    "tags": []
   },
   "outputs": [],
   "source": [
    "\n",
    "# Any results you write to the current directory are saved as output.\n",
    "file = open('/kaggle/input/mnist-in-csv/mnist_train.csv')\n",
    "data_train = pd.read_csv(file)\n",
    "\n",
    "y_train = np.array(data_train.iloc[:, 0])\n",
    "x_train = np.array(data_train.iloc[:, 1:])\n",
    "\n",
    "file = open(\"/kaggle/input/mnist-in-csv/mnist_test.csv\")\n",
    "data_test = pd.read_csv(file)\n",
    "\n",
    "\n",
    "y_test = np.array(data_test.iloc[:, 0])\n",
    "x_test = np.array(data_test.iloc[:, 1:])\n"
   ]
  },
  {
   "cell_type": "markdown",
   "id": "b2345978",
   "metadata": {
    "papermill": {
     "duration": 0.010286,
     "end_time": "2024-01-25T14:02:02.927098",
     "exception": false,
     "start_time": "2024-01-25T14:02:02.916812",
     "status": "completed"
    },
    "tags": []
   },
   "source": [
    "## 3. EDA"
   ]
  },
  {
   "cell_type": "code",
   "execution_count": 3,
   "id": "bcbb8862",
   "metadata": {
    "execution": {
     "iopub.execute_input": "2024-01-25T14:02:02.950617Z",
     "iopub.status.busy": "2024-01-25T14:02:02.949853Z",
     "iopub.status.idle": "2024-01-25T14:02:02.957973Z",
     "shell.execute_reply": "2024-01-25T14:02:02.956552Z"
    },
    "papermill": {
     "duration": 0.022674,
     "end_time": "2024-01-25T14:02:02.960498",
     "exception": false,
     "start_time": "2024-01-25T14:02:02.937824",
     "status": "completed"
    },
    "tags": []
   },
   "outputs": [
    {
     "name": "stdout",
     "output_type": "stream",
     "text": [
      "784 60000 784 10000\n",
      "(60000, 784) (60000,) (10000, 784)\n"
     ]
    }
   ],
   "source": [
    "n_features_train = x_train.shape[1]\n",
    "n_samples_train = x_train.shape[0]\n",
    "n_features_test = x_test.shape[1]\n",
    "n_samples_test = x_test.shape[0]\n",
    "print(n_features_train, n_samples_train, n_features_test, n_samples_test)\n",
    "print(x_train.shape, y_train.shape, x_test.shape)"
   ]
  },
  {
   "cell_type": "code",
   "execution_count": 4,
   "id": "d8d0ab38",
   "metadata": {
    "execution": {
     "iopub.execute_input": "2024-01-25T14:02:02.983882Z",
     "iopub.status.busy": "2024-01-25T14:02:02.983482Z",
     "iopub.status.idle": "2024-01-25T14:02:02.991790Z",
     "shell.execute_reply": "2024-01-25T14:02:02.990552Z"
    },
    "papermill": {
     "duration": 0.023474,
     "end_time": "2024-01-25T14:02:02.994771",
     "exception": false,
     "start_time": "2024-01-25T14:02:02.971297",
     "status": "completed"
    },
    "tags": []
   },
   "outputs": [],
   "source": [
    "size_img = 28\n",
    "threshold_color = 100 / 255\n",
    "\n",
    "def demo_img(x):\n",
    "    plt.figure(figsize=(8,7))\n",
    "    if x.shape[0] > 100:\n",
    "        print(x.shape[0])\n",
    "        n_imgs = 16\n",
    "        n_samples = x.shape[0]\n",
    "        x = x.reshape(n_samples, size_img, size_img)\n",
    "        for i in range(16):\n",
    "            plt.subplot(4, 4, i+1) #devide figure into 4x4 and choose i+1 to draw\n",
    "            plt.imshow(x[i])\n",
    "        plt.show()\n",
    "    else:\n",
    "        plt.imshow(x)\n",
    "        plt.show()"
   ]
  },
  {
   "cell_type": "code",
   "execution_count": 5,
   "id": "427469a9",
   "metadata": {
    "execution": {
     "iopub.execute_input": "2024-01-25T14:02:03.033014Z",
     "iopub.status.busy": "2024-01-25T14:02:03.031992Z",
     "iopub.status.idle": "2024-01-25T14:02:05.196354Z",
     "shell.execute_reply": "2024-01-25T14:02:05.195066Z"
    },
    "papermill": {
     "duration": 2.187,
     "end_time": "2024-01-25T14:02:05.199250",
     "exception": false,
     "start_time": "2024-01-25T14:02:03.012250",
     "status": "completed"
    },
    "tags": []
   },
   "outputs": [
    {
     "name": "stdout",
     "output_type": "stream",
     "text": [
      "60000\n"
     ]
    },
    {
     "data": {
      "image/png": "[encoded data removed]",
      "text/plain": [
       "<Figure size 800x700 with 16 Axes>"
      ]
     },
     "metadata": {},
     "output_type": "display_data"
    }
   ],
   "source": [
    "demo_img(x_train)"
   ]
  },
  {
   "cell_type": "markdown",
   "id": "ffe22731",
   "metadata": {
    "papermill": {
     "duration": 0.011344,
     "end_time": "2024-01-25T14:02:05.222896",
     "exception": false,
     "start_time": "2024-01-25T14:02:05.211552",
     "status": "completed"
    },
    "tags": []
   },
   "source": [
    "## 4. Data Preprocessing"
   ]
  },
  {
   "cell_type": "code",
   "execution_count": 6,
   "id": "46ffead5",
   "metadata": {
    "execution": {
     "iopub.execute_input": "2024-01-25T14:02:05.248296Z",
     "iopub.status.busy": "2024-01-25T14:02:05.247869Z",
     "iopub.status.idle": "2024-01-25T14:02:05.253784Z",
     "shell.execute_reply": "2024-01-25T14:02:05.252454Z"
    },
    "papermill": {
     "duration": 0.021719,
     "end_time": "2024-01-25T14:02:05.256158",
     "exception": false,
     "start_time": "2024-01-25T14:02:05.234439",
     "status": "completed"
    },
    "tags": []
   },
   "outputs": [],
   "source": [
    "def greyscale(images):\n",
    "    return np.array([cv2.cvtColor(img, cv2.COLOR_BGR2GRAY) for img in images])"
   ]
  },
  {
   "cell_type": "code",
   "execution_count": 7,
   "id": "cdd08f8f",
   "metadata": {
    "execution": {
     "iopub.execute_input": "2024-01-25T14:02:05.280915Z",
     "iopub.status.busy": "2024-01-25T14:02:05.280521Z",
     "iopub.status.idle": "2024-01-25T14:02:05.434330Z",
     "shell.execute_reply": "2024-01-25T14:02:05.432871Z"
    },
    "papermill": {
     "duration": 0.1698,
     "end_time": "2024-01-25T14:02:05.437581",
     "exception": false,
     "start_time": "2024-01-25T14:02:05.267781",
     "status": "completed"
    },
    "tags": []
   },
   "outputs": [],
   "source": [
    "# Normilize data\n",
    "x_train = x_train.astype('float32')\n",
    "x_test = x_test.astype('float32')\n",
    "x_train /= 255\n",
    "x_test /= 255"
   ]
  },
  {
   "cell_type": "code",
   "execution_count": 8,
   "id": "d83a9af6",
   "metadata": {
    "execution": {
     "iopub.execute_input": "2024-01-25T14:02:05.464877Z",
     "iopub.status.busy": "2024-01-25T14:02:05.464471Z",
     "iopub.status.idle": "2024-01-25T14:02:05.471682Z",
     "shell.execute_reply": "2024-01-25T14:02:05.470451Z"
    },
    "papermill": {
     "duration": 0.024013,
     "end_time": "2024-01-25T14:02:05.474764",
     "exception": false,
     "start_time": "2024-01-25T14:02:05.450751",
     "status": "completed"
    },
    "tags": []
   },
   "outputs": [
    {
     "name": "stdout",
     "output_type": "stream",
     "text": [
      "x_train shape: (60000, 28, 28, 1)\n",
      "x_test shape: (10000, 28, 28, 1)\n"
     ]
    }
   ],
   "source": [
    "# Reshape x_train\n",
    "x_train = x_train.reshape(-1, 28, 28, 1)\n",
    "\n",
    "# Ensure x_test has the same number of features as x_train\n",
    "x_test = x_test.reshape(-1, 28, 28, 1)\n",
    "\n",
    "# Print shapes for verification\n",
    "print(\"x_train shape:\", x_train.shape)\n",
    "print(\"x_test shape:\", x_test.shape)\n"
   ]
  },
  {
   "cell_type": "code",
   "execution_count": 9,
   "id": "c0451cdb",
   "metadata": {
    "execution": {
     "iopub.execute_input": "2024-01-25T14:02:05.500464Z",
     "iopub.status.busy": "2024-01-25T14:02:05.500022Z",
     "iopub.status.idle": "2024-01-25T14:02:07.397744Z",
     "shell.execute_reply": "2024-01-25T14:02:07.396443Z"
    },
    "papermill": {
     "duration": 1.913748,
     "end_time": "2024-01-25T14:02:07.400694",
     "exception": false,
     "start_time": "2024-01-25T14:02:05.486946",
     "status": "completed"
    },
    "tags": []
   },
   "outputs": [],
   "source": [
    "X_train1 = np.full((60000, 32, 32, 3), 0.0)\n",
    "\n",
    "for i, s in enumerate(x_train):\n",
    "#     mg = cv2.resize(X_train3[i], (32,32), interpolation=cv2.INTER_AREA)\n",
    "    img = cv2.cvtColor(s, cv2.COLOR_GRAY2RGB)\n",
    "    img = cv2.resize(img, (32,32), interpolation=cv2.INTER_AREA)\n",
    "    X_train1[i] = img"
   ]
  },
  {
   "cell_type": "code",
   "execution_count": 10,
   "id": "1864797f",
   "metadata": {
    "execution": {
     "iopub.execute_input": "2024-01-25T14:02:07.425921Z",
     "iopub.status.busy": "2024-01-25T14:02:07.425493Z",
     "iopub.status.idle": "2024-01-25T14:02:07.729244Z",
     "shell.execute_reply": "2024-01-25T14:02:07.728310Z"
    },
    "papermill": {
     "duration": 0.319184,
     "end_time": "2024-01-25T14:02:07.731591",
     "exception": false,
     "start_time": "2024-01-25T14:02:07.412407",
     "status": "completed"
    },
    "tags": []
   },
   "outputs": [
    {
     "data": {
      "image/png": "[encoded data removed]",
      "text/plain": [
       "<Figure size 640x480 with 1 Axes>"
      ]
     },
     "metadata": {},
     "output_type": "display_data"
    }
   ],
   "source": [
    "g = plt.imshow(X_train1[1])"
   ]
  },
  {
   "cell_type": "code",
   "execution_count": 11,
   "id": "e5f893a9",
   "metadata": {
    "execution": {
     "iopub.execute_input": "2024-01-25T14:02:07.759029Z",
     "iopub.status.busy": "2024-01-25T14:02:07.757951Z",
     "iopub.status.idle": "2024-01-25T14:02:08.106777Z",
     "shell.execute_reply": "2024-01-25T14:02:08.105381Z"
    },
    "papermill": {
     "duration": 0.365049,
     "end_time": "2024-01-25T14:02:08.109527",
     "exception": false,
     "start_time": "2024-01-25T14:02:07.744478",
     "status": "completed"
    },
    "tags": []
   },
   "outputs": [],
   "source": [
    "test3 = np.full((10000, 32, 32, 3), 0.0)\n",
    "\n",
    "for i, s in enumerate(x_test):\n",
    "    img = cv2.cvtColor(s, cv2.COLOR_GRAY2RGB)\n",
    "    img = cv2.resize(img, (32,32), interpolation=cv2.INTER_AREA)\n",
    "    test3[i] = img"
   ]
  },
  {
   "cell_type": "code",
   "execution_count": 12,
   "id": "d75fe00d",
   "metadata": {
    "execution": {
     "iopub.execute_input": "2024-01-25T14:02:08.136132Z",
     "iopub.status.busy": "2024-01-25T14:02:08.135714Z",
     "iopub.status.idle": "2024-01-25T14:02:08.146954Z",
     "shell.execute_reply": "2024-01-25T14:02:08.145698Z"
    },
    "papermill": {
     "duration": 0.027105,
     "end_time": "2024-01-25T14:02:08.149589",
     "exception": false,
     "start_time": "2024-01-25T14:02:08.122484",
     "status": "completed"
    },
    "tags": []
   },
   "outputs": [
    {
     "data": {
      "text/plain": [
       "array([[0., 0., 0., ..., 0., 0., 0.],\n",
       "       [1., 0., 0., ..., 0., 0., 0.],\n",
       "       [0., 0., 0., ..., 0., 0., 0.],\n",
       "       ...,\n",
       "       [0., 0., 0., ..., 0., 0., 0.],\n",
       "       [0., 0., 0., ..., 0., 0., 0.],\n",
       "       [0., 0., 0., ..., 0., 1., 0.]], dtype=float32)"
      ]
     },
     "execution_count": 12,
     "metadata": {},
     "output_type": "execute_result"
    }
   ],
   "source": [
    "Y_train = to_categorical(y_train, 10)\n",
    "Y_train"
   ]
  },
  {
   "cell_type": "markdown",
   "id": "7f8c3dc4",
   "metadata": {
    "papermill": {
     "duration": 0.011815,
     "end_time": "2024-01-25T14:02:08.173659",
     "exception": false,
     "start_time": "2024-01-25T14:02:08.161844",
     "status": "completed"
    },
    "tags": []
   },
   "source": [
    "## 5. Modeling"
   ]
  },
  {
   "cell_type": "code",
   "execution_count": 13,
   "id": "a6712c26",
   "metadata": {
    "execution": {
     "iopub.execute_input": "2024-01-25T14:02:08.200484Z",
     "iopub.status.busy": "2024-01-25T14:02:08.200033Z",
     "iopub.status.idle": "2024-01-25T14:02:13.273839Z",
     "shell.execute_reply": "2024-01-25T14:02:13.272730Z"
    },
    "papermill": {
     "duration": 5.090532,
     "end_time": "2024-01-25T14:02:13.276524",
     "exception": false,
     "start_time": "2024-01-25T14:02:08.185992",
     "status": "completed"
    },
    "tags": []
   },
   "outputs": [
    {
     "name": "stdout",
     "output_type": "stream",
     "text": [
      "Downloading data from https://storage.googleapis.com/keras-applications/efficientnetb3_notop.h5\n",
      "43941136/43941136 [==============================] - 0s 0us/step\n"
     ]
    }
   ],
   "source": [
    "model = EfficientNetB3(weights='imagenet', input_shape = (32,32,3), include_top=False)"
   ]
  },
  {
   "cell_type": "markdown",
   "id": "f822691e",
   "metadata": {
    "execution": {
     "iopub.execute_input": "2024-01-25T13:36:35.126538Z",
     "iopub.status.busy": "2024-01-25T13:36:35.126099Z",
     "iopub.status.idle": "2024-01-25T13:36:35.151180Z",
     "shell.execute_reply": "2024-01-25T13:36:35.149593Z",
     "shell.execute_reply.started": "2024-01-25T13:36:35.126503Z"
    },
    "papermill": {
     "duration": 0.012347,
     "end_time": "2024-01-25T14:02:13.301995",
     "exception": false,
     "start_time": "2024-01-25T14:02:13.289648",
     "status": "completed"
    },
    "tags": []
   },
   "source": [
    "### LeNet 5"
   ]
  },
  {
   "cell_type": "code",
   "execution_count": 14,
   "id": "51df677a",
   "metadata": {
    "execution": {
     "iopub.execute_input": "2024-01-25T14:02:13.331691Z",
     "iopub.status.busy": "2024-01-25T14:02:13.330497Z",
     "iopub.status.idle": "2024-01-25T14:02:13.495620Z",
     "shell.execute_reply": "2024-01-25T14:02:13.494358Z"
    },
    "papermill": {
     "duration": 0.193431,
     "end_time": "2024-01-25T14:02:13.508548",
     "exception": false,
     "start_time": "2024-01-25T14:02:13.315117",
     "status": "completed"
    },
    "tags": []
   },
   "outputs": [
    {
     "name": "stdout",
     "output_type": "stream",
     "text": [
      "Model: \"sequential\"\n",
      "_________________________________________________________________\n",
      " Layer (type)                Output Shape              Param #   \n",
      "=================================================================\n",
      " conv2d (Conv2D)             (None, 28, 28, 6)         456       \n",
      "                                                                 \n",
      " average_pooling2d (Average  (None, 14, 14, 6)         0         \n",
      " Pooling2D)                                                      \n",
      "                                                                 \n",
      " conv2d_1 (Conv2D)           (None, 10, 10, 16)        2416      \n",
      "                                                                 \n",
      " average_pooling2d_1 (Avera  (None, 5, 5, 16)          0         \n",
      " gePooling2D)                                                    \n",
      "                                                                 \n",
      " flatten (Flatten)           (None, 400)               0         \n",
      "                                                                 \n",
      " dense (Dense)               (None, 120)               48120     \n",
      "                                                                 \n",
      " dense_1 (Dense)             (None, 84)                10164     \n",
      "                                                                 \n",
      " dense_2 (Dense)             (None, 10)                850       \n",
      "                                                                 \n",
      "=================================================================\n",
      "Total params: 62006 (242.21 KB)\n",
      "Trainable params: 62006 (242.21 KB)\n",
      "Non-trainable params: 0 (0.00 Byte)\n",
      "_________________________________________________________________\n"
     ]
    }
   ],
   "source": [
    "\n",
    "# Define the LeNet-5 model\n",
    "model = Sequential()\n",
    "\n",
    "# Layer 1: Convolutional Layer\n",
    "model.add(Conv2D(filters=6, kernel_size=(5, 5), activation='relu', input_shape=(32,32,3)))\n",
    "\n",
    "# Layer 2: Average Pooling Layer\n",
    "model.add(AveragePooling2D(pool_size=(2, 2)))\n",
    "\n",
    "# Layer 3: Convolutional Layer\n",
    "model.add(Conv2D(filters=16, kernel_size=(5, 5), activation='relu'))\n",
    "\n",
    "# Layer 4: Average Pooling Layer\n",
    "model.add(AveragePooling2D(pool_size=(2, 2)))\n",
    "\n",
    "# Flatten the output for the fully connected layers\n",
    "model.add(Flatten())\n",
    "\n",
    "# Layer 5: Fully Connected Layer\n",
    "model.add(Dense(units=120, activation='relu'))\n",
    "\n",
    "# Layer 6: Fully Connected Layer\n",
    "model.add(Dense(units=84, activation='relu'))\n",
    "\n",
    "# Output Layer\n",
    "model.add(Dense(units=10, activation='softmax'))\n",
    "\n",
    "# Compile the model\n",
    "model.compile(optimizer='adam', loss='categorical_crossentropy', metrics=['accuracy'])\n",
    "\n",
    "# Display the model summary\n",
    "model.summary()\n"
   ]
  },
  {
   "cell_type": "code",
   "execution_count": 15,
   "id": "20025b94",
   "metadata": {
    "execution": {
     "iopub.execute_input": "2024-01-25T14:02:13.550619Z",
     "iopub.status.busy": "2024-01-25T14:02:13.550175Z",
     "iopub.status.idle": "2024-01-25T14:05:09.886538Z",
     "shell.execute_reply": "2024-01-25T14:05:09.885255Z"
    },
    "papermill": {
     "duration": 176.375101,
     "end_time": "2024-01-25T14:05:09.903526",
     "exception": false,
     "start_time": "2024-01-25T14:02:13.528425",
     "status": "completed"
    },
    "tags": []
   },
   "outputs": [
    {
     "name": "stdout",
     "output_type": "stream",
     "text": [
      "Epoch 1/10\n",
      "422/422 - 19s - loss: 0.3204 - accuracy: 0.9072 - val_loss: 0.1117 - val_accuracy: 0.9670 - 19s/epoch - 45ms/step\n",
      "Epoch 2/10\n",
      "422/422 - 17s - loss: 0.0991 - accuracy: 0.9699 - val_loss: 0.0639 - val_accuracy: 0.9823 - 17s/epoch - 41ms/step\n",
      "Epoch 3/10\n",
      "422/422 - 17s - loss: 0.0683 - accuracy: 0.9790 - val_loss: 0.0531 - val_accuracy: 0.9853 - 17s/epoch - 40ms/step\n",
      "Epoch 4/10\n",
      "422/422 - 17s - loss: 0.0560 - accuracy: 0.9826 - val_loss: 0.0522 - val_accuracy: 0.9855 - 17s/epoch - 41ms/step\n",
      "Epoch 5/10\n",
      "422/422 - 18s - loss: 0.0443 - accuracy: 0.9856 - val_loss: 0.0444 - val_accuracy: 0.9877 - 18s/epoch - 42ms/step\n",
      "Epoch 6/10\n",
      "422/422 - 17s - loss: 0.0361 - accuracy: 0.9890 - val_loss: 0.0425 - val_accuracy: 0.9875 - 17s/epoch - 40ms/step\n",
      "Epoch 7/10\n",
      "422/422 - 17s - loss: 0.0324 - accuracy: 0.9900 - val_loss: 0.0434 - val_accuracy: 0.9868 - 17s/epoch - 41ms/step\n",
      "Epoch 8/10\n",
      "422/422 - 17s - loss: 0.0267 - accuracy: 0.9911 - val_loss: 0.0486 - val_accuracy: 0.9853 - 17s/epoch - 40ms/step\n",
      "Epoch 9/10\n",
      "422/422 - 18s - loss: 0.0238 - accuracy: 0.9924 - val_loss: 0.0385 - val_accuracy: 0.9895 - 18s/epoch - 42ms/step\n",
      "Epoch 10/10\n",
      "422/422 - 17s - loss: 0.0213 - accuracy: 0.9932 - val_loss: 0.0437 - val_accuracy: 0.9880 - 17s/epoch - 41ms/step\n",
      "CPU times: user 9min 28s, sys: 9.42 s, total: 9min 38s\n",
      "Wall time: 2min 56s\n"
     ]
    }
   ],
   "source": [
    "%%time\n",
    "# Train model\n",
    "history = model.fit(X_train1, Y_train,\n",
    "              epochs=10,\n",
    "              batch_size = 128,\n",
    "              validation_split=0.1,\n",
    "              shuffle=True,\n",
    "              verbose=2)"
   ]
  },
  {
   "cell_type": "markdown",
   "id": "71d7dc68",
   "metadata": {
    "papermill": {
     "duration": 0.017017,
     "end_time": "2024-01-25T14:05:09.937746",
     "exception": false,
     "start_time": "2024-01-25T14:05:09.920729",
     "status": "completed"
    },
    "tags": []
   },
   "source": [
    "## 6. Predictions"
   ]
  },
  {
   "cell_type": "code",
   "execution_count": 16,
   "id": "2fbd875d",
   "metadata": {
    "execution": {
     "iopub.execute_input": "2024-01-25T14:05:09.974626Z",
     "iopub.status.busy": "2024-01-25T14:05:09.974119Z",
     "iopub.status.idle": "2024-01-25T14:05:12.382958Z",
     "shell.execute_reply": "2024-01-25T14:05:12.381608Z"
    },
    "papermill": {
     "duration": 2.430662,
     "end_time": "2024-01-25T14:05:12.385821",
     "exception": false,
     "start_time": "2024-01-25T14:05:09.955159",
     "status": "completed"
    },
    "tags": []
   },
   "outputs": [
    {
     "name": "stdout",
     "output_type": "stream",
     "text": [
      "313/313 [==============================] - 2s 6ms/step\n"
     ]
    }
   ],
   "source": [
    "test_predictions = model.predict(test3)"
   ]
  },
  {
   "cell_type": "code",
   "execution_count": 17,
   "id": "bbc5fe83",
   "metadata": {
    "execution": {
     "iopub.execute_input": "2024-01-25T14:05:12.430263Z",
     "iopub.status.busy": "2024-01-25T14:05:12.429786Z",
     "iopub.status.idle": "2024-01-25T14:05:12.437645Z",
     "shell.execute_reply": "2024-01-25T14:05:12.436420Z"
    },
    "papermill": {
     "duration": 0.033268,
     "end_time": "2024-01-25T14:05:12.440237",
     "exception": false,
     "start_time": "2024-01-25T14:05:12.406969",
     "status": "completed"
    },
    "tags": []
   },
   "outputs": [
    {
     "data": {
      "text/plain": [
       "(10000, 10)"
      ]
     },
     "execution_count": 17,
     "metadata": {},
     "output_type": "execute_result"
    }
   ],
   "source": [
    "test_predictions.shape\n"
   ]
  },
  {
   "cell_type": "code",
   "execution_count": 18,
   "id": "57644862",
   "metadata": {
    "execution": {
     "iopub.execute_input": "2024-01-25T14:05:12.483819Z",
     "iopub.status.busy": "2024-01-25T14:05:12.483384Z",
     "iopub.status.idle": "2024-01-25T14:05:12.491577Z",
     "shell.execute_reply": "2024-01-25T14:05:12.490436Z"
    },
    "papermill": {
     "duration": 0.032899,
     "end_time": "2024-01-25T14:05:12.494110",
     "exception": false,
     "start_time": "2024-01-25T14:05:12.461211",
     "status": "completed"
    },
    "tags": []
   },
   "outputs": [
    {
     "data": {
      "text/plain": [
       "array([2.3897152e-12, 7.7779907e-09, 1.7389779e-08, 6.2441054e-06,\n",
       "       2.1463281e-11, 9.2459169e-09, 1.1422533e-13, 9.9999303e-01,\n",
       "       1.9229466e-08, 6.6334383e-07], dtype=float32)"
      ]
     },
     "execution_count": 18,
     "metadata": {},
     "output_type": "execute_result"
    }
   ],
   "source": [
    "test_predictions[0]"
   ]
  },
  {
   "cell_type": "code",
   "execution_count": 19,
   "id": "51b5c0f0",
   "metadata": {
    "execution": {
     "iopub.execute_input": "2024-01-25T14:05:12.539349Z",
     "iopub.status.busy": "2024-01-25T14:05:12.538933Z",
     "iopub.status.idle": "2024-01-25T14:05:12.546891Z",
     "shell.execute_reply": "2024-01-25T14:05:12.545701Z"
    },
    "papermill": {
     "duration": 0.033474,
     "end_time": "2024-01-25T14:05:12.549200",
     "exception": false,
     "start_time": "2024-01-25T14:05:12.515726",
     "status": "completed"
    },
    "tags": []
   },
   "outputs": [
    {
     "data": {
      "text/plain": [
       "7"
      ]
     },
     "execution_count": 19,
     "metadata": {},
     "output_type": "execute_result"
    }
   ],
   "source": [
    "np.argmax(test_predictions[0])"
   ]
  },
  {
   "cell_type": "code",
   "execution_count": 20,
   "id": "a3efcba9",
   "metadata": {
    "execution": {
     "iopub.execute_input": "2024-01-25T14:05:12.593141Z",
     "iopub.status.busy": "2024-01-25T14:05:12.592735Z",
     "iopub.status.idle": "2024-01-25T14:05:12.600508Z",
     "shell.execute_reply": "2024-01-25T14:05:12.598926Z"
    },
    "papermill": {
     "duration": 0.032973,
     "end_time": "2024-01-25T14:05:12.603327",
     "exception": false,
     "start_time": "2024-01-25T14:05:12.570354",
     "status": "completed"
    },
    "tags": []
   },
   "outputs": [],
   "source": [
    "results = np.argmax(test_predictions,axis = 1)\n",
    "results = pd.Series(results,name=\"Label\")"
   ]
  },
  {
   "cell_type": "code",
   "execution_count": 21,
   "id": "231d16cf",
   "metadata": {
    "execution": {
     "iopub.execute_input": "2024-01-25T14:05:12.647819Z",
     "iopub.status.busy": "2024-01-25T14:05:12.647362Z",
     "iopub.status.idle": "2024-01-25T14:05:12.949080Z",
     "shell.execute_reply": "2024-01-25T14:05:12.947530Z"
    },
    "papermill": {
     "duration": 0.327288,
     "end_time": "2024-01-25T14:05:12.951896",
     "exception": false,
     "start_time": "2024-01-25T14:05:12.624608",
     "status": "completed"
    },
    "tags": []
   },
   "outputs": [
    {
     "data": {
      "image/png": "[encoded data removed]",
      "text/plain": [
       "<Figure size 640x480 with 1 Axes>"
      ]
     },
     "metadata": {},
     "output_type": "display_data"
    }
   ],
   "source": [
    "\n",
    "# Choose an index of the image you want to visualize\n",
    "image_index = 0\n",
    "\n",
    "# Display the image\n",
    "plt.imshow(x_test[image_index].reshape(28, 28), cmap='gray')\n",
    "plt.title(f\"True Label: {y_test[image_index]}, Predicted Label: {results[image_index]}\")\n",
    "plt.show()\n"
   ]
  },
  {
   "cell_type": "code",
   "execution_count": 22,
   "id": "a16a266a",
   "metadata": {
    "execution": {
     "iopub.execute_input": "2024-01-25T14:05:12.997348Z",
     "iopub.status.busy": "2024-01-25T14:05:12.996876Z",
     "iopub.status.idle": "2024-01-25T14:05:15.979336Z",
     "shell.execute_reply": "2024-01-25T14:05:15.977802Z"
    },
    "papermill": {
     "duration": 3.008483,
     "end_time": "2024-01-25T14:05:15.982114",
     "exception": false,
     "start_time": "2024-01-25T14:05:12.973631",
     "status": "completed"
    },
    "tags": []
   },
   "outputs": [
    {
     "name": "stdout",
     "output_type": "stream",
     "text": [
      "x_test_resized_rgb shape: (10000, 32, 32, 3)\n",
      "313/313 [==============================] - 2s 6ms/step - loss: 0.0366 - accuracy: 0.9876\n",
      "Accuracy of the model: 98.7600028514862\n"
     ]
    }
   ],
   "source": [
    "import cv2\n",
    "import numpy as np\n",
    "\n",
    "# Resize MNIST images to match the model's input size (32x32)\n",
    "x_test_resized = np.array([cv2.resize(img, (32, 32)) for img in x_test])\n",
    "\n",
    "# Ensure x_test_resized has the same number of features as x_train\n",
    "x_test_resized = x_test_resized.reshape(-1, 32, 32, 1)\n",
    "\n",
    "# Convert to three-channel representation\n",
    "x_test_resized_rgb = np.concatenate([x_test_resized] * 3, axis=-1)\n",
    "\n",
    "# Print shapes for verification\n",
    "print(\"x_test_resized_rgb shape:\", x_test_resized_rgb.shape)\n",
    "\n",
    "y_test_one_hot = to_categorical(y_test, num_classes=10)\n",
    "\n",
    "# Evaluate the model with one-hot encoded labels\n",
    "accuracy = model.evaluate(x_test_resized_rgb, y_test_one_hot)[1]\n",
    "print('Accuracy of the model:', accuracy * 100)"
   ]
  },
  {
   "cell_type": "markdown",
   "id": "5aa5eb78",
   "metadata": {
    "papermill": {
     "duration": 0.024874,
     "end_time": "2024-01-25T14:05:16.032688",
     "exception": false,
     "start_time": "2024-01-25T14:05:16.007814",
     "status": "completed"
    },
    "tags": []
   },
   "source": [
    "## 7. Submission"
   ]
  },
  {
   "cell_type": "code",
   "execution_count": 23,
   "id": "9ef66c81",
   "metadata": {
    "execution": {
     "iopub.execute_input": "2024-01-25T14:05:16.084858Z",
     "iopub.status.busy": "2024-01-25T14:05:16.084457Z",
     "iopub.status.idle": "2024-01-25T14:05:16.172286Z",
     "shell.execute_reply": "2024-01-25T14:05:16.171031Z"
    },
    "papermill": {
     "duration": 0.117359,
     "end_time": "2024-01-25T14:05:16.175254",
     "exception": false,
     "start_time": "2024-01-25T14:05:16.057895",
     "status": "completed"
    },
    "tags": []
   },
   "outputs": [],
   "source": [
    "submission = pd.concat([pd.Series(range(1,28001),name = \"ImageId\"),results],axis = 1)\n",
    "\n",
    "submission.to_csv(\"submission.csv\",index=False)\n"
   ]
  },
  {
   "cell_type": "code",
   "execution_count": 24,
   "id": "a87ae846",
   "metadata": {
    "execution": {
     "iopub.execute_input": "2024-01-25T14:05:16.228189Z",
     "iopub.status.busy": "2024-01-25T14:05:16.227734Z",
     "iopub.status.idle": "2024-01-25T14:05:16.249963Z",
     "shell.execute_reply": "2024-01-25T14:05:16.248061Z"
    },
    "papermill": {
     "duration": 0.052035,
     "end_time": "2024-01-25T14:05:16.253285",
     "exception": false,
     "start_time": "2024-01-25T14:05:16.201250",
     "status": "completed"
    },
    "tags": []
   },
   "outputs": [
    {
     "data": {
      "text/html": [
       "<div>\n",
       "<style scoped>\n",
       "    .dataframe tbody tr th:only-of-type {\n",
       "        vertical-align: middle;\n",
       "    }\n",
       "\n",
       "    .dataframe tbody tr th {\n",
       "        vertical-align: top;\n",
       "    }\n",
       "\n",
       "    .dataframe thead th {\n",
       "        text-align: right;\n",
       "    }\n",
       "</style>\n",
       "<table border=\"1\" class=\"dataframe\">\n",
       "  <thead>\n",
       "    <tr style=\"text-align: right;\">\n",
       "      <th></th>\n",
       "      <th>ImageId</th>\n",
       "      <th>Label</th>\n",
       "    </tr>\n",
       "  </thead>\n",
       "  <tbody>\n",
       "    <tr>\n",
       "      <th>0</th>\n",
       "      <td>1</td>\n",
       "      <td>7.0</td>\n",
       "    </tr>\n",
       "    <tr>\n",
       "      <th>1</th>\n",
       "      <td>2</td>\n",
       "      <td>2.0</td>\n",
       "    </tr>\n",
       "    <tr>\n",
       "      <th>2</th>\n",
       "      <td>3</td>\n",
       "      <td>1.0</td>\n",
       "    </tr>\n",
       "    <tr>\n",
       "      <th>3</th>\n",
       "      <td>4</td>\n",
       "      <td>0.0</td>\n",
       "    </tr>\n",
       "    <tr>\n",
       "      <th>4</th>\n",
       "      <td>5</td>\n",
       "      <td>4.0</td>\n",
       "    </tr>\n",
       "  </tbody>\n",
       "</table>\n",
       "</div>"
      ],
      "text/plain": [
       "   ImageId  Label\n",
       "0        1    7.0\n",
       "1        2    2.0\n",
       "2        3    1.0\n",
       "3        4    0.0\n",
       "4        5    4.0"
      ]
     },
     "execution_count": 24,
     "metadata": {},
     "output_type": "execute_result"
    }
   ],
   "source": [
    "submission.head()"
   ]
  },
  {
   "cell_type": "markdown",
   "id": "cfcb91f5",
   "metadata": {
    "papermill": {
     "duration": 0.025182,
     "end_time": "2024-01-25T14:05:16.304048",
     "exception": false,
     "start_time": "2024-01-25T14:05:16.278866",
     "status": "completed"
    },
    "tags": []
   },
   "source": [
    "# Conclusion\n",
    "\n",
    "In this project, we employed the LeNet-5 architecture for digit recognition on the MNIST dataset. The model exhibited exceptional performance, achieving an impressive accuracy of 99.019%.\n",
    "\n",
    "The high accuracy underscores the effectiveness of LeNet-5 in digit recognition tasks. Its relatively simple architecture, characterized by convolutional and pooling layers followed by fully connected layers, proved to be well-suited for the MNIST dataset.\n",
    "\n",
    "The successful implementation of LeNet-5 in this project underscores its relevance and efficacy in image classification tasks, particularly for handwritten digit recognition.\n",
    "\n",
    "Further exploration and experimentation with different architectures may offer insights into potential improvements or alternative approaches, but the results obtained reaffirm the efficacy of LeNet-5 for digit recognition tasks.\n"
   ]
  }
 ],
 "metadata": {
  "kaggle": {
   "accelerator": "none",
   "dataSources": [
    {
     "datasetId": 27352,
     "sourceId": 34877,
     "sourceType": "datasetVersion"
    }
   ],
   "dockerImageVersionId": 30635,
   "isGpuEnabled": false,
   "isInternetEnabled": true,
   "language": "python",
   "sourceType": "notebook"
  },
  "kernelspec": {
   "display_name": "Python 3",
   "language": "python",
   "name": "python3"
  },
  "language_info": {
   "codemirror_mode": {
    "name": "ipython",
    "version": 3
   },
   "file_extension": ".py",
   "mimetype": "text/x-python",
   "name": "python",
   "nbconvert_exporter": "python",
   "pygments_lexer": "ipython3",
   "version": "3.10.12"
  },
  "papermill": {
   "default_parameters": {},
   "duration": 223.385989,
   "end_time": "2024-01-25T14:05:18.258591",
   "environment_variables": {},
   "exception": null,
   "input_path": "__notebook__.ipynb",
   "output_path": "__notebook__.ipynb",
   "parameters": {},
   "start_time": "2024-01-25T14:01:34.872602",
   "version": "2.4.0"
  }
 },
 "nbformat": 4,
 "nbformat_minor": 5
}
